{
 "cells": [
  {
   "cell_type": "markdown",
   "id": "31d1dd90",
   "metadata": {},
   "source": [
    "## Importância de Variáveis"
   ]
  },
  {
   "cell_type": "code",
   "execution_count": 2,
   "id": "ca340f46",
   "metadata": {},
   "outputs": [],
   "source": [
    "import pandas as pd\n",
    "import numpy as np\n",
    "import matplotlib.pyplot as plt"
   ]
  },
  {
   "cell_type": "markdown",
   "id": "c583e099",
   "metadata": {},
   "source": [
    "#### Leitura dos dados"
   ]
  },
  {
   "cell_type": "code",
   "execution_count": 3,
   "id": "67bd1e14",
   "metadata": {},
   "outputs": [],
   "source": [
    "df = pd.read_csv('./dados/feat_imp.csv')"
   ]
  },
  {
   "cell_type": "code",
   "execution_count": 4,
   "id": "dd68335e",
   "metadata": {},
   "outputs": [
    {
     "data": {
      "text/html": [
       "<div>\n",
       "<style scoped>\n",
       "    .dataframe tbody tr th:only-of-type {\n",
       "        vertical-align: middle;\n",
       "    }\n",
       "\n",
       "    .dataframe tbody tr th {\n",
       "        vertical-align: top;\n",
       "    }\n",
       "\n",
       "    .dataframe thead th {\n",
       "        text-align: right;\n",
       "    }\n",
       "</style>\n",
       "<table border=\"1\" class=\"dataframe\">\n",
       "  <thead>\n",
       "    <tr style=\"text-align: right;\">\n",
       "      <th></th>\n",
       "      <th>CreditScore</th>\n",
       "      <th>Age</th>\n",
       "      <th>Tenure</th>\n",
       "      <th>Balance</th>\n",
       "      <th>NumOfProducts</th>\n",
       "      <th>HasCrCard</th>\n",
       "      <th>IsActiveMember</th>\n",
       "      <th>EstimatedSalary</th>\n",
       "      <th>Geography_France</th>\n",
       "      <th>Geography_Germany</th>\n",
       "      <th>Geography_Spain</th>\n",
       "      <th>Gender_Female</th>\n",
       "      <th>Gender_Male</th>\n",
       "      <th>Exited</th>\n",
       "    </tr>\n",
       "  </thead>\n",
       "  <tbody>\n",
       "    <tr>\n",
       "      <th>0</th>\n",
       "      <td>619</td>\n",
       "      <td>42</td>\n",
       "      <td>2</td>\n",
       "      <td>0.00</td>\n",
       "      <td>1</td>\n",
       "      <td>1</td>\n",
       "      <td>1</td>\n",
       "      <td>101348.88</td>\n",
       "      <td>1</td>\n",
       "      <td>0</td>\n",
       "      <td>0</td>\n",
       "      <td>1</td>\n",
       "      <td>0</td>\n",
       "      <td>1</td>\n",
       "    </tr>\n",
       "    <tr>\n",
       "      <th>1</th>\n",
       "      <td>608</td>\n",
       "      <td>41</td>\n",
       "      <td>1</td>\n",
       "      <td>83807.86</td>\n",
       "      <td>1</td>\n",
       "      <td>0</td>\n",
       "      <td>1</td>\n",
       "      <td>112542.58</td>\n",
       "      <td>0</td>\n",
       "      <td>0</td>\n",
       "      <td>1</td>\n",
       "      <td>1</td>\n",
       "      <td>0</td>\n",
       "      <td>0</td>\n",
       "    </tr>\n",
       "    <tr>\n",
       "      <th>2</th>\n",
       "      <td>502</td>\n",
       "      <td>42</td>\n",
       "      <td>8</td>\n",
       "      <td>159660.80</td>\n",
       "      <td>3</td>\n",
       "      <td>1</td>\n",
       "      <td>0</td>\n",
       "      <td>113931.57</td>\n",
       "      <td>1</td>\n",
       "      <td>0</td>\n",
       "      <td>0</td>\n",
       "      <td>1</td>\n",
       "      <td>0</td>\n",
       "      <td>1</td>\n",
       "    </tr>\n",
       "    <tr>\n",
       "      <th>3</th>\n",
       "      <td>699</td>\n",
       "      <td>39</td>\n",
       "      <td>1</td>\n",
       "      <td>0.00</td>\n",
       "      <td>2</td>\n",
       "      <td>0</td>\n",
       "      <td>0</td>\n",
       "      <td>93826.63</td>\n",
       "      <td>1</td>\n",
       "      <td>0</td>\n",
       "      <td>0</td>\n",
       "      <td>1</td>\n",
       "      <td>0</td>\n",
       "      <td>0</td>\n",
       "    </tr>\n",
       "    <tr>\n",
       "      <th>4</th>\n",
       "      <td>850</td>\n",
       "      <td>43</td>\n",
       "      <td>2</td>\n",
       "      <td>125510.82</td>\n",
       "      <td>1</td>\n",
       "      <td>1</td>\n",
       "      <td>1</td>\n",
       "      <td>79084.10</td>\n",
       "      <td>0</td>\n",
       "      <td>0</td>\n",
       "      <td>1</td>\n",
       "      <td>1</td>\n",
       "      <td>0</td>\n",
       "      <td>0</td>\n",
       "    </tr>\n",
       "    <tr>\n",
       "      <th>...</th>\n",
       "      <td>...</td>\n",
       "      <td>...</td>\n",
       "      <td>...</td>\n",
       "      <td>...</td>\n",
       "      <td>...</td>\n",
       "      <td>...</td>\n",
       "      <td>...</td>\n",
       "      <td>...</td>\n",
       "      <td>...</td>\n",
       "      <td>...</td>\n",
       "      <td>...</td>\n",
       "      <td>...</td>\n",
       "      <td>...</td>\n",
       "      <td>...</td>\n",
       "    </tr>\n",
       "    <tr>\n",
       "      <th>9995</th>\n",
       "      <td>771</td>\n",
       "      <td>39</td>\n",
       "      <td>5</td>\n",
       "      <td>0.00</td>\n",
       "      <td>2</td>\n",
       "      <td>1</td>\n",
       "      <td>0</td>\n",
       "      <td>96270.64</td>\n",
       "      <td>1</td>\n",
       "      <td>0</td>\n",
       "      <td>0</td>\n",
       "      <td>0</td>\n",
       "      <td>1</td>\n",
       "      <td>0</td>\n",
       "    </tr>\n",
       "    <tr>\n",
       "      <th>9996</th>\n",
       "      <td>516</td>\n",
       "      <td>35</td>\n",
       "      <td>10</td>\n",
       "      <td>57369.61</td>\n",
       "      <td>1</td>\n",
       "      <td>1</td>\n",
       "      <td>1</td>\n",
       "      <td>101699.77</td>\n",
       "      <td>1</td>\n",
       "      <td>0</td>\n",
       "      <td>0</td>\n",
       "      <td>0</td>\n",
       "      <td>1</td>\n",
       "      <td>0</td>\n",
       "    </tr>\n",
       "    <tr>\n",
       "      <th>9997</th>\n",
       "      <td>709</td>\n",
       "      <td>36</td>\n",
       "      <td>7</td>\n",
       "      <td>0.00</td>\n",
       "      <td>1</td>\n",
       "      <td>0</td>\n",
       "      <td>1</td>\n",
       "      <td>42085.58</td>\n",
       "      <td>1</td>\n",
       "      <td>0</td>\n",
       "      <td>0</td>\n",
       "      <td>1</td>\n",
       "      <td>0</td>\n",
       "      <td>1</td>\n",
       "    </tr>\n",
       "    <tr>\n",
       "      <th>9998</th>\n",
       "      <td>772</td>\n",
       "      <td>42</td>\n",
       "      <td>3</td>\n",
       "      <td>75075.31</td>\n",
       "      <td>2</td>\n",
       "      <td>1</td>\n",
       "      <td>0</td>\n",
       "      <td>92888.52</td>\n",
       "      <td>0</td>\n",
       "      <td>1</td>\n",
       "      <td>0</td>\n",
       "      <td>0</td>\n",
       "      <td>1</td>\n",
       "      <td>1</td>\n",
       "    </tr>\n",
       "    <tr>\n",
       "      <th>9999</th>\n",
       "      <td>792</td>\n",
       "      <td>28</td>\n",
       "      <td>4</td>\n",
       "      <td>130142.79</td>\n",
       "      <td>1</td>\n",
       "      <td>1</td>\n",
       "      <td>0</td>\n",
       "      <td>38190.78</td>\n",
       "      <td>1</td>\n",
       "      <td>0</td>\n",
       "      <td>0</td>\n",
       "      <td>1</td>\n",
       "      <td>0</td>\n",
       "      <td>0</td>\n",
       "    </tr>\n",
       "  </tbody>\n",
       "</table>\n",
       "<p>10000 rows × 14 columns</p>\n",
       "</div>"
      ],
      "text/plain": [
       "      CreditScore  Age  Tenure    Balance  NumOfProducts  HasCrCard  \\\n",
       "0             619   42       2       0.00              1          1   \n",
       "1             608   41       1   83807.86              1          0   \n",
       "2             502   42       8  159660.80              3          1   \n",
       "3             699   39       1       0.00              2          0   \n",
       "4             850   43       2  125510.82              1          1   \n",
       "...           ...  ...     ...        ...            ...        ...   \n",
       "9995          771   39       5       0.00              2          1   \n",
       "9996          516   35      10   57369.61              1          1   \n",
       "9997          709   36       7       0.00              1          0   \n",
       "9998          772   42       3   75075.31              2          1   \n",
       "9999          792   28       4  130142.79              1          1   \n",
       "\n",
       "      IsActiveMember  EstimatedSalary  Geography_France  Geography_Germany  \\\n",
       "0                  1        101348.88                 1                  0   \n",
       "1                  1        112542.58                 0                  0   \n",
       "2                  0        113931.57                 1                  0   \n",
       "3                  0         93826.63                 1                  0   \n",
       "4                  1         79084.10                 0                  0   \n",
       "...              ...              ...               ...                ...   \n",
       "9995               0         96270.64                 1                  0   \n",
       "9996               1        101699.77                 1                  0   \n",
       "9997               1         42085.58                 1                  0   \n",
       "9998               0         92888.52                 0                  1   \n",
       "9999               0         38190.78                 1                  0   \n",
       "\n",
       "      Geography_Spain  Gender_Female  Gender_Male  Exited  \n",
       "0                   0              1            0       1  \n",
       "1                   1              1            0       0  \n",
       "2                   0              1            0       1  \n",
       "3                   0              1            0       0  \n",
       "4                   1              1            0       0  \n",
       "...               ...            ...          ...     ...  \n",
       "9995                0              0            1       0  \n",
       "9996                0              0            1       0  \n",
       "9997                0              1            0       1  \n",
       "9998                0              0            1       1  \n",
       "9999                0              1            0       0  \n",
       "\n",
       "[10000 rows x 14 columns]"
      ]
     },
     "execution_count": 4,
     "metadata": {},
     "output_type": "execute_result"
    }
   ],
   "source": [
    "df"
   ]
  },
  {
   "cell_type": "markdown",
   "id": "419bb98b",
   "metadata": {},
   "source": [
    "#### Separação entre X e y"
   ]
  },
  {
   "cell_type": "code",
   "execution_count": 5,
   "id": "686fb8df",
   "metadata": {},
   "outputs": [
    {
     "data": {
      "text/html": [
       "<div>\n",
       "<style scoped>\n",
       "    .dataframe tbody tr th:only-of-type {\n",
       "        vertical-align: middle;\n",
       "    }\n",
       "\n",
       "    .dataframe tbody tr th {\n",
       "        vertical-align: top;\n",
       "    }\n",
       "\n",
       "    .dataframe thead th {\n",
       "        text-align: right;\n",
       "    }\n",
       "</style>\n",
       "<table border=\"1\" class=\"dataframe\">\n",
       "  <thead>\n",
       "    <tr style=\"text-align: right;\">\n",
       "      <th></th>\n",
       "      <th>CreditScore</th>\n",
       "      <th>Age</th>\n",
       "      <th>Tenure</th>\n",
       "      <th>Balance</th>\n",
       "      <th>NumOfProducts</th>\n",
       "      <th>HasCrCard</th>\n",
       "      <th>IsActiveMember</th>\n",
       "      <th>EstimatedSalary</th>\n",
       "      <th>Geography_France</th>\n",
       "      <th>Geography_Germany</th>\n",
       "      <th>Geography_Spain</th>\n",
       "      <th>Gender_Female</th>\n",
       "      <th>Gender_Male</th>\n",
       "    </tr>\n",
       "  </thead>\n",
       "  <tbody>\n",
       "    <tr>\n",
       "      <th>0</th>\n",
       "      <td>619</td>\n",
       "      <td>42</td>\n",
       "      <td>2</td>\n",
       "      <td>0.00</td>\n",
       "      <td>1</td>\n",
       "      <td>1</td>\n",
       "      <td>1</td>\n",
       "      <td>101348.88</td>\n",
       "      <td>1</td>\n",
       "      <td>0</td>\n",
       "      <td>0</td>\n",
       "      <td>1</td>\n",
       "      <td>0</td>\n",
       "    </tr>\n",
       "    <tr>\n",
       "      <th>1</th>\n",
       "      <td>608</td>\n",
       "      <td>41</td>\n",
       "      <td>1</td>\n",
       "      <td>83807.86</td>\n",
       "      <td>1</td>\n",
       "      <td>0</td>\n",
       "      <td>1</td>\n",
       "      <td>112542.58</td>\n",
       "      <td>0</td>\n",
       "      <td>0</td>\n",
       "      <td>1</td>\n",
       "      <td>1</td>\n",
       "      <td>0</td>\n",
       "    </tr>\n",
       "    <tr>\n",
       "      <th>2</th>\n",
       "      <td>502</td>\n",
       "      <td>42</td>\n",
       "      <td>8</td>\n",
       "      <td>159660.80</td>\n",
       "      <td>3</td>\n",
       "      <td>1</td>\n",
       "      <td>0</td>\n",
       "      <td>113931.57</td>\n",
       "      <td>1</td>\n",
       "      <td>0</td>\n",
       "      <td>0</td>\n",
       "      <td>1</td>\n",
       "      <td>0</td>\n",
       "    </tr>\n",
       "    <tr>\n",
       "      <th>3</th>\n",
       "      <td>699</td>\n",
       "      <td>39</td>\n",
       "      <td>1</td>\n",
       "      <td>0.00</td>\n",
       "      <td>2</td>\n",
       "      <td>0</td>\n",
       "      <td>0</td>\n",
       "      <td>93826.63</td>\n",
       "      <td>1</td>\n",
       "      <td>0</td>\n",
       "      <td>0</td>\n",
       "      <td>1</td>\n",
       "      <td>0</td>\n",
       "    </tr>\n",
       "    <tr>\n",
       "      <th>4</th>\n",
       "      <td>850</td>\n",
       "      <td>43</td>\n",
       "      <td>2</td>\n",
       "      <td>125510.82</td>\n",
       "      <td>1</td>\n",
       "      <td>1</td>\n",
       "      <td>1</td>\n",
       "      <td>79084.10</td>\n",
       "      <td>0</td>\n",
       "      <td>0</td>\n",
       "      <td>1</td>\n",
       "      <td>1</td>\n",
       "      <td>0</td>\n",
       "    </tr>\n",
       "    <tr>\n",
       "      <th>...</th>\n",
       "      <td>...</td>\n",
       "      <td>...</td>\n",
       "      <td>...</td>\n",
       "      <td>...</td>\n",
       "      <td>...</td>\n",
       "      <td>...</td>\n",
       "      <td>...</td>\n",
       "      <td>...</td>\n",
       "      <td>...</td>\n",
       "      <td>...</td>\n",
       "      <td>...</td>\n",
       "      <td>...</td>\n",
       "      <td>...</td>\n",
       "    </tr>\n",
       "    <tr>\n",
       "      <th>9995</th>\n",
       "      <td>771</td>\n",
       "      <td>39</td>\n",
       "      <td>5</td>\n",
       "      <td>0.00</td>\n",
       "      <td>2</td>\n",
       "      <td>1</td>\n",
       "      <td>0</td>\n",
       "      <td>96270.64</td>\n",
       "      <td>1</td>\n",
       "      <td>0</td>\n",
       "      <td>0</td>\n",
       "      <td>0</td>\n",
       "      <td>1</td>\n",
       "    </tr>\n",
       "    <tr>\n",
       "      <th>9996</th>\n",
       "      <td>516</td>\n",
       "      <td>35</td>\n",
       "      <td>10</td>\n",
       "      <td>57369.61</td>\n",
       "      <td>1</td>\n",
       "      <td>1</td>\n",
       "      <td>1</td>\n",
       "      <td>101699.77</td>\n",
       "      <td>1</td>\n",
       "      <td>0</td>\n",
       "      <td>0</td>\n",
       "      <td>0</td>\n",
       "      <td>1</td>\n",
       "    </tr>\n",
       "    <tr>\n",
       "      <th>9997</th>\n",
       "      <td>709</td>\n",
       "      <td>36</td>\n",
       "      <td>7</td>\n",
       "      <td>0.00</td>\n",
       "      <td>1</td>\n",
       "      <td>0</td>\n",
       "      <td>1</td>\n",
       "      <td>42085.58</td>\n",
       "      <td>1</td>\n",
       "      <td>0</td>\n",
       "      <td>0</td>\n",
       "      <td>1</td>\n",
       "      <td>0</td>\n",
       "    </tr>\n",
       "    <tr>\n",
       "      <th>9998</th>\n",
       "      <td>772</td>\n",
       "      <td>42</td>\n",
       "      <td>3</td>\n",
       "      <td>75075.31</td>\n",
       "      <td>2</td>\n",
       "      <td>1</td>\n",
       "      <td>0</td>\n",
       "      <td>92888.52</td>\n",
       "      <td>0</td>\n",
       "      <td>1</td>\n",
       "      <td>0</td>\n",
       "      <td>0</td>\n",
       "      <td>1</td>\n",
       "    </tr>\n",
       "    <tr>\n",
       "      <th>9999</th>\n",
       "      <td>792</td>\n",
       "      <td>28</td>\n",
       "      <td>4</td>\n",
       "      <td>130142.79</td>\n",
       "      <td>1</td>\n",
       "      <td>1</td>\n",
       "      <td>0</td>\n",
       "      <td>38190.78</td>\n",
       "      <td>1</td>\n",
       "      <td>0</td>\n",
       "      <td>0</td>\n",
       "      <td>1</td>\n",
       "      <td>0</td>\n",
       "    </tr>\n",
       "  </tbody>\n",
       "</table>\n",
       "<p>10000 rows × 13 columns</p>\n",
       "</div>"
      ],
      "text/plain": [
       "      CreditScore  Age  Tenure    Balance  NumOfProducts  HasCrCard  \\\n",
       "0             619   42       2       0.00              1          1   \n",
       "1             608   41       1   83807.86              1          0   \n",
       "2             502   42       8  159660.80              3          1   \n",
       "3             699   39       1       0.00              2          0   \n",
       "4             850   43       2  125510.82              1          1   \n",
       "...           ...  ...     ...        ...            ...        ...   \n",
       "9995          771   39       5       0.00              2          1   \n",
       "9996          516   35      10   57369.61              1          1   \n",
       "9997          709   36       7       0.00              1          0   \n",
       "9998          772   42       3   75075.31              2          1   \n",
       "9999          792   28       4  130142.79              1          1   \n",
       "\n",
       "      IsActiveMember  EstimatedSalary  Geography_France  Geography_Germany  \\\n",
       "0                  1        101348.88                 1                  0   \n",
       "1                  1        112542.58                 0                  0   \n",
       "2                  0        113931.57                 1                  0   \n",
       "3                  0         93826.63                 1                  0   \n",
       "4                  1         79084.10                 0                  0   \n",
       "...              ...              ...               ...                ...   \n",
       "9995               0         96270.64                 1                  0   \n",
       "9996               1        101699.77                 1                  0   \n",
       "9997               1         42085.58                 1                  0   \n",
       "9998               0         92888.52                 0                  1   \n",
       "9999               0         38190.78                 1                  0   \n",
       "\n",
       "      Geography_Spain  Gender_Female  Gender_Male  \n",
       "0                   0              1            0  \n",
       "1                   1              1            0  \n",
       "2                   0              1            0  \n",
       "3                   0              1            0  \n",
       "4                   1              1            0  \n",
       "...               ...            ...          ...  \n",
       "9995                0              0            1  \n",
       "9996                0              0            1  \n",
       "9997                0              1            0  \n",
       "9998                0              0            1  \n",
       "9999                0              1            0  \n",
       "\n",
       "[10000 rows x 13 columns]"
      ]
     },
     "execution_count": 5,
     "metadata": {},
     "output_type": "execute_result"
    }
   ],
   "source": [
    "X = df.drop('Exited', axis=1)\n",
    "y = df.Exited\n",
    "\n",
    "X"
   ]
  },
  {
   "cell_type": "code",
   "execution_count": 6,
   "id": "2b26043c",
   "metadata": {},
   "outputs": [
    {
     "data": {
      "text/plain": [
       "0       1\n",
       "1       0\n",
       "2       1\n",
       "3       0\n",
       "4       0\n",
       "       ..\n",
       "9995    0\n",
       "9996    0\n",
       "9997    1\n",
       "9998    1\n",
       "9999    0\n",
       "Name: Exited, Length: 10000, dtype: int64"
      ]
     },
     "execution_count": 6,
     "metadata": {},
     "output_type": "execute_result"
    }
   ],
   "source": [
    "y"
   ]
  },
  {
   "cell_type": "markdown",
   "id": "5a3eb3af",
   "metadata": {},
   "source": [
    "#### Divisão da base em conjuntos de treino e teste"
   ]
  },
  {
   "cell_type": "code",
   "execution_count": 7,
   "id": "eec6860c",
   "metadata": {},
   "outputs": [],
   "source": [
    "from sklearn.model_selection import train_test_split\n",
    "\n",
    "X_treino, X_teste, y_treino, y_teste = train_test_split(X, y, test_size=.3, random_state=61658)"
   ]
  },
  {
   "cell_type": "code",
   "execution_count": 8,
   "id": "466f0ab8",
   "metadata": {},
   "outputs": [
    {
     "data": {
      "text/html": [
       "<div>\n",
       "<style scoped>\n",
       "    .dataframe tbody tr th:only-of-type {\n",
       "        vertical-align: middle;\n",
       "    }\n",
       "\n",
       "    .dataframe tbody tr th {\n",
       "        vertical-align: top;\n",
       "    }\n",
       "\n",
       "    .dataframe thead th {\n",
       "        text-align: right;\n",
       "    }\n",
       "</style>\n",
       "<table border=\"1\" class=\"dataframe\">\n",
       "  <thead>\n",
       "    <tr style=\"text-align: right;\">\n",
       "      <th></th>\n",
       "      <th>CreditScore</th>\n",
       "      <th>Age</th>\n",
       "      <th>Tenure</th>\n",
       "      <th>Balance</th>\n",
       "      <th>NumOfProducts</th>\n",
       "      <th>HasCrCard</th>\n",
       "      <th>IsActiveMember</th>\n",
       "      <th>EstimatedSalary</th>\n",
       "      <th>Geography_France</th>\n",
       "      <th>Geography_Germany</th>\n",
       "      <th>Geography_Spain</th>\n",
       "      <th>Gender_Female</th>\n",
       "      <th>Gender_Male</th>\n",
       "    </tr>\n",
       "  </thead>\n",
       "  <tbody>\n",
       "    <tr>\n",
       "      <th>9057</th>\n",
       "      <td>704</td>\n",
       "      <td>33</td>\n",
       "      <td>0</td>\n",
       "      <td>130499.09</td>\n",
       "      <td>2</td>\n",
       "      <td>1</td>\n",
       "      <td>1</td>\n",
       "      <td>74804.36</td>\n",
       "      <td>1</td>\n",
       "      <td>0</td>\n",
       "      <td>0</td>\n",
       "      <td>1</td>\n",
       "      <td>0</td>\n",
       "    </tr>\n",
       "    <tr>\n",
       "      <th>81</th>\n",
       "      <td>777</td>\n",
       "      <td>32</td>\n",
       "      <td>2</td>\n",
       "      <td>0.00</td>\n",
       "      <td>1</td>\n",
       "      <td>1</td>\n",
       "      <td>0</td>\n",
       "      <td>136458.19</td>\n",
       "      <td>1</td>\n",
       "      <td>0</td>\n",
       "      <td>0</td>\n",
       "      <td>1</td>\n",
       "      <td>0</td>\n",
       "    </tr>\n",
       "    <tr>\n",
       "      <th>3433</th>\n",
       "      <td>587</td>\n",
       "      <td>37</td>\n",
       "      <td>6</td>\n",
       "      <td>104414.03</td>\n",
       "      <td>1</td>\n",
       "      <td>1</td>\n",
       "      <td>0</td>\n",
       "      <td>192026.02</td>\n",
       "      <td>0</td>\n",
       "      <td>1</td>\n",
       "      <td>0</td>\n",
       "      <td>1</td>\n",
       "      <td>0</td>\n",
       "    </tr>\n",
       "    <tr>\n",
       "      <th>1768</th>\n",
       "      <td>760</td>\n",
       "      <td>28</td>\n",
       "      <td>1</td>\n",
       "      <td>141038.57</td>\n",
       "      <td>2</td>\n",
       "      <td>0</td>\n",
       "      <td>0</td>\n",
       "      <td>16287.38</td>\n",
       "      <td>0</td>\n",
       "      <td>0</td>\n",
       "      <td>1</td>\n",
       "      <td>0</td>\n",
       "      <td>1</td>\n",
       "    </tr>\n",
       "    <tr>\n",
       "      <th>1888</th>\n",
       "      <td>429</td>\n",
       "      <td>60</td>\n",
       "      <td>7</td>\n",
       "      <td>0.00</td>\n",
       "      <td>2</td>\n",
       "      <td>1</td>\n",
       "      <td>1</td>\n",
       "      <td>163691.48</td>\n",
       "      <td>1</td>\n",
       "      <td>0</td>\n",
       "      <td>0</td>\n",
       "      <td>0</td>\n",
       "      <td>1</td>\n",
       "    </tr>\n",
       "    <tr>\n",
       "      <th>...</th>\n",
       "      <td>...</td>\n",
       "      <td>...</td>\n",
       "      <td>...</td>\n",
       "      <td>...</td>\n",
       "      <td>...</td>\n",
       "      <td>...</td>\n",
       "      <td>...</td>\n",
       "      <td>...</td>\n",
       "      <td>...</td>\n",
       "      <td>...</td>\n",
       "      <td>...</td>\n",
       "      <td>...</td>\n",
       "      <td>...</td>\n",
       "    </tr>\n",
       "    <tr>\n",
       "      <th>4368</th>\n",
       "      <td>648</td>\n",
       "      <td>33</td>\n",
       "      <td>5</td>\n",
       "      <td>138664.24</td>\n",
       "      <td>1</td>\n",
       "      <td>1</td>\n",
       "      <td>0</td>\n",
       "      <td>29076.27</td>\n",
       "      <td>0</td>\n",
       "      <td>1</td>\n",
       "      <td>0</td>\n",
       "      <td>0</td>\n",
       "      <td>1</td>\n",
       "    </tr>\n",
       "    <tr>\n",
       "      <th>9637</th>\n",
       "      <td>790</td>\n",
       "      <td>31</td>\n",
       "      <td>2</td>\n",
       "      <td>151290.16</td>\n",
       "      <td>1</td>\n",
       "      <td>1</td>\n",
       "      <td>1</td>\n",
       "      <td>172437.12</td>\n",
       "      <td>1</td>\n",
       "      <td>0</td>\n",
       "      <td>0</td>\n",
       "      <td>1</td>\n",
       "      <td>0</td>\n",
       "    </tr>\n",
       "    <tr>\n",
       "      <th>8675</th>\n",
       "      <td>714</td>\n",
       "      <td>54</td>\n",
       "      <td>7</td>\n",
       "      <td>126113.28</td>\n",
       "      <td>1</td>\n",
       "      <td>1</td>\n",
       "      <td>0</td>\n",
       "      <td>112777.38</td>\n",
       "      <td>1</td>\n",
       "      <td>0</td>\n",
       "      <td>0</td>\n",
       "      <td>0</td>\n",
       "      <td>1</td>\n",
       "    </tr>\n",
       "    <tr>\n",
       "      <th>8806</th>\n",
       "      <td>681</td>\n",
       "      <td>38</td>\n",
       "      <td>6</td>\n",
       "      <td>181804.34</td>\n",
       "      <td>2</td>\n",
       "      <td>1</td>\n",
       "      <td>1</td>\n",
       "      <td>57517.71</td>\n",
       "      <td>0</td>\n",
       "      <td>1</td>\n",
       "      <td>0</td>\n",
       "      <td>0</td>\n",
       "      <td>1</td>\n",
       "    </tr>\n",
       "    <tr>\n",
       "      <th>3836</th>\n",
       "      <td>645</td>\n",
       "      <td>49</td>\n",
       "      <td>5</td>\n",
       "      <td>110132.55</td>\n",
       "      <td>3</td>\n",
       "      <td>0</td>\n",
       "      <td>1</td>\n",
       "      <td>187689.91</td>\n",
       "      <td>0</td>\n",
       "      <td>0</td>\n",
       "      <td>1</td>\n",
       "      <td>1</td>\n",
       "      <td>0</td>\n",
       "    </tr>\n",
       "  </tbody>\n",
       "</table>\n",
       "<p>7000 rows × 13 columns</p>\n",
       "</div>"
      ],
      "text/plain": [
       "      CreditScore  Age  Tenure    Balance  NumOfProducts  HasCrCard  \\\n",
       "9057          704   33       0  130499.09              2          1   \n",
       "81            777   32       2       0.00              1          1   \n",
       "3433          587   37       6  104414.03              1          1   \n",
       "1768          760   28       1  141038.57              2          0   \n",
       "1888          429   60       7       0.00              2          1   \n",
       "...           ...  ...     ...        ...            ...        ...   \n",
       "4368          648   33       5  138664.24              1          1   \n",
       "9637          790   31       2  151290.16              1          1   \n",
       "8675          714   54       7  126113.28              1          1   \n",
       "8806          681   38       6  181804.34              2          1   \n",
       "3836          645   49       5  110132.55              3          0   \n",
       "\n",
       "      IsActiveMember  EstimatedSalary  Geography_France  Geography_Germany  \\\n",
       "9057               1         74804.36                 1                  0   \n",
       "81                 0        136458.19                 1                  0   \n",
       "3433               0        192026.02                 0                  1   \n",
       "1768               0         16287.38                 0                  0   \n",
       "1888               1        163691.48                 1                  0   \n",
       "...              ...              ...               ...                ...   \n",
       "4368               0         29076.27                 0                  1   \n",
       "9637               1        172437.12                 1                  0   \n",
       "8675               0        112777.38                 1                  0   \n",
       "8806               1         57517.71                 0                  1   \n",
       "3836               1        187689.91                 0                  0   \n",
       "\n",
       "      Geography_Spain  Gender_Female  Gender_Male  \n",
       "9057                0              1            0  \n",
       "81                  0              1            0  \n",
       "3433                0              1            0  \n",
       "1768                1              0            1  \n",
       "1888                0              0            1  \n",
       "...               ...            ...          ...  \n",
       "4368                0              0            1  \n",
       "9637                0              1            0  \n",
       "8675                0              0            1  \n",
       "8806                0              0            1  \n",
       "3836                1              1            0  \n",
       "\n",
       "[7000 rows x 13 columns]"
      ]
     },
     "execution_count": 8,
     "metadata": {},
     "output_type": "execute_result"
    }
   ],
   "source": [
    "X_treino"
   ]
  },
  {
   "cell_type": "markdown",
   "id": "7a35660d",
   "metadata": {},
   "source": [
    "#### Definição dos valores de Validação cruzada"
   ]
  },
  {
   "cell_type": "code",
   "execution_count": 9,
   "id": "9e71f21d",
   "metadata": {},
   "outputs": [],
   "source": [
    "from sklearn.tree import DecisionTreeClassifier\n",
    "from sklearn.model_selection import GridSearchCV"
   ]
  },
  {
   "cell_type": "code",
   "execution_count": 10,
   "id": "a37a0fa3",
   "metadata": {},
   "outputs": [],
   "source": [
    "params = {\n",
    "    'max_leaf_nodes' : [4, 8, 16, 32, 64, 128, 256, 512, 1024, 2048],\n",
    "    'criterion'      : ['gini', 'entropy']\n",
    "}"
   ]
  },
  {
   "cell_type": "code",
   "execution_count": 11,
   "id": "a83ff511",
   "metadata": {},
   "outputs": [],
   "source": [
    "grid = GridSearchCV(\n",
    "    DecisionTreeClassifier(random_state=61658), #primeiro argumento: Modelo\n",
    "    params,                                     #segundo argumento: Parâmetros\n",
    "    cv=10,                                      #argumento CV: quantidade de folds\n",
    "    scoring='roc_auc',                          #argumento Scoring: métrica\n",
    "    verbose=5                                   #argumento Verbose: mostra na tela \n",
    ")"
   ]
  },
  {
   "cell_type": "markdown",
   "id": "a8c6e785",
   "metadata": {},
   "source": [
    "#### Encontra os melhores parâmetros nos dados de treino por Validação Cruzada:"
   ]
  },
  {
   "cell_type": "code",
   "execution_count": 12,
   "id": "ce8ab9c3",
   "metadata": {},
   "outputs": [
    {
     "name": "stdout",
     "output_type": "stream",
     "text": [
      "Fitting 10 folds for each of 20 candidates, totalling 200 fits\n",
      "[CV 1/10] END .criterion=gini, max_leaf_nodes=4;, score=0.756 total time=   0.0s\n",
      "[CV 2/10] END .criterion=gini, max_leaf_nodes=4;, score=0.731 total time=   0.0s\n",
      "[CV 3/10] END .criterion=gini, max_leaf_nodes=4;, score=0.756 total time=   0.0s\n",
      "[CV 4/10] END .criterion=gini, max_leaf_nodes=4;, score=0.757 total time=   0.0s\n",
      "[CV 5/10] END .criterion=gini, max_leaf_nodes=4;, score=0.762 total time=   0.0s\n",
      "[CV 6/10] END .criterion=gini, max_leaf_nodes=4;, score=0.738 total time=   0.0s\n",
      "[CV 7/10] END .criterion=gini, max_leaf_nodes=4;, score=0.715 total time=   0.0s\n",
      "[CV 8/10] END .criterion=gini, max_leaf_nodes=4;, score=0.726 total time=   0.0s\n",
      "[CV 9/10] END .criterion=gini, max_leaf_nodes=4;, score=0.730 total time=   0.0s\n",
      "[CV 10/10] END criterion=gini, max_leaf_nodes=4;, score=0.756 total time=   0.0s\n",
      "[CV 1/10] END .criterion=gini, max_leaf_nodes=8;, score=0.818 total time=   0.0s\n",
      "[CV 2/10] END .criterion=gini, max_leaf_nodes=8;, score=0.791 total time=   0.0s\n",
      "[CV 3/10] END .criterion=gini, max_leaf_nodes=8;, score=0.830 total time=   0.0s\n",
      "[CV 4/10] END .criterion=gini, max_leaf_nodes=8;, score=0.833 total time=   0.0s\n",
      "[CV 5/10] END .criterion=gini, max_leaf_nodes=8;, score=0.817 total time=   0.0s\n",
      "[CV 6/10] END .criterion=gini, max_leaf_nodes=8;, score=0.808 total time=   0.0s\n",
      "[CV 7/10] END .criterion=gini, max_leaf_nodes=8;, score=0.798 total time=   0.0s\n",
      "[CV 8/10] END .criterion=gini, max_leaf_nodes=8;, score=0.805 total time=   0.0s\n",
      "[CV 9/10] END .criterion=gini, max_leaf_nodes=8;, score=0.781 total time=   0.0s\n",
      "[CV 10/10] END criterion=gini, max_leaf_nodes=8;, score=0.817 total time=   0.0s\n",
      "[CV 1/10] END criterion=gini, max_leaf_nodes=16;, score=0.825 total time=   0.0s\n",
      "[CV 2/10] END criterion=gini, max_leaf_nodes=16;, score=0.819 total time=   0.0s\n",
      "[CV 3/10] END criterion=gini, max_leaf_nodes=16;, score=0.830 total time=   0.0s\n",
      "[CV 4/10] END criterion=gini, max_leaf_nodes=16;, score=0.857 total time=   0.0s\n",
      "[CV 5/10] END criterion=gini, max_leaf_nodes=16;, score=0.829 total time=   0.0s\n",
      "[CV 6/10] END criterion=gini, max_leaf_nodes=16;, score=0.832 total time=   0.0s\n",
      "[CV 7/10] END criterion=gini, max_leaf_nodes=16;, score=0.820 total time=   0.0s\n",
      "[CV 8/10] END criterion=gini, max_leaf_nodes=16;, score=0.822 total time=   0.0s\n",
      "[CV 9/10] END criterion=gini, max_leaf_nodes=16;, score=0.797 total time=   0.0s\n",
      "[CV 10/10] END criterion=gini, max_leaf_nodes=16;, score=0.832 total time=   0.0s\n",
      "[CV 1/10] END criterion=gini, max_leaf_nodes=32;, score=0.847 total time=   0.0s\n",
      "[CV 2/10] END criterion=gini, max_leaf_nodes=32;, score=0.838 total time=   0.0s\n",
      "[CV 3/10] END criterion=gini, max_leaf_nodes=32;, score=0.835 total time=   0.0s\n",
      "[CV 4/10] END criterion=gini, max_leaf_nodes=32;, score=0.883 total time=   0.0s\n",
      "[CV 5/10] END criterion=gini, max_leaf_nodes=32;, score=0.837 total time=   0.0s\n",
      "[CV 6/10] END criterion=gini, max_leaf_nodes=32;, score=0.843 total time=   0.0s\n",
      "[CV 7/10] END criterion=gini, max_leaf_nodes=32;, score=0.812 total time=   0.0s\n",
      "[CV 8/10] END criterion=gini, max_leaf_nodes=32;, score=0.847 total time=   0.0s\n",
      "[CV 9/10] END criterion=gini, max_leaf_nodes=32;, score=0.808 total time=   0.0s\n",
      "[CV 10/10] END criterion=gini, max_leaf_nodes=32;, score=0.841 total time=   0.0s\n",
      "[CV 1/10] END criterion=gini, max_leaf_nodes=64;, score=0.838 total time=   0.0s\n",
      "[CV 2/10] END criterion=gini, max_leaf_nodes=64;, score=0.829 total time=   0.0s\n",
      "[CV 3/10] END criterion=gini, max_leaf_nodes=64;, score=0.849 total time=   0.0s\n",
      "[CV 4/10] END criterion=gini, max_leaf_nodes=64;, score=0.881 total time=   0.0s\n",
      "[CV 5/10] END criterion=gini, max_leaf_nodes=64;, score=0.837 total time=   0.0s\n",
      "[CV 6/10] END criterion=gini, max_leaf_nodes=64;, score=0.844 total time=   0.0s\n",
      "[CV 7/10] END criterion=gini, max_leaf_nodes=64;, score=0.820 total time=   0.0s\n",
      "[CV 8/10] END criterion=gini, max_leaf_nodes=64;, score=0.812 total time=   0.0s\n",
      "[CV 9/10] END criterion=gini, max_leaf_nodes=64;, score=0.806 total time=   0.0s\n",
      "[CV 10/10] END criterion=gini, max_leaf_nodes=64;, score=0.850 total time=   0.0s\n",
      "[CV 1/10] END criterion=gini, max_leaf_nodes=128;, score=0.807 total time=   0.0s\n",
      "[CV 2/10] END criterion=gini, max_leaf_nodes=128;, score=0.788 total time=   0.0s\n",
      "[CV 3/10] END criterion=gini, max_leaf_nodes=128;, score=0.793 total time=   0.0s\n",
      "[CV 4/10] END criterion=gini, max_leaf_nodes=128;, score=0.858 total time=   0.0s\n",
      "[CV 5/10] END criterion=gini, max_leaf_nodes=128;, score=0.810 total time=   0.0s\n",
      "[CV 6/10] END criterion=gini, max_leaf_nodes=128;, score=0.826 total time=   0.0s\n",
      "[CV 7/10] END criterion=gini, max_leaf_nodes=128;, score=0.791 total time=   0.0s\n",
      "[CV 8/10] END criterion=gini, max_leaf_nodes=128;, score=0.796 total time=   0.0s\n",
      "[CV 9/10] END criterion=gini, max_leaf_nodes=128;, score=0.801 total time=   0.0s\n",
      "[CV 10/10] END criterion=gini, max_leaf_nodes=128;, score=0.842 total time=   0.0s\n",
      "[CV 1/10] END criterion=gini, max_leaf_nodes=256;, score=0.751 total time=   0.0s\n",
      "[CV 2/10] END criterion=gini, max_leaf_nodes=256;, score=0.727 total time=   0.0s\n",
      "[CV 3/10] END criterion=gini, max_leaf_nodes=256;, score=0.740 total time=   0.0s\n",
      "[CV 4/10] END criterion=gini, max_leaf_nodes=256;, score=0.802 total time=   0.0s\n",
      "[CV 5/10] END criterion=gini, max_leaf_nodes=256;, score=0.745 total time=   0.0s\n",
      "[CV 6/10] END criterion=gini, max_leaf_nodes=256;, score=0.743 total time=   0.0s\n",
      "[CV 7/10] END criterion=gini, max_leaf_nodes=256;, score=0.765 total time=   0.0s\n",
      "[CV 8/10] END criterion=gini, max_leaf_nodes=256;, score=0.731 total time=   0.0s\n",
      "[CV 9/10] END criterion=gini, max_leaf_nodes=256;, score=0.735 total time=   0.0s\n",
      "[CV 10/10] END criterion=gini, max_leaf_nodes=256;, score=0.793 total time=   0.0s\n",
      "[CV 1/10] END criterion=gini, max_leaf_nodes=512;, score=0.675 total time=   0.0s\n",
      "[CV 2/10] END criterion=gini, max_leaf_nodes=512;, score=0.658 total time=   0.0s\n",
      "[CV 3/10] END criterion=gini, max_leaf_nodes=512;, score=0.661 total time=   0.0s\n",
      "[CV 4/10] END criterion=gini, max_leaf_nodes=512;, score=0.729 total time=   0.0s\n",
      "[CV 5/10] END criterion=gini, max_leaf_nodes=512;, score=0.682 total time=   0.0s\n",
      "[CV 6/10] END criterion=gini, max_leaf_nodes=512;, score=0.678 total time=   0.0s\n",
      "[CV 7/10] END criterion=gini, max_leaf_nodes=512;, score=0.656 total time=   0.0s\n",
      "[CV 8/10] END criterion=gini, max_leaf_nodes=512;, score=0.683 total time=   0.0s\n",
      "[CV 9/10] END criterion=gini, max_leaf_nodes=512;, score=0.640 total time=   0.0s\n",
      "[CV 10/10] END criterion=gini, max_leaf_nodes=512;, score=0.707 total time=   0.0s\n",
      "[CV 1/10] END criterion=gini, max_leaf_nodes=1024;, score=0.702 total time=   0.0s\n",
      "[CV 2/10] END criterion=gini, max_leaf_nodes=1024;, score=0.682 total time=   0.0s\n",
      "[CV 3/10] END criterion=gini, max_leaf_nodes=1024;, score=0.692 total time=   0.0s\n",
      "[CV 4/10] END criterion=gini, max_leaf_nodes=1024;, score=0.724 total time=   0.0s\n",
      "[CV 5/10] END criterion=gini, max_leaf_nodes=1024;, score=0.697 total time=   0.0s\n",
      "[CV 6/10] END criterion=gini, max_leaf_nodes=1024;, score=0.664 total time=   0.0s\n",
      "[CV 7/10] END criterion=gini, max_leaf_nodes=1024;, score=0.688 total time=   0.0s\n",
      "[CV 8/10] END criterion=gini, max_leaf_nodes=1024;, score=0.684 total time=   0.0s\n",
      "[CV 9/10] END criterion=gini, max_leaf_nodes=1024;, score=0.679 total time=   0.0s\n",
      "[CV 10/10] END criterion=gini, max_leaf_nodes=1024;, score=0.719 total time=   0.0s\n",
      "[CV 1/10] END criterion=gini, max_leaf_nodes=2048;, score=0.702 total time=   0.0s\n",
      "[CV 2/10] END criterion=gini, max_leaf_nodes=2048;, score=0.682 total time=   0.0s\n",
      "[CV 3/10] END criterion=gini, max_leaf_nodes=2048;, score=0.692 total time=   0.0s\n",
      "[CV 4/10] END criterion=gini, max_leaf_nodes=2048;, score=0.724 total time=   0.0s\n",
      "[CV 5/10] END criterion=gini, max_leaf_nodes=2048;, score=0.697 total time=   0.0s\n",
      "[CV 6/10] END criterion=gini, max_leaf_nodes=2048;, score=0.664 total time=   0.0s\n",
      "[CV 7/10] END criterion=gini, max_leaf_nodes=2048;, score=0.688 total time=   0.0s\n",
      "[CV 8/10] END criterion=gini, max_leaf_nodes=2048;, score=0.684 total time=   0.0s\n",
      "[CV 9/10] END criterion=gini, max_leaf_nodes=2048;, score=0.679 total time=   0.0s\n",
      "[CV 10/10] END criterion=gini, max_leaf_nodes=2048;, score=0.719 total time=   0.0s\n",
      "[CV 1/10] END criterion=entropy, max_leaf_nodes=4;, score=0.756 total time=   0.0s\n",
      "[CV 2/10] END criterion=entropy, max_leaf_nodes=4;, score=0.731 total time=   0.0s\n",
      "[CV 3/10] END criterion=entropy, max_leaf_nodes=4;, score=0.756 total time=   0.0s\n",
      "[CV 4/10] END criterion=entropy, max_leaf_nodes=4;, score=0.757 total time=   0.0s\n",
      "[CV 5/10] END criterion=entropy, max_leaf_nodes=4;, score=0.762 total time=   0.0s\n",
      "[CV 6/10] END criterion=entropy, max_leaf_nodes=4;, score=0.735 total time=   0.0s\n",
      "[CV 7/10] END criterion=entropy, max_leaf_nodes=4;, score=0.715 total time=   0.0s\n",
      "[CV 8/10] END criterion=entropy, max_leaf_nodes=4;, score=0.726 total time=   0.0s\n",
      "[CV 9/10] END criterion=entropy, max_leaf_nodes=4;, score=0.730 total time=   0.0s\n",
      "[CV 10/10] END criterion=entropy, max_leaf_nodes=4;, score=0.755 total time=   0.0s\n",
      "[CV 1/10] END criterion=entropy, max_leaf_nodes=8;, score=0.818 total time=   0.0s\n",
      "[CV 2/10] END criterion=entropy, max_leaf_nodes=8;, score=0.790 total time=   0.0s\n",
      "[CV 3/10] END criterion=entropy, max_leaf_nodes=8;, score=0.830 total time=   0.0s\n",
      "[CV 4/10] END criterion=entropy, max_leaf_nodes=8;, score=0.833 total time=   0.0s\n"
     ]
    },
    {
     "name": "stdout",
     "output_type": "stream",
     "text": [
      "[CV 5/10] END criterion=entropy, max_leaf_nodes=8;, score=0.817 total time=   0.0s\n",
      "[CV 6/10] END criterion=entropy, max_leaf_nodes=8;, score=0.803 total time=   0.0s\n",
      "[CV 7/10] END criterion=entropy, max_leaf_nodes=8;, score=0.798 total time=   0.0s\n",
      "[CV 8/10] END criterion=entropy, max_leaf_nodes=8;, score=0.805 total time=   0.0s\n",
      "[CV 9/10] END criterion=entropy, max_leaf_nodes=8;, score=0.781 total time=   0.0s\n",
      "[CV 10/10] END criterion=entropy, max_leaf_nodes=8;, score=0.814 total time=   0.0s\n",
      "[CV 1/10] END criterion=entropy, max_leaf_nodes=16;, score=0.826 total time=   0.0s\n",
      "[CV 2/10] END criterion=entropy, max_leaf_nodes=16;, score=0.833 total time=   0.0s\n",
      "[CV 3/10] END criterion=entropy, max_leaf_nodes=16;, score=0.832 total time=   0.0s\n",
      "[CV 4/10] END criterion=entropy, max_leaf_nodes=16;, score=0.861 total time=   0.0s\n",
      "[CV 5/10] END criterion=entropy, max_leaf_nodes=16;, score=0.831 total time=   0.0s\n",
      "[CV 6/10] END criterion=entropy, max_leaf_nodes=16;, score=0.836 total time=   0.0s\n",
      "[CV 7/10] END criterion=entropy, max_leaf_nodes=16;, score=0.817 total time=   0.0s\n",
      "[CV 8/10] END criterion=entropy, max_leaf_nodes=16;, score=0.838 total time=   0.0s\n",
      "[CV 9/10] END criterion=entropy, max_leaf_nodes=16;, score=0.822 total time=   0.0s\n",
      "[CV 10/10] END criterion=entropy, max_leaf_nodes=16;, score=0.841 total time=   0.0s\n",
      "[CV 1/10] END criterion=entropy, max_leaf_nodes=32;, score=0.846 total time=   0.0s\n",
      "[CV 2/10] END criterion=entropy, max_leaf_nodes=32;, score=0.843 total time=   0.0s\n",
      "[CV 3/10] END criterion=entropy, max_leaf_nodes=32;, score=0.858 total time=   0.0s\n",
      "[CV 4/10] END criterion=entropy, max_leaf_nodes=32;, score=0.888 total time=   0.0s\n",
      "[CV 5/10] END criterion=entropy, max_leaf_nodes=32;, score=0.840 total time=   0.0s\n",
      "[CV 6/10] END criterion=entropy, max_leaf_nodes=32;, score=0.838 total time=   0.0s\n",
      "[CV 7/10] END criterion=entropy, max_leaf_nodes=32;, score=0.823 total time=   0.0s\n",
      "[CV 8/10] END criterion=entropy, max_leaf_nodes=32;, score=0.850 total time=   0.0s\n",
      "[CV 9/10] END criterion=entropy, max_leaf_nodes=32;, score=0.818 total time=   0.0s\n",
      "[CV 10/10] END criterion=entropy, max_leaf_nodes=32;, score=0.843 total time=   0.0s\n",
      "[CV 1/10] END criterion=entropy, max_leaf_nodes=64;, score=0.837 total time=   0.0s\n",
      "[CV 2/10] END criterion=entropy, max_leaf_nodes=64;, score=0.821 total time=   0.0s\n",
      "[CV 3/10] END criterion=entropy, max_leaf_nodes=64;, score=0.839 total time=   0.0s\n",
      "[CV 4/10] END criterion=entropy, max_leaf_nodes=64;, score=0.862 total time=   0.0s\n",
      "[CV 5/10] END criterion=entropy, max_leaf_nodes=64;, score=0.853 total time=   0.0s\n",
      "[CV 6/10] END criterion=entropy, max_leaf_nodes=64;, score=0.838 total time=   0.0s\n",
      "[CV 7/10] END criterion=entropy, max_leaf_nodes=64;, score=0.828 total time=   0.0s\n",
      "[CV 8/10] END criterion=entropy, max_leaf_nodes=64;, score=0.828 total time=   0.0s\n",
      "[CV 9/10] END criterion=entropy, max_leaf_nodes=64;, score=0.822 total time=   0.0s\n",
      "[CV 10/10] END criterion=entropy, max_leaf_nodes=64;, score=0.842 total time=   0.0s\n",
      "[CV 1/10] END criterion=entropy, max_leaf_nodes=128;, score=0.819 total time=   0.0s\n",
      "[CV 2/10] END criterion=entropy, max_leaf_nodes=128;, score=0.770 total time=   0.0s\n",
      "[CV 3/10] END criterion=entropy, max_leaf_nodes=128;, score=0.820 total time=   0.0s\n",
      "[CV 4/10] END criterion=entropy, max_leaf_nodes=128;, score=0.826 total time=   0.0s\n",
      "[CV 5/10] END criterion=entropy, max_leaf_nodes=128;, score=0.841 total time=   0.0s\n",
      "[CV 6/10] END criterion=entropy, max_leaf_nodes=128;, score=0.816 total time=   0.0s\n",
      "[CV 7/10] END criterion=entropy, max_leaf_nodes=128;, score=0.823 total time=   0.0s\n",
      "[CV 8/10] END criterion=entropy, max_leaf_nodes=128;, score=0.800 total time=   0.0s\n",
      "[CV 9/10] END criterion=entropy, max_leaf_nodes=128;, score=0.792 total time=   0.0s\n",
      "[CV 10/10] END criterion=entropy, max_leaf_nodes=128;, score=0.798 total time=   0.0s\n",
      "[CV 1/10] END criterion=entropy, max_leaf_nodes=256;, score=0.759 total time=   0.0s\n",
      "[CV 2/10] END criterion=entropy, max_leaf_nodes=256;, score=0.760 total time=   0.0s\n",
      "[CV 3/10] END criterion=entropy, max_leaf_nodes=256;, score=0.763 total time=   0.0s\n",
      "[CV 4/10] END criterion=entropy, max_leaf_nodes=256;, score=0.802 total time=   0.0s\n",
      "[CV 5/10] END criterion=entropy, max_leaf_nodes=256;, score=0.792 total time=   0.0s\n",
      "[CV 6/10] END criterion=entropy, max_leaf_nodes=256;, score=0.748 total time=   0.1s\n",
      "[CV 7/10] END criterion=entropy, max_leaf_nodes=256;, score=0.783 total time=   0.0s\n",
      "[CV 8/10] END criterion=entropy, max_leaf_nodes=256;, score=0.726 total time=   0.0s\n",
      "[CV 9/10] END criterion=entropy, max_leaf_nodes=256;, score=0.751 total time=   0.0s\n",
      "[CV 10/10] END criterion=entropy, max_leaf_nodes=256;, score=0.767 total time=   0.0s\n",
      "[CV 1/10] END criterion=entropy, max_leaf_nodes=512;, score=0.710 total time=   0.0s\n",
      "[CV 2/10] END criterion=entropy, max_leaf_nodes=512;, score=0.737 total time=   0.0s\n",
      "[CV 3/10] END criterion=entropy, max_leaf_nodes=512;, score=0.705 total time=   0.0s\n",
      "[CV 4/10] END criterion=entropy, max_leaf_nodes=512;, score=0.706 total time=   0.1s\n",
      "[CV 5/10] END criterion=entropy, max_leaf_nodes=512;, score=0.722 total time=   0.0s\n",
      "[CV 6/10] END criterion=entropy, max_leaf_nodes=512;, score=0.672 total time=   0.1s\n",
      "[CV 7/10] END criterion=entropy, max_leaf_nodes=512;, score=0.723 total time=   0.0s\n",
      "[CV 8/10] END criterion=entropy, max_leaf_nodes=512;, score=0.711 total time=   0.0s\n",
      "[CV 9/10] END criterion=entropy, max_leaf_nodes=512;, score=0.702 total time=   0.0s\n",
      "[CV 10/10] END criterion=entropy, max_leaf_nodes=512;, score=0.721 total time=   0.0s\n",
      "[CV 1/10] END criterion=entropy, max_leaf_nodes=1024;, score=0.707 total time=   0.0s\n",
      "[CV 2/10] END criterion=entropy, max_leaf_nodes=1024;, score=0.708 total time=   0.0s\n",
      "[CV 3/10] END criterion=entropy, max_leaf_nodes=1024;, score=0.714 total time=   0.0s\n",
      "[CV 4/10] END criterion=entropy, max_leaf_nodes=1024;, score=0.684 total time=   0.0s\n",
      "[CV 5/10] END criterion=entropy, max_leaf_nodes=1024;, score=0.708 total time=   0.1s\n",
      "[CV 6/10] END criterion=entropy, max_leaf_nodes=1024;, score=0.678 total time=   0.1s\n",
      "[CV 7/10] END criterion=entropy, max_leaf_nodes=1024;, score=0.712 total time=   0.0s\n",
      "[CV 8/10] END criterion=entropy, max_leaf_nodes=1024;, score=0.689 total time=   0.1s\n",
      "[CV 9/10] END criterion=entropy, max_leaf_nodes=1024;, score=0.683 total time=   0.0s\n",
      "[CV 10/10] END criterion=entropy, max_leaf_nodes=1024;, score=0.715 total time=   0.0s\n",
      "[CV 1/10] END criterion=entropy, max_leaf_nodes=2048;, score=0.707 total time=   0.0s\n",
      "[CV 2/10] END criterion=entropy, max_leaf_nodes=2048;, score=0.708 total time=   0.0s\n",
      "[CV 3/10] END criterion=entropy, max_leaf_nodes=2048;, score=0.714 total time=   0.0s\n",
      "[CV 4/10] END criterion=entropy, max_leaf_nodes=2048;, score=0.684 total time=   0.0s\n",
      "[CV 5/10] END criterion=entropy, max_leaf_nodes=2048;, score=0.708 total time=   0.0s\n",
      "[CV 6/10] END criterion=entropy, max_leaf_nodes=2048;, score=0.678 total time=   0.0s\n",
      "[CV 7/10] END criterion=entropy, max_leaf_nodes=2048;, score=0.712 total time=   0.0s\n",
      "[CV 8/10] END criterion=entropy, max_leaf_nodes=2048;, score=0.689 total time=   0.0s\n",
      "[CV 9/10] END criterion=entropy, max_leaf_nodes=2048;, score=0.683 total time=   0.0s\n",
      "[CV 10/10] END criterion=entropy, max_leaf_nodes=2048;, score=0.715 total time=   0.0s\n"
     ]
    },
    {
     "data": {
      "text/plain": [
       "GridSearchCV(cv=10, estimator=DecisionTreeClassifier(random_state=61658),\n",
       "             param_grid={'criterion': ['gini', 'entropy'],\n",
       "                         'max_leaf_nodes': [4, 8, 16, 32, 64, 128, 256, 512,\n",
       "                                            1024, 2048]},\n",
       "             scoring='roc_auc', verbose=5)"
      ]
     },
     "execution_count": 12,
     "metadata": {},
     "output_type": "execute_result"
    }
   ],
   "source": [
    "grid.fit(X_treino, y_treino)"
   ]
  },
  {
   "cell_type": "markdown",
   "id": "24299209",
   "metadata": {},
   "source": [
    "#### Qual foi o melhor parâmetro/modelo?"
   ]
  },
  {
   "cell_type": "code",
   "execution_count": 13,
   "id": "04e2c4d4",
   "metadata": {},
   "outputs": [
    {
     "data": {
      "text/plain": [
       "{'criterion': 'entropy', 'max_leaf_nodes': 32}"
      ]
     },
     "execution_count": 13,
     "metadata": {},
     "output_type": "execute_result"
    }
   ],
   "source": [
    "grid.best_params_"
   ]
  },
  {
   "cell_type": "markdown",
   "id": "70262f44",
   "metadata": {},
   "source": [
    "#### Qual foi o melhor score médio?"
   ]
  },
  {
   "cell_type": "code",
   "execution_count": 14,
   "id": "db2386bd",
   "metadata": {},
   "outputs": [
    {
     "data": {
      "text/plain": [
       "0.844584741625602"
      ]
     },
     "execution_count": 14,
     "metadata": {},
     "output_type": "execute_result"
    }
   ],
   "source": [
    "grid.best_score_"
   ]
  },
  {
   "cell_type": "markdown",
   "id": "3bd86669",
   "metadata": {},
   "source": [
    "### Vamos usar o modelo no conjunto TESTE para ver se está bom"
   ]
  },
  {
   "cell_type": "code",
   "execution_count": 15,
   "id": "ee9e7e74",
   "metadata": {},
   "outputs": [
    {
     "data": {
      "text/plain": [
       "array([[0.97933001, 0.02066999],\n",
       "       [0.93684211, 0.06315789],\n",
       "       [0.92800789, 0.07199211],\n",
       "       ...,\n",
       "       [0.79723502, 0.20276498],\n",
       "       [0.97933001, 0.02066999],\n",
       "       [0.97933001, 0.02066999]])"
      ]
     },
     "metadata": {},
     "output_type": "display_data"
    },
    {
     "name": "stdout",
     "output_type": "stream",
     "text": [
      "Deixando somente a coluna com os '1'\n"
     ]
    },
    {
     "data": {
      "text/plain": [
       "array([0.02066999, 0.06315789, 0.07199211, ..., 0.20276498, 0.02066999,\n",
       "       0.02066999])"
      ]
     },
     "execution_count": 15,
     "metadata": {},
     "output_type": "execute_result"
    }
   ],
   "source": [
    "y_pred = grid.predict_proba(X_teste)\n",
    "display(y_pred)\n",
    "\n",
    "print(\"Deixando somente a coluna com os '1'\")\n",
    "\n",
    "y_pred = grid.predict_proba(X_teste)[:,1]\n",
    "y_pred"
   ]
  },
  {
   "cell_type": "markdown",
   "id": "55cb8b1e",
   "metadata": {},
   "source": [
    "### Curva ROC"
   ]
  },
  {
   "cell_type": "code",
   "execution_count": 16,
   "id": "800ba4ea",
   "metadata": {},
   "outputs": [
    {
     "data": {
      "text/plain": [
       "[<matplotlib.lines.Line2D at 0x7fdbbf850520>]"
      ]
     },
     "execution_count": 16,
     "metadata": {},
     "output_type": "execute_result"
    },
    {
     "data": {
      "image/png": "[encoded data removed]",
      "text/plain": [
       "<Figure size 576x576 with 1 Axes>"
      ]
     },
     "metadata": {
      "needs_background": "light"
     },
     "output_type": "display_data"
    }
   ],
   "source": [
    "from sklearn.metrics import roc_curve\n",
    "\n",
    "fpr, tpr, ths = roc_curve(y_teste, y_pred)\n",
    "\n",
    "# fpr = false positive rate (eixo x)\n",
    "# tpr = true positive rate (eixo y)\n",
    "# ths = quais limiares ele testou \n",
    "\n",
    "plt.figure(figsize=(8,8))\n",
    "plt.plot(fpr, tpr)\n",
    "plt.plot((0,1), (0,1), 'k--')"
   ]
  },
  {
   "cell_type": "markdown",
   "id": "c0300933",
   "metadata": {},
   "source": [
    "### ROC/AUC score"
   ]
  },
  {
   "cell_type": "code",
   "execution_count": 17,
   "id": "ef863ff8",
   "metadata": {},
   "outputs": [
    {
     "data": {
      "text/plain": [
       "0.8461416666666665"
      ]
     },
     "execution_count": 17,
     "metadata": {},
     "output_type": "execute_result"
    }
   ],
   "source": [
    "from sklearn.metrics import roc_auc_score\n",
    "\n",
    "roc_auc_score(y_teste, y_pred)"
   ]
  },
  {
   "cell_type": "code",
   "execution_count": 18,
   "id": "0b235d30",
   "metadata": {},
   "outputs": [
    {
     "data": {
      "text/plain": [
       "0.844584741625602"
      ]
     },
     "execution_count": 18,
     "metadata": {},
     "output_type": "execute_result"
    }
   ],
   "source": [
    "grid.best_score_"
   ]
  },
  {
   "cell_type": "markdown",
   "id": "d6a1b9ce",
   "metadata": {},
   "source": [
    "### E no conjunto de Treino?"
   ]
  },
  {
   "cell_type": "code",
   "execution_count": 19,
   "id": "f85eb32d",
   "metadata": {},
   "outputs": [
    {
     "data": {
      "text/plain": [
       "<matplotlib.legend.Legend at 0x7fdbbfda8fa0>"
      ]
     },
     "execution_count": 19,
     "metadata": {},
     "output_type": "execute_result"
    },
    {
     "data": {
      "image/png": "[encoded data removed]",
      "text/plain": [
       "<Figure size 576x576 with 1 Axes>"
      ]
     },
     "metadata": {
      "needs_background": "light"
     },
     "output_type": "display_data"
    }
   ],
   "source": [
    "from sklearn.metrics import roc_curve\n",
    "\n",
    "fpr, tpr, ths = roc_curve(y_teste, y_pred)\n",
    "\n",
    "plt.figure(figsize=(8,8))\n",
    "plt.plot(fpr, tpr, label='Teste')\n",
    "plt.plot((0,1), (0,1), 'k--')\n",
    "\n",
    "fpr2, tpr2, ths2 = roc_curve(y_treino, grid.predict_proba(X_treino)[:,1])\n",
    "\n",
    "plt.plot(fpr2, tpr2, label = 'Treino', color='r')\n",
    "\n",
    "plt.legend(fontsize=16)"
   ]
  },
  {
   "cell_type": "markdown",
   "id": "c80f3500",
   "metadata": {},
   "source": [
    "### Visualização da árvore"
   ]
  },
  {
   "cell_type": "code",
   "execution_count": 20,
   "id": "e243eeb6",
   "metadata": {
    "scrolled": true
   },
   "outputs": [
    {
     "data": {
      "text/plain": [
       "GridSearchCV(cv=10, estimator=DecisionTreeClassifier(random_state=61658),\n",
       "             param_grid={'criterion': ['gini', 'entropy'],\n",
       "                         'max_leaf_nodes': [4, 8, 16, 32, 64, 128, 256, 512,\n",
       "                                            1024, 2048]},\n",
       "             scoring='roc_auc', verbose=5)"
      ]
     },
     "execution_count": 20,
     "metadata": {},
     "output_type": "execute_result"
    }
   ],
   "source": [
    "grid"
   ]
  },
  {
   "cell_type": "code",
   "execution_count": 21,
   "id": "ea13f596",
   "metadata": {},
   "outputs": [
    {
     "data": {
      "text/plain": [
       "DecisionTreeClassifier(criterion='entropy', max_leaf_nodes=32,\n",
       "                       random_state=61658)"
      ]
     },
     "execution_count": 21,
     "metadata": {},
     "output_type": "execute_result"
    }
   ],
   "source": [
    "grid.best_estimator_"
   ]
  },
  {
   "cell_type": "code",
   "execution_count": 22,
   "id": "5a2a0ec8",
   "metadata": {},
   "outputs": [
    {
     "data": {
      "image/png": "[encoded data removed]",
      "text/plain": [
       "<Figure size 1080x720 with 1 Axes>"
      ]
     },
     "metadata": {
      "needs_background": "light"
     },
     "output_type": "display_data"
    }
   ],
   "source": [
    "from sklearn.tree import plot_tree\n",
    "\n",
    "plt.figure(figsize=(15,10))\n",
    "plot_tree(grid.best_estimator_);"
   ]
  },
  {
   "cell_type": "code",
   "execution_count": 23,
   "id": "f236e1d3",
   "metadata": {},
   "outputs": [
    {
     "data": {
      "image/png": "[encoded data removed]",
      "text/plain": [
       "<Figure size 1080x720 with 1 Axes>"
      ]
     },
     "metadata": {
      "needs_background": "light"
     },
     "output_type": "display_data"
    }
   ],
   "source": [
    "plt.figure(figsize=(15,10))\n",
    "plot_tree(grid.best_estimator_, max_depth=2);"
   ]
  },
  {
   "cell_type": "markdown",
   "id": "209f39a7",
   "metadata": {},
   "source": [
    "> Adicionando os nomes das colunas"
   ]
  },
  {
   "cell_type": "code",
   "execution_count": 24,
   "id": "8f66d2c9",
   "metadata": {},
   "outputs": [
    {
     "data": {
      "text/plain": [
       "Index(['CreditScore', 'Age', 'Tenure', 'Balance', 'NumOfProducts', 'HasCrCard',\n",
       "       'IsActiveMember', 'EstimatedSalary', 'Geography_France',\n",
       "       'Geography_Germany', 'Geography_Spain', 'Gender_Female', 'Gender_Male'],\n",
       "      dtype='object')"
      ]
     },
     "execution_count": 24,
     "metadata": {},
     "output_type": "execute_result"
    }
   ],
   "source": [
    "X_treino.columns"
   ]
  },
  {
   "cell_type": "code",
   "execution_count": 25,
   "id": "6b7a99fa",
   "metadata": {},
   "outputs": [
    {
     "data": {
      "image/png": "[encoded data removed]",
      "text/plain": [
       "<Figure size 1080x720 with 1 Axes>"
      ]
     },
     "metadata": {
      "needs_background": "light"
     },
     "output_type": "display_data"
    }
   ],
   "source": [
    "plt.figure(figsize=(15,10))\n",
    "plot_tree(grid.best_estimator_, max_depth=2,\n",
    "          feature_names=X_treino.columns, \n",
    "          filled=True);"
   ]
  },
  {
   "cell_type": "markdown",
   "id": "ee9e2c71",
   "metadata": {},
   "source": [
    "# Feature Importance "
   ]
  },
  {
   "cell_type": "code",
   "execution_count": 27,
   "id": "53aef4fa",
   "metadata": {},
   "outputs": [
    {
     "data": {
      "text/plain": [
       "DecisionTreeClassifier(criterion='entropy', max_leaf_nodes=32,\n",
       "                       random_state=61658)"
      ]
     },
     "execution_count": 27,
     "metadata": {},
     "output_type": "execute_result"
    }
   ],
   "source": [
    "grid.best_estimator_"
   ]
  },
  {
   "cell_type": "code",
   "execution_count": 28,
   "id": "d86ae3ef",
   "metadata": {},
   "outputs": [
    {
     "data": {
      "text/plain": [
       "array([0.        , 0.39756168, 0.        , 0.12983555, 0.30706264,\n",
       "       0.        , 0.11164571, 0.00618282, 0.        , 0.04771159,\n",
       "       0.        , 0.        , 0.        ])"
      ]
     },
     "execution_count": 28,
     "metadata": {},
     "output_type": "execute_result"
    }
   ],
   "source": [
    "grid.best_estimator_.feature_importances_"
   ]
  },
  {
   "cell_type": "code",
   "execution_count": 29,
   "id": "ce60081e",
   "metadata": {},
   "outputs": [
    {
     "data": {
      "text/plain": [
       "Index(['CreditScore', 'Age', 'Tenure', 'Balance', 'NumOfProducts', 'HasCrCard',\n",
       "       'IsActiveMember', 'EstimatedSalary', 'Geography_France',\n",
       "       'Geography_Germany', 'Geography_Spain', 'Gender_Female', 'Gender_Male'],\n",
       "      dtype='object')"
      ]
     },
     "execution_count": 29,
     "metadata": {},
     "output_type": "execute_result"
    }
   ],
   "source": [
    "X_treino.columns"
   ]
  },
  {
   "cell_type": "markdown",
   "id": "08eb769d",
   "metadata": {},
   "source": [
    "### Deixando mais fácil de ver"
   ]
  },
  {
   "cell_type": "code",
   "execution_count": 40,
   "id": "22a57f5b",
   "metadata": {},
   "outputs": [
    {
     "name": "stdout",
     "output_type": "stream",
     "text": [
      "Age                           :0.398\n",
      "NumOfProducts                 :0.307\n",
      "Balance                       :0.130\n",
      "IsActiveMember                :0.112\n",
      "Geography_Germany             :0.048\n",
      "EstimatedSalary               :0.006\n",
      "Gender_Male                   :0.000\n",
      "Gender_Female                 :0.000\n",
      "Geography_Spain               :0.000\n",
      "Geography_France              :0.000\n",
      "HasCrCard                     :0.000\n",
      "Tenure                        :0.000\n",
      "CreditScore                   :0.000\n"
     ]
    }
   ],
   "source": [
    "importancias = grid.best_estimator_.feature_importances_\n",
    "ordem = np.argsort(importancias)[::-1]  #[::-1] inverte a lista\n",
    "colunas = X.columns\n",
    "\n",
    "for col, imp in zip(colunas[ordem], importancias[ordem]):\n",
    "    print(f'{col:30s}:{imp:.3f}')"
   ]
  },
  {
   "cell_type": "markdown",
   "id": "da9065a3",
   "metadata": {},
   "source": [
    "### Ajuda na análise preliminar"
   ]
  },
  {
   "cell_type": "code",
   "execution_count": 46,
   "id": "84a153c5",
   "metadata": {},
   "outputs": [
    {
     "data": {
      "image/png": "[encoded data removed]",
      "text/plain": [
       "<Figure size 1080x360 with 1 Axes>"
      ]
     },
     "metadata": {
      "needs_background": "light"
     },
     "output_type": "display_data"
    }
   ],
   "source": [
    "plt.figure(figsize=(15,5))\n",
    "\n",
    "plt.hist(X.loc[y==0].Balance, bins=100, color='b', alpha=.3, rwidth=.8, density=True)\n",
    "plt.hist(X.loc[y==1].Balance, bins=100, color='r', alpha=.3, rwidth=.8, density=True)\n",
    "\n",
    "plt.show()"
   ]
  },
  {
   "cell_type": "code",
   "execution_count": 45,
   "id": "0b595552",
   "metadata": {},
   "outputs": [
    {
     "data": {
      "text/plain": [
       "<matplotlib.legend.Legend at 0x7fdbc3f0c520>"
      ]
     },
     "execution_count": 45,
     "metadata": {},
     "output_type": "execute_result"
    },
    {
     "data": {
      "image/png": "[encoded data removed]",
      "text/plain": [
       "<Figure size 1080x360 with 1 Axes>"
      ]
     },
     "metadata": {
      "needs_background": "light"
     },
     "output_type": "display_data"
    }
   ],
   "source": [
    "plt.figure(figsize=(15,5))\n",
    "\n",
    "plt.hist(X.loc[y==0].Balance, bins=np.linspace(100,250000,30), color='b', alpha=.3, rwidth=.8, density=True, label='Não saiu')\n",
    "plt.hist(X.loc[y==1].Balance, bins=np.linspace(100,250000,30), color='r', alpha=.3, rwidth=.8, density=True, label='Saiu')\n",
    "\n",
    "plt.legend()"
   ]
  },
  {
   "cell_type": "markdown",
   "id": "c485f255",
   "metadata": {},
   "source": [
    "### Vamos fazer um modelo melhor com somente as variáveis selecionadas:"
   ]
  },
  {
   "cell_type": "code",
   "execution_count": 51,
   "id": "111b86bc",
   "metadata": {},
   "outputs": [
    {
     "name": "stdout",
     "output_type": "stream",
     "text": [
      "Fitting 10 folds for each of 20 candidates, totalling 200 fits\n",
      "[CV 1/10] END .criterion=gini, max_leaf_nodes=4;, score=0.756 total time=   0.0s\n",
      "[CV 2/10] END .criterion=gini, max_leaf_nodes=4;, score=0.731 total time=   0.0s\n",
      "[CV 3/10] END .criterion=gini, max_leaf_nodes=4;, score=0.756 total time=   0.0s\n",
      "[CV 4/10] END .criterion=gini, max_leaf_nodes=4;, score=0.757 total time=   0.0s\n",
      "[CV 5/10] END .criterion=gini, max_leaf_nodes=4;, score=0.762 total time=   0.0s\n",
      "[CV 6/10] END .criterion=gini, max_leaf_nodes=4;, score=0.738 total time=   0.0s\n",
      "[CV 7/10] END .criterion=gini, max_leaf_nodes=4;, score=0.715 total time=   0.0s\n",
      "[CV 8/10] END .criterion=gini, max_leaf_nodes=4;, score=0.726 total time=   0.0s\n",
      "[CV 9/10] END .criterion=gini, max_leaf_nodes=4;, score=0.730 total time=   0.0s\n",
      "[CV 10/10] END criterion=gini, max_leaf_nodes=4;, score=0.756 total time=   0.0s\n",
      "[CV 1/10] END .criterion=gini, max_leaf_nodes=8;, score=0.818 total time=   0.0s\n",
      "[CV 2/10] END .criterion=gini, max_leaf_nodes=8;, score=0.791 total time=   0.0s\n",
      "[CV 3/10] END .criterion=gini, max_leaf_nodes=8;, score=0.830 total time=   0.0s\n",
      "[CV 4/10] END .criterion=gini, max_leaf_nodes=8;, score=0.833 total time=   0.0s\n",
      "[CV 5/10] END .criterion=gini, max_leaf_nodes=8;, score=0.817 total time=   0.0s\n",
      "[CV 6/10] END .criterion=gini, max_leaf_nodes=8;, score=0.808 total time=   0.0s\n",
      "[CV 7/10] END .criterion=gini, max_leaf_nodes=8;, score=0.798 total time=   0.0s\n",
      "[CV 8/10] END .criterion=gini, max_leaf_nodes=8;, score=0.805 total time=   0.0s\n",
      "[CV 9/10] END .criterion=gini, max_leaf_nodes=8;, score=0.781 total time=   0.0s\n",
      "[CV 10/10] END criterion=gini, max_leaf_nodes=8;, score=0.817 total time=   0.0s\n",
      "[CV 1/10] END criterion=gini, max_leaf_nodes=16;, score=0.825 total time=   0.0s\n",
      "[CV 2/10] END criterion=gini, max_leaf_nodes=16;, score=0.819 total time=   0.0s\n",
      "[CV 3/10] END criterion=gini, max_leaf_nodes=16;, score=0.830 total time=   0.0s\n",
      "[CV 4/10] END criterion=gini, max_leaf_nodes=16;, score=0.857 total time=   0.0s\n",
      "[CV 5/10] END criterion=gini, max_leaf_nodes=16;, score=0.829 total time=   0.0s\n",
      "[CV 6/10] END criterion=gini, max_leaf_nodes=16;, score=0.832 total time=   0.0s\n",
      "[CV 7/10] END criterion=gini, max_leaf_nodes=16;, score=0.820 total time=   0.0s\n",
      "[CV 8/10] END criterion=gini, max_leaf_nodes=16;, score=0.822 total time=   0.0s\n",
      "[CV 9/10] END criterion=gini, max_leaf_nodes=16;, score=0.797 total time=   0.0s\n",
      "[CV 10/10] END criterion=gini, max_leaf_nodes=16;, score=0.832 total time=   0.0s\n",
      "[CV 1/10] END criterion=gini, max_leaf_nodes=32;, score=0.855 total time=   0.0s\n",
      "[CV 2/10] END criterion=gini, max_leaf_nodes=32;, score=0.844 total time=   0.0s\n",
      "[CV 3/10] END criterion=gini, max_leaf_nodes=32;, score=0.843 total time=   0.0s\n",
      "[CV 4/10] END criterion=gini, max_leaf_nodes=32;, score=0.889 total time=   0.0s\n",
      "[CV 5/10] END criterion=gini, max_leaf_nodes=32;, score=0.836 total time=   0.0s\n",
      "[CV 6/10] END criterion=gini, max_leaf_nodes=32;, score=0.843 total time=   0.0s\n",
      "[CV 7/10] END criterion=gini, max_leaf_nodes=32;, score=0.819 total time=   0.0s\n",
      "[CV 8/10] END criterion=gini, max_leaf_nodes=32;, score=0.847 total time=   0.0s\n",
      "[CV 9/10] END criterion=gini, max_leaf_nodes=32;, score=0.814 total time=   0.0s\n",
      "[CV 10/10] END criterion=gini, max_leaf_nodes=32;, score=0.846 total time=   0.0s\n",
      "[CV 1/10] END criterion=gini, max_leaf_nodes=64;, score=0.841 total time=   0.0s\n",
      "[CV 2/10] END criterion=gini, max_leaf_nodes=64;, score=0.832 total time=   0.0s\n",
      "[CV 3/10] END criterion=gini, max_leaf_nodes=64;, score=0.834 total time=   0.0s\n",
      "[CV 4/10] END criterion=gini, max_leaf_nodes=64;, score=0.873 total time=   0.0s\n",
      "[CV 5/10] END criterion=gini, max_leaf_nodes=64;, score=0.820 total time=   0.0s\n",
      "[CV 6/10] END criterion=gini, max_leaf_nodes=64;, score=0.843 total time=   0.0s\n",
      "[CV 7/10] END criterion=gini, max_leaf_nodes=64;, score=0.821 total time=   0.0s\n",
      "[CV 8/10] END criterion=gini, max_leaf_nodes=64;, score=0.831 total time=   0.0s\n",
      "[CV 9/10] END criterion=gini, max_leaf_nodes=64;, score=0.818 total time=   0.0s\n",
      "[CV 10/10] END criterion=gini, max_leaf_nodes=64;, score=0.847 total time=   0.0s\n",
      "[CV 1/10] END criterion=gini, max_leaf_nodes=128;, score=0.823 total time=   0.0s\n",
      "[CV 2/10] END criterion=gini, max_leaf_nodes=128;, score=0.807 total time=   0.0s\n",
      "[CV 3/10] END criterion=gini, max_leaf_nodes=128;, score=0.823 total time=   0.0s\n",
      "[CV 4/10] END criterion=gini, max_leaf_nodes=128;, score=0.858 total time=   0.0s\n",
      "[CV 5/10] END criterion=gini, max_leaf_nodes=128;, score=0.792 total time=   0.0s\n",
      "[CV 6/10] END criterion=gini, max_leaf_nodes=128;, score=0.788 total time=   0.0s\n",
      "[CV 7/10] END criterion=gini, max_leaf_nodes=128;, score=0.805 total time=   0.0s\n",
      "[CV 8/10] END criterion=gini, max_leaf_nodes=128;, score=0.826 total time=   0.0s\n",
      "[CV 9/10] END criterion=gini, max_leaf_nodes=128;, score=0.784 total time=   0.0s\n",
      "[CV 10/10] END criterion=gini, max_leaf_nodes=128;, score=0.826 total time=   0.0s\n",
      "[CV 1/10] END criterion=gini, max_leaf_nodes=256;, score=0.788 total time=   0.0s\n",
      "[CV 2/10] END criterion=gini, max_leaf_nodes=256;, score=0.738 total time=   0.0s\n",
      "[CV 3/10] END criterion=gini, max_leaf_nodes=256;, score=0.762 total time=   0.0s\n",
      "[CV 4/10] END criterion=gini, max_leaf_nodes=256;, score=0.801 total time=   0.0s\n",
      "[CV 5/10] END criterion=gini, max_leaf_nodes=256;, score=0.740 total time=   0.0s\n",
      "[CV 6/10] END criterion=gini, max_leaf_nodes=256;, score=0.777 total time=   0.0s\n",
      "[CV 7/10] END criterion=gini, max_leaf_nodes=256;, score=0.768 total time=   0.0s\n",
      "[CV 8/10] END criterion=gini, max_leaf_nodes=256;, score=0.785 total time=   0.0s\n",
      "[CV 9/10] END criterion=gini, max_leaf_nodes=256;, score=0.752 total time=   0.0s\n",
      "[CV 10/10] END criterion=gini, max_leaf_nodes=256;, score=0.781 total time=   0.0s\n",
      "[CV 1/10] END criterion=gini, max_leaf_nodes=512;, score=0.682 total time=   0.0s\n",
      "[CV 2/10] END criterion=gini, max_leaf_nodes=512;, score=0.633 total time=   0.0s\n",
      "[CV 3/10] END criterion=gini, max_leaf_nodes=512;, score=0.649 total time=   0.0s\n",
      "[CV 4/10] END criterion=gini, max_leaf_nodes=512;, score=0.765 total time=   0.0s\n",
      "[CV 5/10] END criterion=gini, max_leaf_nodes=512;, score=0.669 total time=   0.0s\n",
      "[CV 6/10] END criterion=gini, max_leaf_nodes=512;, score=0.695 total time=   0.0s\n",
      "[CV 7/10] END criterion=gini, max_leaf_nodes=512;, score=0.715 total time=   0.0s\n",
      "[CV 8/10] END criterion=gini, max_leaf_nodes=512;, score=0.726 total time=   0.0s\n",
      "[CV 9/10] END criterion=gini, max_leaf_nodes=512;, score=0.666 total time=   0.0s\n",
      "[CV 10/10] END criterion=gini, max_leaf_nodes=512;, score=0.701 total time=   0.0s\n",
      "[CV 1/10] END criterion=gini, max_leaf_nodes=1024;, score=0.709 total time=   0.0s\n",
      "[CV 2/10] END criterion=gini, max_leaf_nodes=1024;, score=0.644 total time=   0.0s\n",
      "[CV 3/10] END criterion=gini, max_leaf_nodes=1024;, score=0.641 total time=   0.0s\n",
      "[CV 4/10] END criterion=gini, max_leaf_nodes=1024;, score=0.692 total time=   0.0s\n",
      "[CV 5/10] END criterion=gini, max_leaf_nodes=1024;, score=0.609 total time=   0.0s\n",
      "[CV 6/10] END criterion=gini, max_leaf_nodes=1024;, score=0.689 total time=   0.0s\n",
      "[CV 7/10] END criterion=gini, max_leaf_nodes=1024;, score=0.646 total time=   0.0s\n",
      "[CV 8/10] END criterion=gini, max_leaf_nodes=1024;, score=0.668 total time=   0.0s\n",
      "[CV 9/10] END criterion=gini, max_leaf_nodes=1024;, score=0.655 total time=   0.0s\n",
      "[CV 10/10] END criterion=gini, max_leaf_nodes=1024;, score=0.692 total time=   0.0s\n",
      "[CV 1/10] END criterion=gini, max_leaf_nodes=2048;, score=0.718 total time=   0.0s\n",
      "[CV 2/10] END criterion=gini, max_leaf_nodes=2048;, score=0.664 total time=   0.0s\n",
      "[CV 3/10] END criterion=gini, max_leaf_nodes=2048;, score=0.686 total time=   0.0s\n",
      "[CV 4/10] END criterion=gini, max_leaf_nodes=2048;, score=0.728 total time=   0.0s\n",
      "[CV 5/10] END criterion=gini, max_leaf_nodes=2048;, score=0.667 total time=   0.0s\n",
      "[CV 6/10] END criterion=gini, max_leaf_nodes=2048;, score=0.709 total time=   0.0s\n",
      "[CV 7/10] END criterion=gini, max_leaf_nodes=2048;, score=0.696 total time=   0.0s\n",
      "[CV 8/10] END criterion=gini, max_leaf_nodes=2048;, score=0.709 total time=   0.0s\n",
      "[CV 9/10] END criterion=gini, max_leaf_nodes=2048;, score=0.691 total time=   0.0s\n",
      "[CV 10/10] END criterion=gini, max_leaf_nodes=2048;, score=0.696 total time=   0.0s\n",
      "[CV 1/10] END criterion=entropy, max_leaf_nodes=4;, score=0.756 total time=   0.0s\n",
      "[CV 2/10] END criterion=entropy, max_leaf_nodes=4;, score=0.731 total time=   0.0s\n",
      "[CV 3/10] END criterion=entropy, max_leaf_nodes=4;, score=0.756 total time=   0.0s\n",
      "[CV 4/10] END criterion=entropy, max_leaf_nodes=4;, score=0.757 total time=   0.0s\n",
      "[CV 5/10] END criterion=entropy, max_leaf_nodes=4;, score=0.762 total time=   0.0s\n",
      "[CV 6/10] END criterion=entropy, max_leaf_nodes=4;, score=0.735 total time=   0.0s\n",
      "[CV 7/10] END criterion=entropy, max_leaf_nodes=4;, score=0.715 total time=   0.0s\n",
      "[CV 8/10] END criterion=entropy, max_leaf_nodes=4;, score=0.726 total time=   0.0s\n"
     ]
    },
    {
     "name": "stdout",
     "output_type": "stream",
     "text": [
      "[CV 9/10] END criterion=entropy, max_leaf_nodes=4;, score=0.730 total time=   0.0s\n",
      "[CV 10/10] END criterion=entropy, max_leaf_nodes=4;, score=0.755 total time=   0.0s\n",
      "[CV 1/10] END criterion=entropy, max_leaf_nodes=8;, score=0.818 total time=   0.0s\n",
      "[CV 2/10] END criterion=entropy, max_leaf_nodes=8;, score=0.790 total time=   0.0s\n",
      "[CV 3/10] END criterion=entropy, max_leaf_nodes=8;, score=0.830 total time=   0.0s\n",
      "[CV 4/10] END criterion=entropy, max_leaf_nodes=8;, score=0.833 total time=   0.0s\n",
      "[CV 5/10] END criterion=entropy, max_leaf_nodes=8;, score=0.817 total time=   0.0s\n",
      "[CV 6/10] END criterion=entropy, max_leaf_nodes=8;, score=0.803 total time=   0.0s\n",
      "[CV 7/10] END criterion=entropy, max_leaf_nodes=8;, score=0.798 total time=   0.0s\n",
      "[CV 8/10] END criterion=entropy, max_leaf_nodes=8;, score=0.805 total time=   0.0s\n",
      "[CV 9/10] END criterion=entropy, max_leaf_nodes=8;, score=0.781 total time=   0.0s\n",
      "[CV 10/10] END criterion=entropy, max_leaf_nodes=8;, score=0.814 total time=   0.0s\n",
      "[CV 1/10] END criterion=entropy, max_leaf_nodes=16;, score=0.826 total time=   0.0s\n",
      "[CV 2/10] END criterion=entropy, max_leaf_nodes=16;, score=0.833 total time=   0.0s\n",
      "[CV 3/10] END criterion=entropy, max_leaf_nodes=16;, score=0.832 total time=   0.0s\n",
      "[CV 4/10] END criterion=entropy, max_leaf_nodes=16;, score=0.861 total time=   0.0s\n",
      "[CV 5/10] END criterion=entropy, max_leaf_nodes=16;, score=0.831 total time=   0.0s\n",
      "[CV 6/10] END criterion=entropy, max_leaf_nodes=16;, score=0.836 total time=   0.0s\n",
      "[CV 7/10] END criterion=entropy, max_leaf_nodes=16;, score=0.817 total time=   0.0s\n",
      "[CV 8/10] END criterion=entropy, max_leaf_nodes=16;, score=0.838 total time=   0.0s\n",
      "[CV 9/10] END criterion=entropy, max_leaf_nodes=16;, score=0.822 total time=   0.0s\n",
      "[CV 10/10] END criterion=entropy, max_leaf_nodes=16;, score=0.841 total time=   0.0s\n",
      "[CV 1/10] END criterion=entropy, max_leaf_nodes=32;, score=0.846 total time=   0.0s\n",
      "[CV 2/10] END criterion=entropy, max_leaf_nodes=32;, score=0.843 total time=   0.0s\n",
      "[CV 3/10] END criterion=entropy, max_leaf_nodes=32;, score=0.858 total time=   0.0s\n",
      "[CV 4/10] END criterion=entropy, max_leaf_nodes=32;, score=0.888 total time=   0.0s\n",
      "[CV 5/10] END criterion=entropy, max_leaf_nodes=32;, score=0.842 total time=   0.0s\n",
      "[CV 6/10] END criterion=entropy, max_leaf_nodes=32;, score=0.838 total time=   0.0s\n",
      "[CV 7/10] END criterion=entropy, max_leaf_nodes=32;, score=0.823 total time=   0.0s\n",
      "[CV 8/10] END criterion=entropy, max_leaf_nodes=32;, score=0.845 total time=   0.0s\n",
      "[CV 9/10] END criterion=entropy, max_leaf_nodes=32;, score=0.833 total time=   0.0s\n",
      "[CV 10/10] END criterion=entropy, max_leaf_nodes=32;, score=0.843 total time=   0.0s\n",
      "[CV 1/10] END criterion=entropy, max_leaf_nodes=64;, score=0.827 total time=   0.0s\n",
      "[CV 2/10] END criterion=entropy, max_leaf_nodes=64;, score=0.824 total time=   0.0s\n",
      "[CV 3/10] END criterion=entropy, max_leaf_nodes=64;, score=0.854 total time=   0.0s\n",
      "[CV 4/10] END criterion=entropy, max_leaf_nodes=64;, score=0.870 total time=   0.0s\n",
      "[CV 5/10] END criterion=entropy, max_leaf_nodes=64;, score=0.839 total time=   0.0s\n",
      "[CV 6/10] END criterion=entropy, max_leaf_nodes=64;, score=0.828 total time=   0.0s\n",
      "[CV 7/10] END criterion=entropy, max_leaf_nodes=64;, score=0.827 total time=   0.0s\n",
      "[CV 8/10] END criterion=entropy, max_leaf_nodes=64;, score=0.836 total time=   0.0s\n",
      "[CV 9/10] END criterion=entropy, max_leaf_nodes=64;, score=0.827 total time=   0.0s\n",
      "[CV 10/10] END criterion=entropy, max_leaf_nodes=64;, score=0.851 total time=   0.0s\n",
      "[CV 1/10] END criterion=entropy, max_leaf_nodes=128;, score=0.820 total time=   0.0s\n",
      "[CV 2/10] END criterion=entropy, max_leaf_nodes=128;, score=0.792 total time=   0.0s\n",
      "[CV 3/10] END criterion=entropy, max_leaf_nodes=128;, score=0.821 total time=   0.0s\n",
      "[CV 4/10] END criterion=entropy, max_leaf_nodes=128;, score=0.839 total time=   0.0s\n",
      "[CV 5/10] END criterion=entropy, max_leaf_nodes=128;, score=0.816 total time=   0.0s\n",
      "[CV 6/10] END criterion=entropy, max_leaf_nodes=128;, score=0.803 total time=   0.0s\n",
      "[CV 7/10] END criterion=entropy, max_leaf_nodes=128;, score=0.813 total time=   0.0s\n",
      "[CV 8/10] END criterion=entropy, max_leaf_nodes=128;, score=0.812 total time=   0.0s\n",
      "[CV 9/10] END criterion=entropy, max_leaf_nodes=128;, score=0.813 total time=   0.0s\n",
      "[CV 10/10] END criterion=entropy, max_leaf_nodes=128;, score=0.819 total time=   0.0s\n",
      "[CV 1/10] END criterion=entropy, max_leaf_nodes=256;, score=0.797 total time=   0.0s\n",
      "[CV 2/10] END criterion=entropy, max_leaf_nodes=256;, score=0.760 total time=   0.0s\n",
      "[CV 3/10] END criterion=entropy, max_leaf_nodes=256;, score=0.805 total time=   0.0s\n",
      "[CV 4/10] END criterion=entropy, max_leaf_nodes=256;, score=0.783 total time=   0.0s\n",
      "[CV 5/10] END criterion=entropy, max_leaf_nodes=256;, score=0.795 total time=   0.0s\n",
      "[CV 6/10] END criterion=entropy, max_leaf_nodes=256;, score=0.751 total time=   0.0s\n",
      "[CV 7/10] END criterion=entropy, max_leaf_nodes=256;, score=0.775 total time=   0.0s\n",
      "[CV 8/10] END criterion=entropy, max_leaf_nodes=256;, score=0.764 total time=   0.0s\n",
      "[CV 9/10] END criterion=entropy, max_leaf_nodes=256;, score=0.778 total time=   0.0s\n",
      "[CV 10/10] END criterion=entropy, max_leaf_nodes=256;, score=0.789 total time=   0.0s\n",
      "[CV 1/10] END criterion=entropy, max_leaf_nodes=512;, score=0.728 total time=   0.0s\n",
      "[CV 2/10] END criterion=entropy, max_leaf_nodes=512;, score=0.693 total time=   0.0s\n",
      "[CV 3/10] END criterion=entropy, max_leaf_nodes=512;, score=0.714 total time=   0.0s\n",
      "[CV 4/10] END criterion=entropy, max_leaf_nodes=512;, score=0.713 total time=   0.0s\n",
      "[CV 5/10] END criterion=entropy, max_leaf_nodes=512;, score=0.732 total time=   0.0s\n",
      "[CV 6/10] END criterion=entropy, max_leaf_nodes=512;, score=0.740 total time=   0.0s\n",
      "[CV 7/10] END criterion=entropy, max_leaf_nodes=512;, score=0.709 total time=   0.0s\n",
      "[CV 8/10] END criterion=entropy, max_leaf_nodes=512;, score=0.682 total time=   0.0s\n",
      "[CV 9/10] END criterion=entropy, max_leaf_nodes=512;, score=0.731 total time=   0.0s\n",
      "[CV 10/10] END criterion=entropy, max_leaf_nodes=512;, score=0.746 total time=   0.0s\n",
      "[CV 1/10] END criterion=entropy, max_leaf_nodes=1024;, score=0.707 total time=   0.0s\n",
      "[CV 2/10] END criterion=entropy, max_leaf_nodes=1024;, score=0.682 total time=   0.0s\n",
      "[CV 3/10] END criterion=entropy, max_leaf_nodes=1024;, score=0.705 total time=   0.0s\n",
      "[CV 4/10] END criterion=entropy, max_leaf_nodes=1024;, score=0.703 total time=   0.0s\n",
      "[CV 5/10] END criterion=entropy, max_leaf_nodes=1024;, score=0.721 total time=   0.0s\n",
      "[CV 6/10] END criterion=entropy, max_leaf_nodes=1024;, score=0.677 total time=   0.0s\n",
      "[CV 7/10] END criterion=entropy, max_leaf_nodes=1024;, score=0.686 total time=   0.0s\n",
      "[CV 8/10] END criterion=entropy, max_leaf_nodes=1024;, score=0.658 total time=   0.0s\n",
      "[CV 9/10] END criterion=entropy, max_leaf_nodes=1024;, score=0.699 total time=   0.0s\n",
      "[CV 10/10] END criterion=entropy, max_leaf_nodes=1024;, score=0.695 total time=   0.0s\n",
      "[CV 1/10] END criterion=entropy, max_leaf_nodes=2048;, score=0.707 total time=   0.0s\n",
      "[CV 2/10] END criterion=entropy, max_leaf_nodes=2048;, score=0.682 total time=   0.0s\n",
      "[CV 3/10] END criterion=entropy, max_leaf_nodes=2048;, score=0.705 total time=   0.0s\n",
      "[CV 4/10] END criterion=entropy, max_leaf_nodes=2048;, score=0.703 total time=   0.0s\n",
      "[CV 5/10] END criterion=entropy, max_leaf_nodes=2048;, score=0.718 total time=   0.0s\n",
      "[CV 6/10] END criterion=entropy, max_leaf_nodes=2048;, score=0.677 total time=   0.0s\n",
      "[CV 7/10] END criterion=entropy, max_leaf_nodes=2048;, score=0.684 total time=   0.0s\n",
      "[CV 8/10] END criterion=entropy, max_leaf_nodes=2048;, score=0.655 total time=   0.0s\n",
      "[CV 9/10] END criterion=entropy, max_leaf_nodes=2048;, score=0.699 total time=   0.0s\n",
      "[CV 10/10] END criterion=entropy, max_leaf_nodes=2048;, score=0.694 total time=   0.0s\n"
     ]
    },
    {
     "data": {
      "text/plain": [
       "GridSearchCV(cv=10, estimator=DecisionTreeClassifier(random_state=61658),\n",
       "             param_grid={'criterion': ['gini', 'entropy'],\n",
       "                         'max_leaf_nodes': [4, 8, 16, 32, 64, 128, 256, 512,\n",
       "                                            1024, 2048]},\n",
       "             scoring='roc_auc', verbose=5)"
      ]
     },
     "execution_count": 51,
     "metadata": {},
     "output_type": "execute_result"
    }
   ],
   "source": [
    "colunas_selecionadas = ['Age',\n",
    "                        'NumOfProducts',\n",
    "                        'Balance',\n",
    "                        'IsActiveMember',\n",
    "                        'Geography_Germany',\n",
    "                        'EstimatedSalary'\n",
    "                       ]\n",
    "\n",
    "grid.fit(X_treino[colunas_selecionadas], y_treino)"
   ]
  },
  {
   "cell_type": "markdown",
   "id": "7e822dc6",
   "metadata": {},
   "source": [
    "#### Com todas as colunas, tinha dado: 0.8461416666666665 de AUC"
   ]
  },
  {
   "cell_type": "code",
   "execution_count": 50,
   "id": "c0513246",
   "metadata": {},
   "outputs": [
    {
     "data": {
      "text/plain": [
       "0.8453763888888887"
      ]
     },
     "execution_count": 50,
     "metadata": {},
     "output_type": "execute_result"
    }
   ],
   "source": [
    "y_pred2 = grid.predict_proba(X_teste[colunas_selecionadas])[:,1]\n",
    "\n",
    "roc_auc_score(y_teste, y_pred2)"
   ]
  },
  {
   "cell_type": "markdown",
   "id": "d101961a",
   "metadata": {},
   "source": [
    "Sem a variável `EstimatedSalary`, o modelo ficou um pouquinho pior: \n",
    "**AUC: 0.8453763888888887**\n",
    "\n",
    "### Vamos adicioná-la novamente:"
   ]
  },
  {
   "cell_type": "code",
   "execution_count": 52,
   "id": "db261ea1",
   "metadata": {},
   "outputs": [
    {
     "data": {
      "text/plain": [
       "0.8461416666666665"
      ]
     },
     "execution_count": 52,
     "metadata": {},
     "output_type": "execute_result"
    }
   ],
   "source": [
    "y_pred2 = grid.predict_proba(X_teste[colunas_selecionadas])[:,1]\n",
    "\n",
    "roc_auc_score(y_teste, y_pred2)"
   ]
  },
  {
   "cell_type": "markdown",
   "id": "a9938b99",
   "metadata": {},
   "source": [
    "**AUC: 0.8461416666666665**\n",
    "\n",
    "Igual o resultado dado com todas as colunas"
   ]
  },
  {
   "cell_type": "code",
   "execution_count": null,
   "id": "43d80385",
   "metadata": {},
   "outputs": [],
   "source": []
  }
 ],
 "metadata": {
  "kernelspec": {
   "display_name": "Python 3 (ipykernel)",
   "language": "python",
   "name": "python3"
  },
  "language_info": {
   "codemirror_mode": {
    "name": "ipython",
    "version": 3
   },
   "file_extension": ".py",
   "mimetype": "text/x-python",
   "name": "python",
   "nbconvert_exporter": "python",
   "pygments_lexer": "ipython3",
   "version": "3.9.7"
  }
 },
 "nbformat": 4,
 "nbformat_minor": 5
}
