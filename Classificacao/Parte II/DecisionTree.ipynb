{
 "cells": [
  {
   "cell_type": "markdown",
   "metadata": {},
   "source": [
    "# Árvore de decisão"
   ]
  },
  {
   "cell_type": "code",
   "execution_count": 1,
   "metadata": {},
   "outputs": [],
   "source": [
    "import numpy as np\n",
    "import pandas as pd\n",
    "import matplotlib.pyplot as plt"
   ]
  },
  {
   "cell_type": "markdown",
   "metadata": {},
   "source": [
    "# Leitura dos dados"
   ]
  },
  {
   "cell_type": "code",
   "execution_count": 2,
   "metadata": {},
   "outputs": [
    {
     "data": {
      "text/html": [
       "<div>\n",
       "<style scoped>\n",
       "    .dataframe tbody tr th:only-of-type {\n",
       "        vertical-align: middle;\n",
       "    }\n",
       "\n",
       "    .dataframe tbody tr th {\n",
       "        vertical-align: top;\n",
       "    }\n",
       "\n",
       "    .dataframe thead th {\n",
       "        text-align: right;\n",
       "    }\n",
       "</style>\n",
       "<table border=\"1\" class=\"dataframe\">\n",
       "  <thead>\n",
       "    <tr style=\"text-align: right;\">\n",
       "      <th></th>\n",
       "      <th>Age</th>\n",
       "      <th>NumOfProducts</th>\n",
       "      <th>IsActiveMember</th>\n",
       "      <th>Exited</th>\n",
       "    </tr>\n",
       "  </thead>\n",
       "  <tbody>\n",
       "    <tr>\n",
       "      <th>0</th>\n",
       "      <td>42</td>\n",
       "      <td>1</td>\n",
       "      <td>1</td>\n",
       "      <td>1</td>\n",
       "    </tr>\n",
       "    <tr>\n",
       "      <th>1</th>\n",
       "      <td>41</td>\n",
       "      <td>1</td>\n",
       "      <td>1</td>\n",
       "      <td>0</td>\n",
       "    </tr>\n",
       "    <tr>\n",
       "      <th>2</th>\n",
       "      <td>42</td>\n",
       "      <td>3</td>\n",
       "      <td>0</td>\n",
       "      <td>1</td>\n",
       "    </tr>\n",
       "    <tr>\n",
       "      <th>3</th>\n",
       "      <td>39</td>\n",
       "      <td>2</td>\n",
       "      <td>0</td>\n",
       "      <td>0</td>\n",
       "    </tr>\n",
       "    <tr>\n",
       "      <th>4</th>\n",
       "      <td>43</td>\n",
       "      <td>1</td>\n",
       "      <td>1</td>\n",
       "      <td>0</td>\n",
       "    </tr>\n",
       "    <tr>\n",
       "      <th>...</th>\n",
       "      <td>...</td>\n",
       "      <td>...</td>\n",
       "      <td>...</td>\n",
       "      <td>...</td>\n",
       "    </tr>\n",
       "    <tr>\n",
       "      <th>9995</th>\n",
       "      <td>39</td>\n",
       "      <td>2</td>\n",
       "      <td>0</td>\n",
       "      <td>0</td>\n",
       "    </tr>\n",
       "    <tr>\n",
       "      <th>9996</th>\n",
       "      <td>35</td>\n",
       "      <td>1</td>\n",
       "      <td>1</td>\n",
       "      <td>0</td>\n",
       "    </tr>\n",
       "    <tr>\n",
       "      <th>9997</th>\n",
       "      <td>36</td>\n",
       "      <td>1</td>\n",
       "      <td>1</td>\n",
       "      <td>1</td>\n",
       "    </tr>\n",
       "    <tr>\n",
       "      <th>9998</th>\n",
       "      <td>42</td>\n",
       "      <td>2</td>\n",
       "      <td>0</td>\n",
       "      <td>1</td>\n",
       "    </tr>\n",
       "    <tr>\n",
       "      <th>9999</th>\n",
       "      <td>28</td>\n",
       "      <td>1</td>\n",
       "      <td>0</td>\n",
       "      <td>0</td>\n",
       "    </tr>\n",
       "  </tbody>\n",
       "</table>\n",
       "<p>10000 rows × 4 columns</p>\n",
       "</div>"
      ],
      "text/plain": [
       "      Age  NumOfProducts  IsActiveMember  Exited\n",
       "0      42              1               1       1\n",
       "1      41              1               1       0\n",
       "2      42              3               0       1\n",
       "3      39              2               0       0\n",
       "4      43              1               1       0\n",
       "...   ...            ...             ...     ...\n",
       "9995   39              2               0       0\n",
       "9996   35              1               1       0\n",
       "9997   36              1               1       1\n",
       "9998   42              2               0       1\n",
       "9999   28              1               0       0\n",
       "\n",
       "[10000 rows x 4 columns]"
      ]
     },
     "execution_count": 2,
     "metadata": {},
     "output_type": "execute_result"
    }
   ],
   "source": [
    "df = pd.read_csv('dt.csv')\n",
    "df"
   ]
  },
  {
   "cell_type": "markdown",
   "metadata": {},
   "source": [
    "# Separação em variáveis preditivas e variável resposta"
   ]
  },
  {
   "cell_type": "code",
   "execution_count": 3,
   "metadata": {},
   "outputs": [
    {
     "data": {
      "text/html": [
       "<div>\n",
       "<style scoped>\n",
       "    .dataframe tbody tr th:only-of-type {\n",
       "        vertical-align: middle;\n",
       "    }\n",
       "\n",
       "    .dataframe tbody tr th {\n",
       "        vertical-align: top;\n",
       "    }\n",
       "\n",
       "    .dataframe thead th {\n",
       "        text-align: right;\n",
       "    }\n",
       "</style>\n",
       "<table border=\"1\" class=\"dataframe\">\n",
       "  <thead>\n",
       "    <tr style=\"text-align: right;\">\n",
       "      <th></th>\n",
       "      <th>Age</th>\n",
       "      <th>NumOfProducts</th>\n",
       "      <th>IsActiveMember</th>\n",
       "    </tr>\n",
       "  </thead>\n",
       "  <tbody>\n",
       "    <tr>\n",
       "      <th>0</th>\n",
       "      <td>42</td>\n",
       "      <td>1</td>\n",
       "      <td>1</td>\n",
       "    </tr>\n",
       "    <tr>\n",
       "      <th>1</th>\n",
       "      <td>41</td>\n",
       "      <td>1</td>\n",
       "      <td>1</td>\n",
       "    </tr>\n",
       "    <tr>\n",
       "      <th>2</th>\n",
       "      <td>42</td>\n",
       "      <td>3</td>\n",
       "      <td>0</td>\n",
       "    </tr>\n",
       "    <tr>\n",
       "      <th>3</th>\n",
       "      <td>39</td>\n",
       "      <td>2</td>\n",
       "      <td>0</td>\n",
       "    </tr>\n",
       "    <tr>\n",
       "      <th>4</th>\n",
       "      <td>43</td>\n",
       "      <td>1</td>\n",
       "      <td>1</td>\n",
       "    </tr>\n",
       "    <tr>\n",
       "      <th>...</th>\n",
       "      <td>...</td>\n",
       "      <td>...</td>\n",
       "      <td>...</td>\n",
       "    </tr>\n",
       "    <tr>\n",
       "      <th>9995</th>\n",
       "      <td>39</td>\n",
       "      <td>2</td>\n",
       "      <td>0</td>\n",
       "    </tr>\n",
       "    <tr>\n",
       "      <th>9996</th>\n",
       "      <td>35</td>\n",
       "      <td>1</td>\n",
       "      <td>1</td>\n",
       "    </tr>\n",
       "    <tr>\n",
       "      <th>9997</th>\n",
       "      <td>36</td>\n",
       "      <td>1</td>\n",
       "      <td>1</td>\n",
       "    </tr>\n",
       "    <tr>\n",
       "      <th>9998</th>\n",
       "      <td>42</td>\n",
       "      <td>2</td>\n",
       "      <td>0</td>\n",
       "    </tr>\n",
       "    <tr>\n",
       "      <th>9999</th>\n",
       "      <td>28</td>\n",
       "      <td>1</td>\n",
       "      <td>0</td>\n",
       "    </tr>\n",
       "  </tbody>\n",
       "</table>\n",
       "<p>10000 rows × 3 columns</p>\n",
       "</div>"
      ],
      "text/plain": [
       "      Age  NumOfProducts  IsActiveMember\n",
       "0      42              1               1\n",
       "1      41              1               1\n",
       "2      42              3               0\n",
       "3      39              2               0\n",
       "4      43              1               1\n",
       "...   ...            ...             ...\n",
       "9995   39              2               0\n",
       "9996   35              1               1\n",
       "9997   36              1               1\n",
       "9998   42              2               0\n",
       "9999   28              1               0\n",
       "\n",
       "[10000 rows x 3 columns]"
      ]
     },
     "execution_count": 3,
     "metadata": {},
     "output_type": "execute_result"
    }
   ],
   "source": [
    "X = df.drop('Exited',axis=1)\n",
    "y = df.Exited\n",
    "\n",
    "X"
   ]
  },
  {
   "cell_type": "code",
   "execution_count": 4,
   "metadata": {},
   "outputs": [
    {
     "data": {
      "text/plain": [
       "0       1\n",
       "1       0\n",
       "2       1\n",
       "3       0\n",
       "4       0\n",
       "       ..\n",
       "9995    0\n",
       "9996    0\n",
       "9997    1\n",
       "9998    1\n",
       "9999    0\n",
       "Name: Exited, Length: 10000, dtype: int64"
      ]
     },
     "execution_count": 4,
     "metadata": {},
     "output_type": "execute_result"
    }
   ],
   "source": [
    "y"
   ]
  },
  {
   "cell_type": "markdown",
   "metadata": {},
   "source": [
    "# Análises preliminares"
   ]
  },
  {
   "cell_type": "code",
   "execution_count": 11,
   "metadata": {},
   "outputs": [
    {
     "data": {
      "text/plain": [
       "<matplotlib.legend.Legend at 0x7ff0bef94e20>"
      ]
     },
     "execution_count": 11,
     "metadata": {},
     "output_type": "execute_result"
    },
    {
     "data": {
      "image/png": "[encoded data removed]",
      "text/plain": [
       "<Figure size 1080x360 with 1 Axes>"
      ]
     },
     "metadata": {
      "needs_background": "light"
     },
     "output_type": "display_data"
    }
   ],
   "source": [
    "mi = X.Age.min()\n",
    "ma = X.Age.max()\n",
    "\n",
    "bins = np.linspace(mi,ma,20)\n",
    "\n",
    "plt.figure(figsize=(15,5))\n",
    "plt.hist( X.loc[y==0].Age, rwidth=0.80, bins=bins, color='b', alpha=.3, density=True, label='Clientes fieis' )\n",
    "plt.hist( X.loc[y==1].Age, rwidth=0.80, bins=bins, color='r', alpha=.3, density=True, label='Abandonam' )\n",
    "\n",
    "plt.legend()"
   ]
  },
  {
   "cell_type": "code",
   "execution_count": 14,
   "metadata": {},
   "outputs": [
    {
     "data": {
      "text/plain": [
       "0.2037"
      ]
     },
     "execution_count": 14,
     "metadata": {},
     "output_type": "execute_result"
    }
   ],
   "source": [
    "y.mean()"
   ]
  },
  {
   "cell_type": "code",
   "execution_count": 12,
   "metadata": {},
   "outputs": [
    {
     "data": {
      "text/plain": [
       "0.3588337901819088"
      ]
     },
     "execution_count": 12,
     "metadata": {},
     "output_type": "execute_result"
    }
   ],
   "source": [
    "y.loc[ X.Age>=40 ].mean()"
   ]
  },
  {
   "cell_type": "code",
   "execution_count": 15,
   "metadata": {},
   "outputs": [
    {
     "data": {
      "text/plain": [
       "0.09971605144479706"
      ]
     },
     "execution_count": 15,
     "metadata": {},
     "output_type": "execute_result"
    }
   ],
   "source": [
    "y.loc[ X.Age<40 ].mean()"
   ]
  },
  {
   "cell_type": "code",
   "execution_count": 17,
   "metadata": {},
   "outputs": [
    {
     "data": {
      "text/plain": [
       "<matplotlib.legend.Legend at 0x7ff0998315b0>"
      ]
     },
     "execution_count": 17,
     "metadata": {},
     "output_type": "execute_result"
    },
    {
     "data": {
      "image/png": "[encoded data removed]",
      "text/plain": [
       "<Figure size 1080x360 with 1 Axes>"
      ]
     },
     "metadata": {
      "needs_background": "light"
     },
     "output_type": "display_data"
    }
   ],
   "source": [
    "mi = X.NumOfProducts.min()\n",
    "ma = X.NumOfProducts.max()\n",
    "\n",
    "bins = np.linspace(mi,ma,20)\n",
    "\n",
    "plt.figure(figsize=(15,5))\n",
    "plt.hist( X.loc[y==0].NumOfProducts, rwidth=0.80, bins=bins, color='b', alpha=.3, density=True, label='Clientes fieis' )\n",
    "plt.hist( X.loc[y==1].NumOfProducts, rwidth=0.80, bins=bins, color='r', alpha=.3, density=True, label='Abandonam' )\n",
    "\n",
    "plt.legend()"
   ]
  },
  {
   "cell_type": "code",
   "execution_count": 18,
   "metadata": {},
   "outputs": [
    {
     "data": {
      "text/plain": [
       "<matplotlib.legend.Legend at 0x7ff099d7c640>"
      ]
     },
     "execution_count": 18,
     "metadata": {},
     "output_type": "execute_result"
    },
    {
     "data": {
      "image/png": "[encoded data removed]",
      "text/plain": [
       "<Figure size 1080x360 with 1 Axes>"
      ]
     },
     "metadata": {
      "needs_background": "light"
     },
     "output_type": "display_data"
    }
   ],
   "source": [
    "mi = X.IsActiveMember.min()\n",
    "ma = X.IsActiveMember.max()\n",
    "\n",
    "bins = np.linspace(mi,ma,20)\n",
    "\n",
    "plt.figure(figsize=(15,5))\n",
    "plt.hist( X.loc[y==0].IsActiveMember, rwidth=0.80, bins=bins, color='b', alpha=.3, density=True, label='Clientes fieis' )\n",
    "plt.hist( X.loc[y==1].IsActiveMember, rwidth=0.80, bins=bins, color='r', alpha=.3, density=True, label='Abandonam' )\n",
    "\n",
    "plt.legend()"
   ]
  },
  {
   "cell_type": "markdown",
   "metadata": {},
   "source": [
    "# Divisão em conjunto treino e conjunto teste"
   ]
  },
  {
   "cell_type": "markdown",
   "metadata": {},
   "source": [
    "# Esses dados não tem uma coluna de TEMPO\n",
    "\n",
    "# Então faremos uma validação out-of-sample"
   ]
  },
  {
   "cell_type": "code",
   "execution_count": 19,
   "metadata": {},
   "outputs": [
    {
     "data": {
      "text/plain": [
       "'0.24.0'"
      ]
     },
     "execution_count": 19,
     "metadata": {},
     "output_type": "execute_result"
    }
   ],
   "source": [
    "import sklearn\n",
    "sklearn.__version__"
   ]
  },
  {
   "cell_type": "code",
   "execution_count": 21,
   "metadata": {},
   "outputs": [],
   "source": [
    "from sklearn.model_selection import train_test_split\n",
    "\n",
    "X_tr, X_ts, y_tr, y_ts = train_test_split(X,y, test_size=0.30, random_state=61658)"
   ]
  },
  {
   "cell_type": "code",
   "execution_count": 22,
   "metadata": {},
   "outputs": [
    {
     "data": {
      "text/html": [
       "<div>\n",
       "<style scoped>\n",
       "    .dataframe tbody tr th:only-of-type {\n",
       "        vertical-align: middle;\n",
       "    }\n",
       "\n",
       "    .dataframe tbody tr th {\n",
       "        vertical-align: top;\n",
       "    }\n",
       "\n",
       "    .dataframe thead th {\n",
       "        text-align: right;\n",
       "    }\n",
       "</style>\n",
       "<table border=\"1\" class=\"dataframe\">\n",
       "  <thead>\n",
       "    <tr style=\"text-align: right;\">\n",
       "      <th></th>\n",
       "      <th>Age</th>\n",
       "      <th>NumOfProducts</th>\n",
       "      <th>IsActiveMember</th>\n",
       "    </tr>\n",
       "  </thead>\n",
       "  <tbody>\n",
       "    <tr>\n",
       "      <th>9057</th>\n",
       "      <td>33</td>\n",
       "      <td>2</td>\n",
       "      <td>1</td>\n",
       "    </tr>\n",
       "    <tr>\n",
       "      <th>81</th>\n",
       "      <td>32</td>\n",
       "      <td>1</td>\n",
       "      <td>0</td>\n",
       "    </tr>\n",
       "    <tr>\n",
       "      <th>3433</th>\n",
       "      <td>37</td>\n",
       "      <td>1</td>\n",
       "      <td>0</td>\n",
       "    </tr>\n",
       "    <tr>\n",
       "      <th>1768</th>\n",
       "      <td>28</td>\n",
       "      <td>2</td>\n",
       "      <td>0</td>\n",
       "    </tr>\n",
       "    <tr>\n",
       "      <th>1888</th>\n",
       "      <td>60</td>\n",
       "      <td>2</td>\n",
       "      <td>1</td>\n",
       "    </tr>\n",
       "    <tr>\n",
       "      <th>...</th>\n",
       "      <td>...</td>\n",
       "      <td>...</td>\n",
       "      <td>...</td>\n",
       "    </tr>\n",
       "    <tr>\n",
       "      <th>4368</th>\n",
       "      <td>33</td>\n",
       "      <td>1</td>\n",
       "      <td>0</td>\n",
       "    </tr>\n",
       "    <tr>\n",
       "      <th>9637</th>\n",
       "      <td>31</td>\n",
       "      <td>1</td>\n",
       "      <td>1</td>\n",
       "    </tr>\n",
       "    <tr>\n",
       "      <th>8675</th>\n",
       "      <td>54</td>\n",
       "      <td>1</td>\n",
       "      <td>0</td>\n",
       "    </tr>\n",
       "    <tr>\n",
       "      <th>8806</th>\n",
       "      <td>38</td>\n",
       "      <td>2</td>\n",
       "      <td>1</td>\n",
       "    </tr>\n",
       "    <tr>\n",
       "      <th>3836</th>\n",
       "      <td>49</td>\n",
       "      <td>3</td>\n",
       "      <td>1</td>\n",
       "    </tr>\n",
       "  </tbody>\n",
       "</table>\n",
       "<p>7000 rows × 3 columns</p>\n",
       "</div>"
      ],
      "text/plain": [
       "      Age  NumOfProducts  IsActiveMember\n",
       "9057   33              2               1\n",
       "81     32              1               0\n",
       "3433   37              1               0\n",
       "1768   28              2               0\n",
       "1888   60              2               1\n",
       "...   ...            ...             ...\n",
       "4368   33              1               0\n",
       "9637   31              1               1\n",
       "8675   54              1               0\n",
       "8806   38              2               1\n",
       "3836   49              3               1\n",
       "\n",
       "[7000 rows x 3 columns]"
      ]
     },
     "execution_count": 22,
     "metadata": {},
     "output_type": "execute_result"
    }
   ],
   "source": [
    "X_tr"
   ]
  },
  {
   "cell_type": "code",
   "execution_count": 23,
   "metadata": {},
   "outputs": [
    {
     "data": {
      "text/html": [
       "<div>\n",
       "<style scoped>\n",
       "    .dataframe tbody tr th:only-of-type {\n",
       "        vertical-align: middle;\n",
       "    }\n",
       "\n",
       "    .dataframe tbody tr th {\n",
       "        vertical-align: top;\n",
       "    }\n",
       "\n",
       "    .dataframe thead th {\n",
       "        text-align: right;\n",
       "    }\n",
       "</style>\n",
       "<table border=\"1\" class=\"dataframe\">\n",
       "  <thead>\n",
       "    <tr style=\"text-align: right;\">\n",
       "      <th></th>\n",
       "      <th>Age</th>\n",
       "      <th>NumOfProducts</th>\n",
       "      <th>IsActiveMember</th>\n",
       "    </tr>\n",
       "  </thead>\n",
       "  <tbody>\n",
       "    <tr>\n",
       "      <th>2184</th>\n",
       "      <td>40</td>\n",
       "      <td>2</td>\n",
       "      <td>0</td>\n",
       "    </tr>\n",
       "    <tr>\n",
       "      <th>1795</th>\n",
       "      <td>35</td>\n",
       "      <td>1</td>\n",
       "      <td>1</td>\n",
       "    </tr>\n",
       "    <tr>\n",
       "      <th>2175</th>\n",
       "      <td>34</td>\n",
       "      <td>2</td>\n",
       "      <td>0</td>\n",
       "    </tr>\n",
       "    <tr>\n",
       "      <th>9004</th>\n",
       "      <td>33</td>\n",
       "      <td>2</td>\n",
       "      <td>0</td>\n",
       "    </tr>\n",
       "    <tr>\n",
       "      <th>3484</th>\n",
       "      <td>28</td>\n",
       "      <td>2</td>\n",
       "      <td>1</td>\n",
       "    </tr>\n",
       "    <tr>\n",
       "      <th>...</th>\n",
       "      <td>...</td>\n",
       "      <td>...</td>\n",
       "      <td>...</td>\n",
       "    </tr>\n",
       "    <tr>\n",
       "      <th>8441</th>\n",
       "      <td>23</td>\n",
       "      <td>2</td>\n",
       "      <td>0</td>\n",
       "    </tr>\n",
       "    <tr>\n",
       "      <th>9524</th>\n",
       "      <td>38</td>\n",
       "      <td>1</td>\n",
       "      <td>0</td>\n",
       "    </tr>\n",
       "    <tr>\n",
       "      <th>1685</th>\n",
       "      <td>20</td>\n",
       "      <td>1</td>\n",
       "      <td>0</td>\n",
       "    </tr>\n",
       "    <tr>\n",
       "      <th>5946</th>\n",
       "      <td>32</td>\n",
       "      <td>2</td>\n",
       "      <td>0</td>\n",
       "    </tr>\n",
       "    <tr>\n",
       "      <th>6588</th>\n",
       "      <td>28</td>\n",
       "      <td>2</td>\n",
       "      <td>0</td>\n",
       "    </tr>\n",
       "  </tbody>\n",
       "</table>\n",
       "<p>3000 rows × 3 columns</p>\n",
       "</div>"
      ],
      "text/plain": [
       "      Age  NumOfProducts  IsActiveMember\n",
       "2184   40              2               0\n",
       "1795   35              1               1\n",
       "2175   34              2               0\n",
       "9004   33              2               0\n",
       "3484   28              2               1\n",
       "...   ...            ...             ...\n",
       "8441   23              2               0\n",
       "9524   38              1               0\n",
       "1685   20              1               0\n",
       "5946   32              2               0\n",
       "6588   28              2               0\n",
       "\n",
       "[3000 rows x 3 columns]"
      ]
     },
     "execution_count": 23,
     "metadata": {},
     "output_type": "execute_result"
    }
   ],
   "source": [
    "X_ts"
   ]
  },
  {
   "cell_type": "markdown",
   "metadata": {},
   "source": [
    "# Definição dos parâmetros de VALIDAÇÃO CRUZADA"
   ]
  },
  {
   "cell_type": "code",
   "execution_count": 24,
   "metadata": {},
   "outputs": [],
   "source": [
    "from sklearn.tree import DecisionTreeClassifier\n",
    "from sklearn.model_selection import GridSearchCV\n",
    "\n",
    "params = {\n",
    "    'max_leaf_nodes': [4,8,16,32,64,128,256,512,1024,2048],\n",
    "    'criterion': ['gini','entropy'],\n",
    "}\n",
    "\n",
    "grid = GridSearchCV(\n",
    "    DecisionTreeClassifier(random_state=61658), #Primeiro arg: Modelo\n",
    "    params,                                     #Segundo arg: Parâmetros\n",
    "    cv=10,                                      #Arg `cv`: Qtd de folds\n",
    "    scoring='roc_auc',                          #Arg `scoring`: Métrica\n",
    "    verbose=5, #Arg `verbose`: Mostra na tela\n",
    ")"
   ]
  },
  {
   "cell_type": "code",
   "execution_count": 25,
   "metadata": {},
   "outputs": [
    {
     "data": {
      "text/plain": [
       "GridSearchCV(cv=10, estimator=DecisionTreeClassifier(random_state=61658),\n",
       "             param_grid={'criterion': ['gini', 'entropy'],\n",
       "                         'max_leaf_nodes': [4, 8, 16, 32, 64, 128, 256, 512,\n",
       "                                            1024, 2048]},\n",
       "             scoring='roc_auc', verbose=5)"
      ]
     },
     "execution_count": 25,
     "metadata": {},
     "output_type": "execute_result"
    }
   ],
   "source": [
    "grid"
   ]
  },
  {
   "cell_type": "markdown",
   "metadata": {},
   "source": [
    "# Encontrar o melhor modelo nos dados de TREINO por validação cruzada"
   ]
  },
  {
   "cell_type": "code",
   "execution_count": 26,
   "metadata": {},
   "outputs": [
    {
     "name": "stdout",
     "output_type": "stream",
     "text": [
      "Fitting 10 folds for each of 20 candidates, totalling 200 fits\n",
      "[CV 1/10] END ..............criterion=gini, max_leaf_nodes=4; total time=   0.1s\n",
      "[CV 2/10] END ..............criterion=gini, max_leaf_nodes=4; total time=   0.0s\n",
      "[CV 3/10] END ..............criterion=gini, max_leaf_nodes=4; total time=   0.0s\n",
      "[CV 4/10] END ..............criterion=gini, max_leaf_nodes=4; total time=   0.0s\n",
      "[CV 5/10] END ..............criterion=gini, max_leaf_nodes=4; total time=   0.1s\n",
      "[CV 6/10] END ..............criterion=gini, max_leaf_nodes=4; total time=   0.0s\n",
      "[CV 7/10] END ..............criterion=gini, max_leaf_nodes=4; total time=   0.0s\n",
      "[CV 8/10] END ..............criterion=gini, max_leaf_nodes=4; total time=   0.0s\n",
      "[CV 9/10] END ..............criterion=gini, max_leaf_nodes=4; total time=   0.0s\n",
      "[CV 10/10] END .............criterion=gini, max_leaf_nodes=4; total time=   0.0s\n",
      "[CV 1/10] END ..............criterion=gini, max_leaf_nodes=8; total time=   0.0s\n",
      "[CV 2/10] END ..............criterion=gini, max_leaf_nodes=8; total time=   0.0s\n",
      "[CV 3/10] END ..............criterion=gini, max_leaf_nodes=8; total time=   0.0s\n",
      "[CV 4/10] END ..............criterion=gini, max_leaf_nodes=8; total time=   0.0s\n",
      "[CV 5/10] END ..............criterion=gini, max_leaf_nodes=8; total time=   0.0s\n",
      "[CV 6/10] END ..............criterion=gini, max_leaf_nodes=8; total time=   0.0s\n",
      "[CV 7/10] END ..............criterion=gini, max_leaf_nodes=8; total time=   0.0s\n",
      "[CV 8/10] END ..............criterion=gini, max_leaf_nodes=8; total time=   0.0s\n",
      "[CV 9/10] END ..............criterion=gini, max_leaf_nodes=8; total time=   0.0s\n",
      "[CV 10/10] END .............criterion=gini, max_leaf_nodes=8; total time=   0.0s\n",
      "[CV 1/10] END .............criterion=gini, max_leaf_nodes=16; total time=   0.0s\n",
      "[CV 2/10] END .............criterion=gini, max_leaf_nodes=16; total time=   0.0s\n",
      "[CV 3/10] END .............criterion=gini, max_leaf_nodes=16; total time=   0.0s\n",
      "[CV 4/10] END .............criterion=gini, max_leaf_nodes=16; total time=   0.0s\n",
      "[CV 5/10] END .............criterion=gini, max_leaf_nodes=16; total time=   0.1s\n",
      "[CV 6/10] END .............criterion=gini, max_leaf_nodes=16; total time=   0.0s\n",
      "[CV 7/10] END .............criterion=gini, max_leaf_nodes=16; total time=   0.0s\n",
      "[CV 8/10] END .............criterion=gini, max_leaf_nodes=16; total time=   0.0s\n",
      "[CV 9/10] END .............criterion=gini, max_leaf_nodes=16; total time=   0.0s\n",
      "[CV 10/10] END ............criterion=gini, max_leaf_nodes=16; total time=   0.0s\n",
      "[CV 1/10] END .............criterion=gini, max_leaf_nodes=32; total time=   0.0s\n",
      "[CV 2/10] END .............criterion=gini, max_leaf_nodes=32; total time=   0.1s\n",
      "[CV 3/10] END .............criterion=gini, max_leaf_nodes=32; total time=   0.0s\n",
      "[CV 4/10] END .............criterion=gini, max_leaf_nodes=32; total time=   0.0s\n",
      "[CV 5/10] END .............criterion=gini, max_leaf_nodes=32; total time=   0.0s\n",
      "[CV 6/10] END .............criterion=gini, max_leaf_nodes=32; total time=   0.0s\n",
      "[CV 7/10] END .............criterion=gini, max_leaf_nodes=32; total time=   0.1s\n",
      "[CV 8/10] END .............criterion=gini, max_leaf_nodes=32; total time=   0.1s\n",
      "[CV 9/10] END .............criterion=gini, max_leaf_nodes=32; total time=   0.0s\n",
      "[CV 10/10] END ............criterion=gini, max_leaf_nodes=32; total time=   0.0s\n",
      "[CV 1/10] END .............criterion=gini, max_leaf_nodes=64; total time=   0.0s\n",
      "[CV 2/10] END .............criterion=gini, max_leaf_nodes=64; total time=   0.0s\n",
      "[CV 3/10] END .............criterion=gini, max_leaf_nodes=64; total time=   0.1s\n",
      "[CV 4/10] END .............criterion=gini, max_leaf_nodes=64; total time=   0.1s\n",
      "[CV 5/10] END .............criterion=gini, max_leaf_nodes=64; total time=   0.1s\n",
      "[CV 6/10] END .............criterion=gini, max_leaf_nodes=64; total time=   0.0s\n",
      "[CV 7/10] END .............criterion=gini, max_leaf_nodes=64; total time=   0.0s\n",
      "[CV 8/10] END .............criterion=gini, max_leaf_nodes=64; total time=   0.0s\n",
      "[CV 9/10] END .............criterion=gini, max_leaf_nodes=64; total time=   0.0s\n",
      "[CV 10/10] END ............criterion=gini, max_leaf_nodes=64; total time=   0.0s\n",
      "[CV 1/10] END ............criterion=gini, max_leaf_nodes=128; total time=   0.0s\n",
      "[CV 2/10] END ............criterion=gini, max_leaf_nodes=128; total time=   0.0s\n",
      "[CV 3/10] END ............criterion=gini, max_leaf_nodes=128; total time=   0.0s\n",
      "[CV 4/10] END ............criterion=gini, max_leaf_nodes=128; total time=   0.0s\n",
      "[CV 5/10] END ............criterion=gini, max_leaf_nodes=128; total time=   0.0s\n",
      "[CV 6/10] END ............criterion=gini, max_leaf_nodes=128; total time=   0.0s\n",
      "[CV 7/10] END ............criterion=gini, max_leaf_nodes=128; total time=   0.1s\n",
      "[CV 8/10] END ............criterion=gini, max_leaf_nodes=128; total time=   0.0s\n",
      "[CV 9/10] END ............criterion=gini, max_leaf_nodes=128; total time=   0.0s\n",
      "[CV 10/10] END ...........criterion=gini, max_leaf_nodes=128; total time=   0.0s\n",
      "[CV 1/10] END ............criterion=gini, max_leaf_nodes=256; total time=   0.0s\n",
      "[CV 2/10] END ............criterion=gini, max_leaf_nodes=256; total time=   0.0s\n",
      "[CV 3/10] END ............criterion=gini, max_leaf_nodes=256; total time=   0.0s\n",
      "[CV 4/10] END ............criterion=gini, max_leaf_nodes=256; total time=   0.0s\n",
      "[CV 5/10] END ............criterion=gini, max_leaf_nodes=256; total time=   0.1s\n",
      "[CV 6/10] END ............criterion=gini, max_leaf_nodes=256; total time=   0.0s\n",
      "[CV 7/10] END ............criterion=gini, max_leaf_nodes=256; total time=   0.1s\n",
      "[CV 8/10] END ............criterion=gini, max_leaf_nodes=256; total time=   0.0s\n",
      "[CV 9/10] END ............criterion=gini, max_leaf_nodes=256; total time=   0.1s\n",
      "[CV 10/10] END ...........criterion=gini, max_leaf_nodes=256; total time=   0.0s\n",
      "[CV 1/10] END ............criterion=gini, max_leaf_nodes=512; total time=   0.0s\n",
      "[CV 2/10] END ............criterion=gini, max_leaf_nodes=512; total time=   0.0s\n",
      "[CV 3/10] END ............criterion=gini, max_leaf_nodes=512; total time=   0.0s\n",
      "[CV 4/10] END ............criterion=gini, max_leaf_nodes=512; total time=   0.0s\n",
      "[CV 5/10] END ............criterion=gini, max_leaf_nodes=512; total time=   0.0s\n",
      "[CV 6/10] END ............criterion=gini, max_leaf_nodes=512; total time=   0.1s\n",
      "[CV 7/10] END ............criterion=gini, max_leaf_nodes=512; total time=   0.0s\n",
      "[CV 8/10] END ............criterion=gini, max_leaf_nodes=512; total time=   0.0s\n",
      "[CV 9/10] END ............criterion=gini, max_leaf_nodes=512; total time=   0.0s\n",
      "[CV 10/10] END ...........criterion=gini, max_leaf_nodes=512; total time=   0.0s\n",
      "[CV 1/10] END ...........criterion=gini, max_leaf_nodes=1024; total time=   0.0s\n",
      "[CV 2/10] END ...........criterion=gini, max_leaf_nodes=1024; total time=   0.0s\n",
      "[CV 3/10] END ...........criterion=gini, max_leaf_nodes=1024; total time=   0.0s\n",
      "[CV 4/10] END ...........criterion=gini, max_leaf_nodes=1024; total time=   0.0s\n",
      "[CV 5/10] END ...........criterion=gini, max_leaf_nodes=1024; total time=   0.0s\n",
      "[CV 6/10] END ...........criterion=gini, max_leaf_nodes=1024; total time=   0.0s\n",
      "[CV 7/10] END ...........criterion=gini, max_leaf_nodes=1024; total time=   0.0s\n",
      "[CV 8/10] END ...........criterion=gini, max_leaf_nodes=1024; total time=   0.0s\n",
      "[CV 9/10] END ...........criterion=gini, max_leaf_nodes=1024; total time=   0.0s\n",
      "[CV 10/10] END ..........criterion=gini, max_leaf_nodes=1024; total time=   0.0s\n",
      "[CV 1/10] END ...........criterion=gini, max_leaf_nodes=2048; total time=   0.1s\n",
      "[CV 2/10] END ...........criterion=gini, max_leaf_nodes=2048; total time=   0.0s\n",
      "[CV 3/10] END ...........criterion=gini, max_leaf_nodes=2048; total time=   0.0s\n",
      "[CV 4/10] END ...........criterion=gini, max_leaf_nodes=2048; total time=   0.0s\n",
      "[CV 5/10] END ...........criterion=gini, max_leaf_nodes=2048; total time=   0.0s\n",
      "[CV 6/10] END ...........criterion=gini, max_leaf_nodes=2048; total time=   0.0s\n",
      "[CV 7/10] END ...........criterion=gini, max_leaf_nodes=2048; total time=   0.0s\n",
      "[CV 8/10] END ...........criterion=gini, max_leaf_nodes=2048; total time=   0.0s\n",
      "[CV 9/10] END ...........criterion=gini, max_leaf_nodes=2048; total time=   0.1s\n",
      "[CV 10/10] END ..........criterion=gini, max_leaf_nodes=2048; total time=   0.1s\n",
      "[CV 1/10] END ...........criterion=entropy, max_leaf_nodes=4; total time=   0.1s\n",
      "[CV 2/10] END ...........criterion=entropy, max_leaf_nodes=4; total time=   0.0s\n",
      "[CV 3/10] END ...........criterion=entropy, max_leaf_nodes=4; total time=   0.0s\n",
      "[CV 4/10] END ...........criterion=entropy, max_leaf_nodes=4; total time=   0.0s\n"
     ]
    },
    {
     "name": "stdout",
     "output_type": "stream",
     "text": [
      "[CV 5/10] END ...........criterion=entropy, max_leaf_nodes=4; total time=   0.1s\n",
      "[CV 6/10] END ...........criterion=entropy, max_leaf_nodes=4; total time=   0.0s\n",
      "[CV 7/10] END ...........criterion=entropy, max_leaf_nodes=4; total time=   0.0s\n",
      "[CV 8/10] END ...........criterion=entropy, max_leaf_nodes=4; total time=   0.1s\n",
      "[CV 9/10] END ...........criterion=entropy, max_leaf_nodes=4; total time=   0.1s\n",
      "[CV 10/10] END ..........criterion=entropy, max_leaf_nodes=4; total time=   0.0s\n",
      "[CV 1/10] END ...........criterion=entropy, max_leaf_nodes=8; total time=   0.0s\n",
      "[CV 2/10] END ...........criterion=entropy, max_leaf_nodes=8; total time=   0.0s\n",
      "[CV 3/10] END ...........criterion=entropy, max_leaf_nodes=8; total time=   0.0s\n",
      "[CV 4/10] END ...........criterion=entropy, max_leaf_nodes=8; total time=   0.0s\n",
      "[CV 5/10] END ...........criterion=entropy, max_leaf_nodes=8; total time=   0.0s\n",
      "[CV 6/10] END ...........criterion=entropy, max_leaf_nodes=8; total time=   0.0s\n",
      "[CV 7/10] END ...........criterion=entropy, max_leaf_nodes=8; total time=   0.0s\n",
      "[CV 8/10] END ...........criterion=entropy, max_leaf_nodes=8; total time=   0.0s\n",
      "[CV 9/10] END ...........criterion=entropy, max_leaf_nodes=8; total time=   0.0s\n",
      "[CV 10/10] END ..........criterion=entropy, max_leaf_nodes=8; total time=   0.1s\n",
      "[CV 1/10] END ..........criterion=entropy, max_leaf_nodes=16; total time=   0.0s\n",
      "[CV 2/10] END ..........criterion=entropy, max_leaf_nodes=16; total time=   0.1s\n",
      "[CV 3/10] END ..........criterion=entropy, max_leaf_nodes=16; total time=   0.0s\n",
      "[CV 4/10] END ..........criterion=entropy, max_leaf_nodes=16; total time=   0.0s\n",
      "[CV 5/10] END ..........criterion=entropy, max_leaf_nodes=16; total time=   0.0s\n",
      "[CV 6/10] END ..........criterion=entropy, max_leaf_nodes=16; total time=   0.0s\n",
      "[CV 7/10] END ..........criterion=entropy, max_leaf_nodes=16; total time=   0.0s\n",
      "[CV 8/10] END ..........criterion=entropy, max_leaf_nodes=16; total time=   0.0s\n",
      "[CV 9/10] END ..........criterion=entropy, max_leaf_nodes=16; total time=   0.0s\n",
      "[CV 10/10] END .........criterion=entropy, max_leaf_nodes=16; total time=   0.0s\n",
      "[CV 1/10] END ..........criterion=entropy, max_leaf_nodes=32; total time=   0.0s\n",
      "[CV 2/10] END ..........criterion=entropy, max_leaf_nodes=32; total time=   0.0s\n",
      "[CV 3/10] END ..........criterion=entropy, max_leaf_nodes=32; total time=   0.0s\n",
      "[CV 4/10] END ..........criterion=entropy, max_leaf_nodes=32; total time=   0.0s\n",
      "[CV 5/10] END ..........criterion=entropy, max_leaf_nodes=32; total time=   0.0s\n",
      "[CV 6/10] END ..........criterion=entropy, max_leaf_nodes=32; total time=   0.0s\n",
      "[CV 7/10] END ..........criterion=entropy, max_leaf_nodes=32; total time=   0.0s\n",
      "[CV 8/10] END ..........criterion=entropy, max_leaf_nodes=32; total time=   0.1s\n",
      "[CV 9/10] END ..........criterion=entropy, max_leaf_nodes=32; total time=   0.0s\n",
      "[CV 10/10] END .........criterion=entropy, max_leaf_nodes=32; total time=   0.1s\n",
      "[CV 1/10] END ..........criterion=entropy, max_leaf_nodes=64; total time=   0.1s\n",
      "[CV 2/10] END ..........criterion=entropy, max_leaf_nodes=64; total time=   0.0s\n",
      "[CV 3/10] END ..........criterion=entropy, max_leaf_nodes=64; total time=   0.0s\n",
      "[CV 4/10] END ..........criterion=entropy, max_leaf_nodes=64; total time=   0.0s\n",
      "[CV 5/10] END ..........criterion=entropy, max_leaf_nodes=64; total time=   0.0s\n",
      "[CV 6/10] END ..........criterion=entropy, max_leaf_nodes=64; total time=   0.0s\n",
      "[CV 7/10] END ..........criterion=entropy, max_leaf_nodes=64; total time=   0.0s\n",
      "[CV 8/10] END ..........criterion=entropy, max_leaf_nodes=64; total time=   0.0s\n",
      "[CV 9/10] END ..........criterion=entropy, max_leaf_nodes=64; total time=   0.0s\n",
      "[CV 10/10] END .........criterion=entropy, max_leaf_nodes=64; total time=   0.0s\n",
      "[CV 1/10] END .........criterion=entropy, max_leaf_nodes=128; total time=   0.0s\n",
      "[CV 2/10] END .........criterion=entropy, max_leaf_nodes=128; total time=   0.0s\n",
      "[CV 3/10] END .........criterion=entropy, max_leaf_nodes=128; total time=   0.1s\n",
      "[CV 4/10] END .........criterion=entropy, max_leaf_nodes=128; total time=   0.1s\n",
      "[CV 5/10] END .........criterion=entropy, max_leaf_nodes=128; total time=   0.1s\n",
      "[CV 6/10] END .........criterion=entropy, max_leaf_nodes=128; total time=   0.0s\n",
      "[CV 7/10] END .........criterion=entropy, max_leaf_nodes=128; total time=   0.0s\n",
      "[CV 8/10] END .........criterion=entropy, max_leaf_nodes=128; total time=   0.0s\n",
      "[CV 9/10] END .........criterion=entropy, max_leaf_nodes=128; total time=   0.0s\n",
      "[CV 10/10] END ........criterion=entropy, max_leaf_nodes=128; total time=   0.0s\n",
      "[CV 1/10] END .........criterion=entropy, max_leaf_nodes=256; total time=   0.0s\n",
      "[CV 2/10] END .........criterion=entropy, max_leaf_nodes=256; total time=   0.1s\n",
      "[CV 3/10] END .........criterion=entropy, max_leaf_nodes=256; total time=   0.0s\n",
      "[CV 4/10] END .........criterion=entropy, max_leaf_nodes=256; total time=   0.0s\n",
      "[CV 5/10] END .........criterion=entropy, max_leaf_nodes=256; total time=   0.0s\n",
      "[CV 6/10] END .........criterion=entropy, max_leaf_nodes=256; total time=   0.0s\n",
      "[CV 7/10] END .........criterion=entropy, max_leaf_nodes=256; total time=   0.0s\n",
      "[CV 8/10] END .........criterion=entropy, max_leaf_nodes=256; total time=   0.0s\n",
      "[CV 9/10] END .........criterion=entropy, max_leaf_nodes=256; total time=   0.0s\n",
      "[CV 10/10] END ........criterion=entropy, max_leaf_nodes=256; total time=   0.1s\n",
      "[CV 1/10] END .........criterion=entropy, max_leaf_nodes=512; total time=   0.0s\n",
      "[CV 2/10] END .........criterion=entropy, max_leaf_nodes=512; total time=   0.0s\n",
      "[CV 3/10] END .........criterion=entropy, max_leaf_nodes=512; total time=   0.0s\n",
      "[CV 4/10] END .........criterion=entropy, max_leaf_nodes=512; total time=   0.1s\n",
      "[CV 5/10] END .........criterion=entropy, max_leaf_nodes=512; total time=   0.0s\n",
      "[CV 6/10] END .........criterion=entropy, max_leaf_nodes=512; total time=   0.0s\n",
      "[CV 7/10] END .........criterion=entropy, max_leaf_nodes=512; total time=   0.1s\n",
      "[CV 8/10] END .........criterion=entropy, max_leaf_nodes=512; total time=   0.1s\n",
      "[CV 9/10] END .........criterion=entropy, max_leaf_nodes=512; total time=   0.0s\n",
      "[CV 10/10] END ........criterion=entropy, max_leaf_nodes=512; total time=   0.0s\n",
      "[CV 1/10] END ........criterion=entropy, max_leaf_nodes=1024; total time=   0.0s\n",
      "[CV 2/10] END ........criterion=entropy, max_leaf_nodes=1024; total time=   0.0s\n",
      "[CV 3/10] END ........criterion=entropy, max_leaf_nodes=1024; total time=   0.0s\n",
      "[CV 4/10] END ........criterion=entropy, max_leaf_nodes=1024; total time=   0.0s\n",
      "[CV 5/10] END ........criterion=entropy, max_leaf_nodes=1024; total time=   0.0s\n",
      "[CV 6/10] END ........criterion=entropy, max_leaf_nodes=1024; total time=   0.0s\n",
      "[CV 7/10] END ........criterion=entropy, max_leaf_nodes=1024; total time=   0.0s\n",
      "[CV 8/10] END ........criterion=entropy, max_leaf_nodes=1024; total time=   0.1s\n",
      "[CV 9/10] END ........criterion=entropy, max_leaf_nodes=1024; total time=   0.0s\n",
      "[CV 10/10] END .......criterion=entropy, max_leaf_nodes=1024; total time=   0.1s\n",
      "[CV 1/10] END ........criterion=entropy, max_leaf_nodes=2048; total time=   0.0s\n",
      "[CV 2/10] END ........criterion=entropy, max_leaf_nodes=2048; total time=   0.1s\n",
      "[CV 3/10] END ........criterion=entropy, max_leaf_nodes=2048; total time=   0.0s\n",
      "[CV 4/10] END ........criterion=entropy, max_leaf_nodes=2048; total time=   0.0s\n",
      "[CV 5/10] END ........criterion=entropy, max_leaf_nodes=2048; total time=   0.0s\n",
      "[CV 6/10] END ........criterion=entropy, max_leaf_nodes=2048; total time=   0.1s\n",
      "[CV 7/10] END ........criterion=entropy, max_leaf_nodes=2048; total time=   0.0s\n",
      "[CV 8/10] END ........criterion=entropy, max_leaf_nodes=2048; total time=   0.1s\n",
      "[CV 9/10] END ........criterion=entropy, max_leaf_nodes=2048; total time=   0.0s\n",
      "[CV 10/10] END .......criterion=entropy, max_leaf_nodes=2048; total time=   0.0s\n"
     ]
    },
    {
     "data": {
      "text/plain": [
       "GridSearchCV(cv=10, estimator=DecisionTreeClassifier(random_state=61658),\n",
       "             param_grid={'criterion': ['gini', 'entropy'],\n",
       "                         'max_leaf_nodes': [4, 8, 16, 32, 64, 128, 256, 512,\n",
       "                                            1024, 2048]},\n",
       "             scoring='roc_auc', verbose=5)"
      ]
     },
     "execution_count": 26,
     "metadata": {},
     "output_type": "execute_result"
    }
   ],
   "source": [
    "grid.fit(X_tr,y_tr)"
   ]
  },
  {
   "cell_type": "markdown",
   "metadata": {},
   "source": [
    "# Qual foi o melhor parâmetro/modelo?"
   ]
  },
  {
   "cell_type": "code",
   "execution_count": 27,
   "metadata": {},
   "outputs": [
    {
     "data": {
      "text/plain": [
       "{'criterion': 'entropy', 'max_leaf_nodes': 32}"
      ]
     },
     "execution_count": 27,
     "metadata": {},
     "output_type": "execute_result"
    }
   ],
   "source": [
    "grid.best_params_"
   ]
  },
  {
   "cell_type": "markdown",
   "metadata": {},
   "source": [
    "# Qual foi o melhor score médio?"
   ]
  },
  {
   "cell_type": "code",
   "execution_count": 28,
   "metadata": {},
   "outputs": [
    {
     "data": {
      "text/plain": [
       "0.8275774006882053"
      ]
     },
     "execution_count": 28,
     "metadata": {},
     "output_type": "execute_result"
    }
   ],
   "source": [
    "grid.best_score_"
   ]
  },
  {
   "cell_type": "markdown",
   "metadata": {},
   "source": [
    "# Vamos usar o modelo no conjunto TESTE pra ver se está bom"
   ]
  },
  {
   "cell_type": "code",
   "execution_count": 30,
   "metadata": {},
   "outputs": [
    {
     "data": {
      "text/plain": [
       "array([0.07399577, 0.13777778, 0.03446502, ..., 0.13544018, 0.03446502,\n",
       "       0.03446502])"
      ]
     },
     "execution_count": 30,
     "metadata": {},
     "output_type": "execute_result"
    }
   ],
   "source": [
    "y_pred = grid.predict_proba(X_ts)[:,1]\n",
    "y_pred"
   ]
  },
  {
   "cell_type": "markdown",
   "metadata": {},
   "source": [
    "# Curva ROC"
   ]
  },
  {
   "cell_type": "code",
   "execution_count": 34,
   "metadata": {},
   "outputs": [
    {
     "data": {
      "text/plain": [
       "[<matplotlib.lines.Line2D at 0x7ff091a31b50>]"
      ]
     },
     "execution_count": 34,
     "metadata": {},
     "output_type": "execute_result"
    },
    {
     "data": {
      "image/png": "[encoded data removed]",
      "text/plain": [
       "<Figure size 432x432 with 1 Axes>"
      ]
     },
     "metadata": {
      "needs_background": "light"
     },
     "output_type": "display_data"
    }
   ],
   "source": [
    "from sklearn.metrics import roc_curve\n",
    "\n",
    "fpr, tpr, ths = roc_curve(y_ts, y_pred)\n",
    "\n",
    "plt.figure(figsize=(6,6))\n",
    "plt.plot(fpr, tpr)\n",
    "plt.plot((0,1),(0,1),'k--')"
   ]
  },
  {
   "cell_type": "code",
   "execution_count": 35,
   "metadata": {},
   "outputs": [
    {
     "data": {
      "text/plain": [
       "[<matplotlib.lines.Line2D at 0x7ff091ad8760>]"
      ]
     },
     "execution_count": 35,
     "metadata": {},
     "output_type": "execute_result"
    },
    {
     "data": {
      "image/png": "[encoded data removed]",
      "text/plain": [
       "<Figure size 432x432 with 1 Axes>"
      ]
     },
     "metadata": {
      "needs_background": "light"
     },
     "output_type": "display_data"
    }
   ],
   "source": [
    "from sklearn.metrics import roc_curve\n",
    "\n",
    "fpr, tpr, ths = roc_curve(y_ts, y_pred)\n",
    "\n",
    "plt.figure(figsize=(6,6))\n",
    "plt.plot(fpr, tpr)\n",
    "plt.fill_between(fpr, tpr,alpha=.3)\n",
    "plt.plot((0,1),(0,1),'k--')"
   ]
  },
  {
   "cell_type": "markdown",
   "metadata": {},
   "source": [
    "# ROC/AUC score"
   ]
  },
  {
   "cell_type": "code",
   "execution_count": 36,
   "metadata": {},
   "outputs": [
    {
     "data": {
      "text/plain": [
       "0.8266989583333333"
      ]
     },
     "execution_count": 36,
     "metadata": {},
     "output_type": "execute_result"
    }
   ],
   "source": [
    "from sklearn.metrics import roc_auc_score\n",
    "\n",
    "roc_auc_score(y_ts, y_pred)"
   ]
  },
  {
   "cell_type": "code",
   "execution_count": 37,
   "metadata": {},
   "outputs": [
    {
     "data": {
      "text/plain": [
       "0.8275774006882053"
      ]
     },
     "execution_count": 37,
     "metadata": {},
     "output_type": "execute_result"
    }
   ],
   "source": [
    "grid.best_score_"
   ]
  },
  {
   "cell_type": "markdown",
   "metadata": {},
   "source": [
    "# E se tivesse feito no treino?"
   ]
  },
  {
   "cell_type": "code",
   "execution_count": 38,
   "metadata": {},
   "outputs": [
    {
     "data": {
      "text/plain": [
       "<matplotlib.legend.Legend at 0x7ff0919542e0>"
      ]
     },
     "execution_count": 38,
     "metadata": {},
     "output_type": "execute_result"
    },
    {
     "data": {
      "image/png": "[encoded data removed]",
      "text/plain": [
       "<Figure size 432x432 with 1 Axes>"
      ]
     },
     "metadata": {
      "needs_background": "light"
     },
     "output_type": "display_data"
    }
   ],
   "source": [
    "from sklearn.metrics import roc_curve\n",
    "\n",
    "fpr, tpr, ths = roc_curve(y_ts, y_pred)\n",
    "\n",
    "plt.figure(figsize=(6,6))\n",
    "plt.plot(fpr, tpr,label='Teste')\n",
    "plt.plot((0,1),(0,1),'k--')\n",
    "\n",
    "fpr2, tpr2, ths2 = roc_curve(y_tr, grid.predict_proba(X_tr)[:,1])\n",
    "\n",
    "plt.plot(fpr2, tpr2, label='Treino',color='r')\n",
    "\n",
    "plt.legend(fontsize=16)"
   ]
  },
  {
   "cell_type": "markdown",
   "metadata": {},
   "source": [
    "# Visualização da árvore"
   ]
  },
  {
   "cell_type": "code",
   "execution_count": 39,
   "metadata": {},
   "outputs": [
    {
     "data": {
      "text/plain": [
       "GridSearchCV(cv=10, estimator=DecisionTreeClassifier(random_state=61658),\n",
       "             param_grid={'criterion': ['gini', 'entropy'],\n",
       "                         'max_leaf_nodes': [4, 8, 16, 32, 64, 128, 256, 512,\n",
       "                                            1024, 2048]},\n",
       "             scoring='roc_auc', verbose=5)"
      ]
     },
     "execution_count": 39,
     "metadata": {},
     "output_type": "execute_result"
    }
   ],
   "source": [
    "grid"
   ]
  },
  {
   "cell_type": "code",
   "execution_count": 40,
   "metadata": {},
   "outputs": [
    {
     "data": {
      "text/plain": [
       "DecisionTreeClassifier(criterion='entropy', max_leaf_nodes=32,\n",
       "                       random_state=61658)"
      ]
     },
     "execution_count": 40,
     "metadata": {},
     "output_type": "execute_result"
    }
   ],
   "source": [
    "grid.best_estimator_"
   ]
  },
  {
   "cell_type": "code",
   "execution_count": 42,
   "metadata": {},
   "outputs": [
    {
     "data": {
      "image/png": "[encoded data removed]",
      "text/plain": [
       "<Figure size 432x288 with 1 Axes>"
      ]
     },
     "metadata": {
      "needs_background": "light"
     },
     "output_type": "display_data"
    }
   ],
   "source": [
    "from sklearn.tree import plot_tree\n",
    "\n",
    "plot_tree(grid.best_estimator_);"
   ]
  },
  {
   "cell_type": "code",
   "execution_count": 45,
   "metadata": {},
   "outputs": [
    {
     "data": {
      "text/html": [
       "<div>\n",
       "<style scoped>\n",
       "    .dataframe tbody tr th:only-of-type {\n",
       "        vertical-align: middle;\n",
       "    }\n",
       "\n",
       "    .dataframe tbody tr th {\n",
       "        vertical-align: top;\n",
       "    }\n",
       "\n",
       "    .dataframe thead th {\n",
       "        text-align: right;\n",
       "    }\n",
       "</style>\n",
       "<table border=\"1\" class=\"dataframe\">\n",
       "  <thead>\n",
       "    <tr style=\"text-align: right;\">\n",
       "      <th></th>\n",
       "      <th>Age</th>\n",
       "      <th>NumOfProducts</th>\n",
       "      <th>IsActiveMember</th>\n",
       "    </tr>\n",
       "  </thead>\n",
       "  <tbody>\n",
       "    <tr>\n",
       "      <th>9057</th>\n",
       "      <td>33</td>\n",
       "      <td>2</td>\n",
       "      <td>1</td>\n",
       "    </tr>\n",
       "    <tr>\n",
       "      <th>81</th>\n",
       "      <td>32</td>\n",
       "      <td>1</td>\n",
       "      <td>0</td>\n",
       "    </tr>\n",
       "    <tr>\n",
       "      <th>3433</th>\n",
       "      <td>37</td>\n",
       "      <td>1</td>\n",
       "      <td>0</td>\n",
       "    </tr>\n",
       "    <tr>\n",
       "      <th>1768</th>\n",
       "      <td>28</td>\n",
       "      <td>2</td>\n",
       "      <td>0</td>\n",
       "    </tr>\n",
       "    <tr>\n",
       "      <th>1888</th>\n",
       "      <td>60</td>\n",
       "      <td>2</td>\n",
       "      <td>1</td>\n",
       "    </tr>\n",
       "    <tr>\n",
       "      <th>...</th>\n",
       "      <td>...</td>\n",
       "      <td>...</td>\n",
       "      <td>...</td>\n",
       "    </tr>\n",
       "    <tr>\n",
       "      <th>4368</th>\n",
       "      <td>33</td>\n",
       "      <td>1</td>\n",
       "      <td>0</td>\n",
       "    </tr>\n",
       "    <tr>\n",
       "      <th>9637</th>\n",
       "      <td>31</td>\n",
       "      <td>1</td>\n",
       "      <td>1</td>\n",
       "    </tr>\n",
       "    <tr>\n",
       "      <th>8675</th>\n",
       "      <td>54</td>\n",
       "      <td>1</td>\n",
       "      <td>0</td>\n",
       "    </tr>\n",
       "    <tr>\n",
       "      <th>8806</th>\n",
       "      <td>38</td>\n",
       "      <td>2</td>\n",
       "      <td>1</td>\n",
       "    </tr>\n",
       "    <tr>\n",
       "      <th>3836</th>\n",
       "      <td>49</td>\n",
       "      <td>3</td>\n",
       "      <td>1</td>\n",
       "    </tr>\n",
       "  </tbody>\n",
       "</table>\n",
       "<p>7000 rows × 3 columns</p>\n",
       "</div>"
      ],
      "text/plain": [
       "      Age  NumOfProducts  IsActiveMember\n",
       "9057   33              2               1\n",
       "81     32              1               0\n",
       "3433   37              1               0\n",
       "1768   28              2               0\n",
       "1888   60              2               1\n",
       "...   ...            ...             ...\n",
       "4368   33              1               0\n",
       "9637   31              1               1\n",
       "8675   54              1               0\n",
       "8806   38              2               1\n",
       "3836   49              3               1\n",
       "\n",
       "[7000 rows x 3 columns]"
      ]
     },
     "execution_count": 45,
     "metadata": {},
     "output_type": "execute_result"
    }
   ],
   "source": [
    "X_tr"
   ]
  },
  {
   "cell_type": "code",
   "execution_count": 44,
   "metadata": {},
   "outputs": [
    {
     "data": {
      "image/png": "[encoded data removed]",
      "text/plain": [
       "<Figure size 1080x720 with 1 Axes>"
      ]
     },
     "metadata": {
      "needs_background": "light"
     },
     "output_type": "display_data"
    }
   ],
   "source": [
    "plt.figure(figsize=(15,10))\n",
    "plot_tree(grid.best_estimator_, max_depth=2);"
   ]
  },
  {
   "cell_type": "code",
   "execution_count": 46,
   "metadata": {},
   "outputs": [
    {
     "data": {
      "text/plain": [
       "Index(['Age', 'NumOfProducts', 'IsActiveMember'], dtype='object')"
      ]
     },
     "execution_count": 46,
     "metadata": {},
     "output_type": "execute_result"
    }
   ],
   "source": [
    "X_tr.columns"
   ]
  },
  {
   "cell_type": "code",
   "execution_count": 47,
   "metadata": {},
   "outputs": [
    {
     "data": {
      "image/png": "[encoded data removed]",
      "text/plain": [
       "<Figure size 1080x720 with 1 Axes>"
      ]
     },
     "metadata": {
      "needs_background": "light"
     },
     "output_type": "display_data"
    }
   ],
   "source": [
    "plt.figure(figsize=(15,10))\n",
    "plot_tree(grid.best_estimator_, max_depth=2,\n",
    "          feature_names=X_tr.columns, filled=True,\n",
    "         );"
   ]
  },
  {
   "cell_type": "code",
   "execution_count": null,
   "metadata": {},
   "outputs": [],
   "source": []
  }
 ],
 "metadata": {
  "kernelspec": {
   "display_name": "Python 3",
   "language": "python",
   "name": "python3"
  },
  "language_info": {
   "codemirror_mode": {
    "name": "ipython",
    "version": 3
   },
   "file_extension": ".py",
   "mimetype": "text/x-python",
   "name": "python",
   "nbconvert_exporter": "python",
   "pygments_lexer": "ipython3",
   "version": "3.9.1"
  }
 },
 "nbformat": 4,
 "nbformat_minor": 4
}
