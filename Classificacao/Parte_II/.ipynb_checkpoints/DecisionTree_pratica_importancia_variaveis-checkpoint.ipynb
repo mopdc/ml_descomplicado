{
 "cells": [
  {
   "cell_type": "markdown",
   "metadata": {},
   "source": [
    "# Importância de variáveis"
   ]
  },
  {
   "cell_type": "code",
   "execution_count": 1,
   "metadata": {},
   "outputs": [],
   "source": [
    "import numpy as np\n",
    "import pandas as pd\n",
    "import matplotlib.pyplot as plt"
   ]
  },
  {
   "cell_type": "markdown",
   "metadata": {},
   "source": [
    "# Leitura dos dados"
   ]
  },
  {
   "cell_type": "code",
   "execution_count": 2,
   "metadata": {},
   "outputs": [
    {
     "data": {
      "text/html": [
       "<div>\n",
       "<style scoped>\n",
       "    .dataframe tbody tr th:only-of-type {\n",
       "        vertical-align: middle;\n",
       "    }\n",
       "\n",
       "    .dataframe tbody tr th {\n",
       "        vertical-align: top;\n",
       "    }\n",
       "\n",
       "    .dataframe thead th {\n",
       "        text-align: right;\n",
       "    }\n",
       "</style>\n",
       "<table border=\"1\" class=\"dataframe\">\n",
       "  <thead>\n",
       "    <tr style=\"text-align: right;\">\n",
       "      <th></th>\n",
       "      <th>CreditScore</th>\n",
       "      <th>Age</th>\n",
       "      <th>Tenure</th>\n",
       "      <th>Balance</th>\n",
       "      <th>NumOfProducts</th>\n",
       "      <th>HasCrCard</th>\n",
       "      <th>IsActiveMember</th>\n",
       "      <th>EstimatedSalary</th>\n",
       "      <th>Geography_France</th>\n",
       "      <th>Geography_Germany</th>\n",
       "      <th>Geography_Spain</th>\n",
       "      <th>Gender_Female</th>\n",
       "      <th>Gender_Male</th>\n",
       "      <th>Exited</th>\n",
       "    </tr>\n",
       "  </thead>\n",
       "  <tbody>\n",
       "    <tr>\n",
       "      <th>0</th>\n",
       "      <td>619</td>\n",
       "      <td>42</td>\n",
       "      <td>2</td>\n",
       "      <td>0.00</td>\n",
       "      <td>1</td>\n",
       "      <td>1</td>\n",
       "      <td>1</td>\n",
       "      <td>101348.88</td>\n",
       "      <td>1</td>\n",
       "      <td>0</td>\n",
       "      <td>0</td>\n",
       "      <td>1</td>\n",
       "      <td>0</td>\n",
       "      <td>1</td>\n",
       "    </tr>\n",
       "    <tr>\n",
       "      <th>1</th>\n",
       "      <td>608</td>\n",
       "      <td>41</td>\n",
       "      <td>1</td>\n",
       "      <td>83807.86</td>\n",
       "      <td>1</td>\n",
       "      <td>0</td>\n",
       "      <td>1</td>\n",
       "      <td>112542.58</td>\n",
       "      <td>0</td>\n",
       "      <td>0</td>\n",
       "      <td>1</td>\n",
       "      <td>1</td>\n",
       "      <td>0</td>\n",
       "      <td>0</td>\n",
       "    </tr>\n",
       "    <tr>\n",
       "      <th>2</th>\n",
       "      <td>502</td>\n",
       "      <td>42</td>\n",
       "      <td>8</td>\n",
       "      <td>159660.80</td>\n",
       "      <td>3</td>\n",
       "      <td>1</td>\n",
       "      <td>0</td>\n",
       "      <td>113931.57</td>\n",
       "      <td>1</td>\n",
       "      <td>0</td>\n",
       "      <td>0</td>\n",
       "      <td>1</td>\n",
       "      <td>0</td>\n",
       "      <td>1</td>\n",
       "    </tr>\n",
       "    <tr>\n",
       "      <th>3</th>\n",
       "      <td>699</td>\n",
       "      <td>39</td>\n",
       "      <td>1</td>\n",
       "      <td>0.00</td>\n",
       "      <td>2</td>\n",
       "      <td>0</td>\n",
       "      <td>0</td>\n",
       "      <td>93826.63</td>\n",
       "      <td>1</td>\n",
       "      <td>0</td>\n",
       "      <td>0</td>\n",
       "      <td>1</td>\n",
       "      <td>0</td>\n",
       "      <td>0</td>\n",
       "    </tr>\n",
       "    <tr>\n",
       "      <th>4</th>\n",
       "      <td>850</td>\n",
       "      <td>43</td>\n",
       "      <td>2</td>\n",
       "      <td>125510.82</td>\n",
       "      <td>1</td>\n",
       "      <td>1</td>\n",
       "      <td>1</td>\n",
       "      <td>79084.10</td>\n",
       "      <td>0</td>\n",
       "      <td>0</td>\n",
       "      <td>1</td>\n",
       "      <td>1</td>\n",
       "      <td>0</td>\n",
       "      <td>0</td>\n",
       "    </tr>\n",
       "    <tr>\n",
       "      <th>...</th>\n",
       "      <td>...</td>\n",
       "      <td>...</td>\n",
       "      <td>...</td>\n",
       "      <td>...</td>\n",
       "      <td>...</td>\n",
       "      <td>...</td>\n",
       "      <td>...</td>\n",
       "      <td>...</td>\n",
       "      <td>...</td>\n",
       "      <td>...</td>\n",
       "      <td>...</td>\n",
       "      <td>...</td>\n",
       "      <td>...</td>\n",
       "      <td>...</td>\n",
       "    </tr>\n",
       "    <tr>\n",
       "      <th>9995</th>\n",
       "      <td>771</td>\n",
       "      <td>39</td>\n",
       "      <td>5</td>\n",
       "      <td>0.00</td>\n",
       "      <td>2</td>\n",
       "      <td>1</td>\n",
       "      <td>0</td>\n",
       "      <td>96270.64</td>\n",
       "      <td>1</td>\n",
       "      <td>0</td>\n",
       "      <td>0</td>\n",
       "      <td>0</td>\n",
       "      <td>1</td>\n",
       "      <td>0</td>\n",
       "    </tr>\n",
       "    <tr>\n",
       "      <th>9996</th>\n",
       "      <td>516</td>\n",
       "      <td>35</td>\n",
       "      <td>10</td>\n",
       "      <td>57369.61</td>\n",
       "      <td>1</td>\n",
       "      <td>1</td>\n",
       "      <td>1</td>\n",
       "      <td>101699.77</td>\n",
       "      <td>1</td>\n",
       "      <td>0</td>\n",
       "      <td>0</td>\n",
       "      <td>0</td>\n",
       "      <td>1</td>\n",
       "      <td>0</td>\n",
       "    </tr>\n",
       "    <tr>\n",
       "      <th>9997</th>\n",
       "      <td>709</td>\n",
       "      <td>36</td>\n",
       "      <td>7</td>\n",
       "      <td>0.00</td>\n",
       "      <td>1</td>\n",
       "      <td>0</td>\n",
       "      <td>1</td>\n",
       "      <td>42085.58</td>\n",
       "      <td>1</td>\n",
       "      <td>0</td>\n",
       "      <td>0</td>\n",
       "      <td>1</td>\n",
       "      <td>0</td>\n",
       "      <td>1</td>\n",
       "    </tr>\n",
       "    <tr>\n",
       "      <th>9998</th>\n",
       "      <td>772</td>\n",
       "      <td>42</td>\n",
       "      <td>3</td>\n",
       "      <td>75075.31</td>\n",
       "      <td>2</td>\n",
       "      <td>1</td>\n",
       "      <td>0</td>\n",
       "      <td>92888.52</td>\n",
       "      <td>0</td>\n",
       "      <td>1</td>\n",
       "      <td>0</td>\n",
       "      <td>0</td>\n",
       "      <td>1</td>\n",
       "      <td>1</td>\n",
       "    </tr>\n",
       "    <tr>\n",
       "      <th>9999</th>\n",
       "      <td>792</td>\n",
       "      <td>28</td>\n",
       "      <td>4</td>\n",
       "      <td>130142.79</td>\n",
       "      <td>1</td>\n",
       "      <td>1</td>\n",
       "      <td>0</td>\n",
       "      <td>38190.78</td>\n",
       "      <td>1</td>\n",
       "      <td>0</td>\n",
       "      <td>0</td>\n",
       "      <td>1</td>\n",
       "      <td>0</td>\n",
       "      <td>0</td>\n",
       "    </tr>\n",
       "  </tbody>\n",
       "</table>\n",
       "<p>10000 rows × 14 columns</p>\n",
       "</div>"
      ],
      "text/plain": [
       "      CreditScore  Age  Tenure    Balance  NumOfProducts  HasCrCard  \\\n",
       "0             619   42       2       0.00              1          1   \n",
       "1             608   41       1   83807.86              1          0   \n",
       "2             502   42       8  159660.80              3          1   \n",
       "3             699   39       1       0.00              2          0   \n",
       "4             850   43       2  125510.82              1          1   \n",
       "...           ...  ...     ...        ...            ...        ...   \n",
       "9995          771   39       5       0.00              2          1   \n",
       "9996          516   35      10   57369.61              1          1   \n",
       "9997          709   36       7       0.00              1          0   \n",
       "9998          772   42       3   75075.31              2          1   \n",
       "9999          792   28       4  130142.79              1          1   \n",
       "\n",
       "      IsActiveMember  EstimatedSalary  Geography_France  Geography_Germany  \\\n",
       "0                  1        101348.88                 1                  0   \n",
       "1                  1        112542.58                 0                  0   \n",
       "2                  0        113931.57                 1                  0   \n",
       "3                  0         93826.63                 1                  0   \n",
       "4                  1         79084.10                 0                  0   \n",
       "...              ...              ...               ...                ...   \n",
       "9995               0         96270.64                 1                  0   \n",
       "9996               1        101699.77                 1                  0   \n",
       "9997               1         42085.58                 1                  0   \n",
       "9998               0         92888.52                 0                  1   \n",
       "9999               0         38190.78                 1                  0   \n",
       "\n",
       "      Geography_Spain  Gender_Female  Gender_Male  Exited  \n",
       "0                   0              1            0       1  \n",
       "1                   1              1            0       0  \n",
       "2                   0              1            0       1  \n",
       "3                   0              1            0       0  \n",
       "4                   1              1            0       0  \n",
       "...               ...            ...          ...     ...  \n",
       "9995                0              0            1       0  \n",
       "9996                0              0            1       0  \n",
       "9997                0              1            0       1  \n",
       "9998                0              0            1       1  \n",
       "9999                0              1            0       0  \n",
       "\n",
       "[10000 rows x 14 columns]"
      ]
     },
     "execution_count": 2,
     "metadata": {},
     "output_type": "execute_result"
    }
   ],
   "source": [
    "df = pd.read_csv('feat_imp.csv')\n",
    "df"
   ]
  },
  {
   "cell_type": "markdown",
   "metadata": {},
   "source": [
    "# Separação em variáveis preditivas e variável resposta"
   ]
  },
  {
   "cell_type": "code",
   "execution_count": 3,
   "metadata": {},
   "outputs": [
    {
     "data": {
      "text/html": [
       "<div>\n",
       "<style scoped>\n",
       "    .dataframe tbody tr th:only-of-type {\n",
       "        vertical-align: middle;\n",
       "    }\n",
       "\n",
       "    .dataframe tbody tr th {\n",
       "        vertical-align: top;\n",
       "    }\n",
       "\n",
       "    .dataframe thead th {\n",
       "        text-align: right;\n",
       "    }\n",
       "</style>\n",
       "<table border=\"1\" class=\"dataframe\">\n",
       "  <thead>\n",
       "    <tr style=\"text-align: right;\">\n",
       "      <th></th>\n",
       "      <th>CreditScore</th>\n",
       "      <th>Age</th>\n",
       "      <th>Tenure</th>\n",
       "      <th>Balance</th>\n",
       "      <th>NumOfProducts</th>\n",
       "      <th>HasCrCard</th>\n",
       "      <th>IsActiveMember</th>\n",
       "      <th>EstimatedSalary</th>\n",
       "      <th>Geography_France</th>\n",
       "      <th>Geography_Germany</th>\n",
       "      <th>Geography_Spain</th>\n",
       "      <th>Gender_Female</th>\n",
       "      <th>Gender_Male</th>\n",
       "    </tr>\n",
       "  </thead>\n",
       "  <tbody>\n",
       "    <tr>\n",
       "      <th>0</th>\n",
       "      <td>619</td>\n",
       "      <td>42</td>\n",
       "      <td>2</td>\n",
       "      <td>0.00</td>\n",
       "      <td>1</td>\n",
       "      <td>1</td>\n",
       "      <td>1</td>\n",
       "      <td>101348.88</td>\n",
       "      <td>1</td>\n",
       "      <td>0</td>\n",
       "      <td>0</td>\n",
       "      <td>1</td>\n",
       "      <td>0</td>\n",
       "    </tr>\n",
       "    <tr>\n",
       "      <th>1</th>\n",
       "      <td>608</td>\n",
       "      <td>41</td>\n",
       "      <td>1</td>\n",
       "      <td>83807.86</td>\n",
       "      <td>1</td>\n",
       "      <td>0</td>\n",
       "      <td>1</td>\n",
       "      <td>112542.58</td>\n",
       "      <td>0</td>\n",
       "      <td>0</td>\n",
       "      <td>1</td>\n",
       "      <td>1</td>\n",
       "      <td>0</td>\n",
       "    </tr>\n",
       "    <tr>\n",
       "      <th>2</th>\n",
       "      <td>502</td>\n",
       "      <td>42</td>\n",
       "      <td>8</td>\n",
       "      <td>159660.80</td>\n",
       "      <td>3</td>\n",
       "      <td>1</td>\n",
       "      <td>0</td>\n",
       "      <td>113931.57</td>\n",
       "      <td>1</td>\n",
       "      <td>0</td>\n",
       "      <td>0</td>\n",
       "      <td>1</td>\n",
       "      <td>0</td>\n",
       "    </tr>\n",
       "    <tr>\n",
       "      <th>3</th>\n",
       "      <td>699</td>\n",
       "      <td>39</td>\n",
       "      <td>1</td>\n",
       "      <td>0.00</td>\n",
       "      <td>2</td>\n",
       "      <td>0</td>\n",
       "      <td>0</td>\n",
       "      <td>93826.63</td>\n",
       "      <td>1</td>\n",
       "      <td>0</td>\n",
       "      <td>0</td>\n",
       "      <td>1</td>\n",
       "      <td>0</td>\n",
       "    </tr>\n",
       "    <tr>\n",
       "      <th>4</th>\n",
       "      <td>850</td>\n",
       "      <td>43</td>\n",
       "      <td>2</td>\n",
       "      <td>125510.82</td>\n",
       "      <td>1</td>\n",
       "      <td>1</td>\n",
       "      <td>1</td>\n",
       "      <td>79084.10</td>\n",
       "      <td>0</td>\n",
       "      <td>0</td>\n",
       "      <td>1</td>\n",
       "      <td>1</td>\n",
       "      <td>0</td>\n",
       "    </tr>\n",
       "    <tr>\n",
       "      <th>...</th>\n",
       "      <td>...</td>\n",
       "      <td>...</td>\n",
       "      <td>...</td>\n",
       "      <td>...</td>\n",
       "      <td>...</td>\n",
       "      <td>...</td>\n",
       "      <td>...</td>\n",
       "      <td>...</td>\n",
       "      <td>...</td>\n",
       "      <td>...</td>\n",
       "      <td>...</td>\n",
       "      <td>...</td>\n",
       "      <td>...</td>\n",
       "    </tr>\n",
       "    <tr>\n",
       "      <th>9995</th>\n",
       "      <td>771</td>\n",
       "      <td>39</td>\n",
       "      <td>5</td>\n",
       "      <td>0.00</td>\n",
       "      <td>2</td>\n",
       "      <td>1</td>\n",
       "      <td>0</td>\n",
       "      <td>96270.64</td>\n",
       "      <td>1</td>\n",
       "      <td>0</td>\n",
       "      <td>0</td>\n",
       "      <td>0</td>\n",
       "      <td>1</td>\n",
       "    </tr>\n",
       "    <tr>\n",
       "      <th>9996</th>\n",
       "      <td>516</td>\n",
       "      <td>35</td>\n",
       "      <td>10</td>\n",
       "      <td>57369.61</td>\n",
       "      <td>1</td>\n",
       "      <td>1</td>\n",
       "      <td>1</td>\n",
       "      <td>101699.77</td>\n",
       "      <td>1</td>\n",
       "      <td>0</td>\n",
       "      <td>0</td>\n",
       "      <td>0</td>\n",
       "      <td>1</td>\n",
       "    </tr>\n",
       "    <tr>\n",
       "      <th>9997</th>\n",
       "      <td>709</td>\n",
       "      <td>36</td>\n",
       "      <td>7</td>\n",
       "      <td>0.00</td>\n",
       "      <td>1</td>\n",
       "      <td>0</td>\n",
       "      <td>1</td>\n",
       "      <td>42085.58</td>\n",
       "      <td>1</td>\n",
       "      <td>0</td>\n",
       "      <td>0</td>\n",
       "      <td>1</td>\n",
       "      <td>0</td>\n",
       "    </tr>\n",
       "    <tr>\n",
       "      <th>9998</th>\n",
       "      <td>772</td>\n",
       "      <td>42</td>\n",
       "      <td>3</td>\n",
       "      <td>75075.31</td>\n",
       "      <td>2</td>\n",
       "      <td>1</td>\n",
       "      <td>0</td>\n",
       "      <td>92888.52</td>\n",
       "      <td>0</td>\n",
       "      <td>1</td>\n",
       "      <td>0</td>\n",
       "      <td>0</td>\n",
       "      <td>1</td>\n",
       "    </tr>\n",
       "    <tr>\n",
       "      <th>9999</th>\n",
       "      <td>792</td>\n",
       "      <td>28</td>\n",
       "      <td>4</td>\n",
       "      <td>130142.79</td>\n",
       "      <td>1</td>\n",
       "      <td>1</td>\n",
       "      <td>0</td>\n",
       "      <td>38190.78</td>\n",
       "      <td>1</td>\n",
       "      <td>0</td>\n",
       "      <td>0</td>\n",
       "      <td>1</td>\n",
       "      <td>0</td>\n",
       "    </tr>\n",
       "  </tbody>\n",
       "</table>\n",
       "<p>10000 rows × 13 columns</p>\n",
       "</div>"
      ],
      "text/plain": [
       "      CreditScore  Age  Tenure    Balance  NumOfProducts  HasCrCard  \\\n",
       "0             619   42       2       0.00              1          1   \n",
       "1             608   41       1   83807.86              1          0   \n",
       "2             502   42       8  159660.80              3          1   \n",
       "3             699   39       1       0.00              2          0   \n",
       "4             850   43       2  125510.82              1          1   \n",
       "...           ...  ...     ...        ...            ...        ...   \n",
       "9995          771   39       5       0.00              2          1   \n",
       "9996          516   35      10   57369.61              1          1   \n",
       "9997          709   36       7       0.00              1          0   \n",
       "9998          772   42       3   75075.31              2          1   \n",
       "9999          792   28       4  130142.79              1          1   \n",
       "\n",
       "      IsActiveMember  EstimatedSalary  Geography_France  Geography_Germany  \\\n",
       "0                  1        101348.88                 1                  0   \n",
       "1                  1        112542.58                 0                  0   \n",
       "2                  0        113931.57                 1                  0   \n",
       "3                  0         93826.63                 1                  0   \n",
       "4                  1         79084.10                 0                  0   \n",
       "...              ...              ...               ...                ...   \n",
       "9995               0         96270.64                 1                  0   \n",
       "9996               1        101699.77                 1                  0   \n",
       "9997               1         42085.58                 1                  0   \n",
       "9998               0         92888.52                 0                  1   \n",
       "9999               0         38190.78                 1                  0   \n",
       "\n",
       "      Geography_Spain  Gender_Female  Gender_Male  \n",
       "0                   0              1            0  \n",
       "1                   1              1            0  \n",
       "2                   0              1            0  \n",
       "3                   0              1            0  \n",
       "4                   1              1            0  \n",
       "...               ...            ...          ...  \n",
       "9995                0              0            1  \n",
       "9996                0              0            1  \n",
       "9997                0              1            0  \n",
       "9998                0              0            1  \n",
       "9999                0              1            0  \n",
       "\n",
       "[10000 rows x 13 columns]"
      ]
     },
     "execution_count": 3,
     "metadata": {},
     "output_type": "execute_result"
    }
   ],
   "source": [
    "X = df.drop(['Exited'],axis=1)\n",
    "y = df.Exited\n",
    "\n",
    "X"
   ]
  },
  {
   "cell_type": "code",
   "execution_count": 4,
   "metadata": {},
   "outputs": [
    {
     "data": {
      "text/plain": [
       "0       1\n",
       "1       0\n",
       "2       1\n",
       "3       0\n",
       "4       0\n",
       "       ..\n",
       "9995    0\n",
       "9996    0\n",
       "9997    1\n",
       "9998    1\n",
       "9999    0\n",
       "Name: Exited, Length: 10000, dtype: int64"
      ]
     },
     "execution_count": 4,
     "metadata": {},
     "output_type": "execute_result"
    }
   ],
   "source": [
    "y"
   ]
  },
  {
   "cell_type": "markdown",
   "metadata": {},
   "source": [
    "# Divisão em conjunto treino e conjunto teste"
   ]
  },
  {
   "cell_type": "markdown",
   "metadata": {},
   "source": [
    "# Esses dados não tem uma coluna de TEMPO\n",
    "\n",
    "# Então faremos uma validação out-of-sample"
   ]
  },
  {
   "cell_type": "code",
   "execution_count": 5,
   "metadata": {},
   "outputs": [],
   "source": [
    "from sklearn.model_selection import train_test_split\n",
    "X_tr, X_ts, y_tr, y_ts = train_test_split(X,y, test_size=.3, random_state=61658)"
   ]
  },
  {
   "cell_type": "code",
   "execution_count": 6,
   "metadata": {},
   "outputs": [
    {
     "data": {
      "text/html": [
       "<div>\n",
       "<style scoped>\n",
       "    .dataframe tbody tr th:only-of-type {\n",
       "        vertical-align: middle;\n",
       "    }\n",
       "\n",
       "    .dataframe tbody tr th {\n",
       "        vertical-align: top;\n",
       "    }\n",
       "\n",
       "    .dataframe thead th {\n",
       "        text-align: right;\n",
       "    }\n",
       "</style>\n",
       "<table border=\"1\" class=\"dataframe\">\n",
       "  <thead>\n",
       "    <tr style=\"text-align: right;\">\n",
       "      <th></th>\n",
       "      <th>CreditScore</th>\n",
       "      <th>Age</th>\n",
       "      <th>Tenure</th>\n",
       "      <th>Balance</th>\n",
       "      <th>NumOfProducts</th>\n",
       "      <th>HasCrCard</th>\n",
       "      <th>IsActiveMember</th>\n",
       "      <th>EstimatedSalary</th>\n",
       "      <th>Geography_France</th>\n",
       "      <th>Geography_Germany</th>\n",
       "      <th>Geography_Spain</th>\n",
       "      <th>Gender_Female</th>\n",
       "      <th>Gender_Male</th>\n",
       "    </tr>\n",
       "  </thead>\n",
       "  <tbody>\n",
       "    <tr>\n",
       "      <th>9057</th>\n",
       "      <td>704</td>\n",
       "      <td>33</td>\n",
       "      <td>0</td>\n",
       "      <td>130499.09</td>\n",
       "      <td>2</td>\n",
       "      <td>1</td>\n",
       "      <td>1</td>\n",
       "      <td>74804.36</td>\n",
       "      <td>1</td>\n",
       "      <td>0</td>\n",
       "      <td>0</td>\n",
       "      <td>1</td>\n",
       "      <td>0</td>\n",
       "    </tr>\n",
       "    <tr>\n",
       "      <th>81</th>\n",
       "      <td>777</td>\n",
       "      <td>32</td>\n",
       "      <td>2</td>\n",
       "      <td>0.00</td>\n",
       "      <td>1</td>\n",
       "      <td>1</td>\n",
       "      <td>0</td>\n",
       "      <td>136458.19</td>\n",
       "      <td>1</td>\n",
       "      <td>0</td>\n",
       "      <td>0</td>\n",
       "      <td>1</td>\n",
       "      <td>0</td>\n",
       "    </tr>\n",
       "    <tr>\n",
       "      <th>3433</th>\n",
       "      <td>587</td>\n",
       "      <td>37</td>\n",
       "      <td>6</td>\n",
       "      <td>104414.03</td>\n",
       "      <td>1</td>\n",
       "      <td>1</td>\n",
       "      <td>0</td>\n",
       "      <td>192026.02</td>\n",
       "      <td>0</td>\n",
       "      <td>1</td>\n",
       "      <td>0</td>\n",
       "      <td>1</td>\n",
       "      <td>0</td>\n",
       "    </tr>\n",
       "    <tr>\n",
       "      <th>1768</th>\n",
       "      <td>760</td>\n",
       "      <td>28</td>\n",
       "      <td>1</td>\n",
       "      <td>141038.57</td>\n",
       "      <td>2</td>\n",
       "      <td>0</td>\n",
       "      <td>0</td>\n",
       "      <td>16287.38</td>\n",
       "      <td>0</td>\n",
       "      <td>0</td>\n",
       "      <td>1</td>\n",
       "      <td>0</td>\n",
       "      <td>1</td>\n",
       "    </tr>\n",
       "    <tr>\n",
       "      <th>1888</th>\n",
       "      <td>429</td>\n",
       "      <td>60</td>\n",
       "      <td>7</td>\n",
       "      <td>0.00</td>\n",
       "      <td>2</td>\n",
       "      <td>1</td>\n",
       "      <td>1</td>\n",
       "      <td>163691.48</td>\n",
       "      <td>1</td>\n",
       "      <td>0</td>\n",
       "      <td>0</td>\n",
       "      <td>0</td>\n",
       "      <td>1</td>\n",
       "    </tr>\n",
       "    <tr>\n",
       "      <th>...</th>\n",
       "      <td>...</td>\n",
       "      <td>...</td>\n",
       "      <td>...</td>\n",
       "      <td>...</td>\n",
       "      <td>...</td>\n",
       "      <td>...</td>\n",
       "      <td>...</td>\n",
       "      <td>...</td>\n",
       "      <td>...</td>\n",
       "      <td>...</td>\n",
       "      <td>...</td>\n",
       "      <td>...</td>\n",
       "      <td>...</td>\n",
       "    </tr>\n",
       "    <tr>\n",
       "      <th>4368</th>\n",
       "      <td>648</td>\n",
       "      <td>33</td>\n",
       "      <td>5</td>\n",
       "      <td>138664.24</td>\n",
       "      <td>1</td>\n",
       "      <td>1</td>\n",
       "      <td>0</td>\n",
       "      <td>29076.27</td>\n",
       "      <td>0</td>\n",
       "      <td>1</td>\n",
       "      <td>0</td>\n",
       "      <td>0</td>\n",
       "      <td>1</td>\n",
       "    </tr>\n",
       "    <tr>\n",
       "      <th>9637</th>\n",
       "      <td>790</td>\n",
       "      <td>31</td>\n",
       "      <td>2</td>\n",
       "      <td>151290.16</td>\n",
       "      <td>1</td>\n",
       "      <td>1</td>\n",
       "      <td>1</td>\n",
       "      <td>172437.12</td>\n",
       "      <td>1</td>\n",
       "      <td>0</td>\n",
       "      <td>0</td>\n",
       "      <td>1</td>\n",
       "      <td>0</td>\n",
       "    </tr>\n",
       "    <tr>\n",
       "      <th>8675</th>\n",
       "      <td>714</td>\n",
       "      <td>54</td>\n",
       "      <td>7</td>\n",
       "      <td>126113.28</td>\n",
       "      <td>1</td>\n",
       "      <td>1</td>\n",
       "      <td>0</td>\n",
       "      <td>112777.38</td>\n",
       "      <td>1</td>\n",
       "      <td>0</td>\n",
       "      <td>0</td>\n",
       "      <td>0</td>\n",
       "      <td>1</td>\n",
       "    </tr>\n",
       "    <tr>\n",
       "      <th>8806</th>\n",
       "      <td>681</td>\n",
       "      <td>38</td>\n",
       "      <td>6</td>\n",
       "      <td>181804.34</td>\n",
       "      <td>2</td>\n",
       "      <td>1</td>\n",
       "      <td>1</td>\n",
       "      <td>57517.71</td>\n",
       "      <td>0</td>\n",
       "      <td>1</td>\n",
       "      <td>0</td>\n",
       "      <td>0</td>\n",
       "      <td>1</td>\n",
       "    </tr>\n",
       "    <tr>\n",
       "      <th>3836</th>\n",
       "      <td>645</td>\n",
       "      <td>49</td>\n",
       "      <td>5</td>\n",
       "      <td>110132.55</td>\n",
       "      <td>3</td>\n",
       "      <td>0</td>\n",
       "      <td>1</td>\n",
       "      <td>187689.91</td>\n",
       "      <td>0</td>\n",
       "      <td>0</td>\n",
       "      <td>1</td>\n",
       "      <td>1</td>\n",
       "      <td>0</td>\n",
       "    </tr>\n",
       "  </tbody>\n",
       "</table>\n",
       "<p>7000 rows × 13 columns</p>\n",
       "</div>"
      ],
      "text/plain": [
       "      CreditScore  Age  Tenure    Balance  NumOfProducts  HasCrCard  \\\n",
       "9057          704   33       0  130499.09              2          1   \n",
       "81            777   32       2       0.00              1          1   \n",
       "3433          587   37       6  104414.03              1          1   \n",
       "1768          760   28       1  141038.57              2          0   \n",
       "1888          429   60       7       0.00              2          1   \n",
       "...           ...  ...     ...        ...            ...        ...   \n",
       "4368          648   33       5  138664.24              1          1   \n",
       "9637          790   31       2  151290.16              1          1   \n",
       "8675          714   54       7  126113.28              1          1   \n",
       "8806          681   38       6  181804.34              2          1   \n",
       "3836          645   49       5  110132.55              3          0   \n",
       "\n",
       "      IsActiveMember  EstimatedSalary  Geography_France  Geography_Germany  \\\n",
       "9057               1         74804.36                 1                  0   \n",
       "81                 0        136458.19                 1                  0   \n",
       "3433               0        192026.02                 0                  1   \n",
       "1768               0         16287.38                 0                  0   \n",
       "1888               1        163691.48                 1                  0   \n",
       "...              ...              ...               ...                ...   \n",
       "4368               0         29076.27                 0                  1   \n",
       "9637               1        172437.12                 1                  0   \n",
       "8675               0        112777.38                 1                  0   \n",
       "8806               1         57517.71                 0                  1   \n",
       "3836               1        187689.91                 0                  0   \n",
       "\n",
       "      Geography_Spain  Gender_Female  Gender_Male  \n",
       "9057                0              1            0  \n",
       "81                  0              1            0  \n",
       "3433                0              1            0  \n",
       "1768                1              0            1  \n",
       "1888                0              0            1  \n",
       "...               ...            ...          ...  \n",
       "4368                0              0            1  \n",
       "9637                0              1            0  \n",
       "8675                0              0            1  \n",
       "8806                0              0            1  \n",
       "3836                1              1            0  \n",
       "\n",
       "[7000 rows x 13 columns]"
      ]
     },
     "execution_count": 6,
     "metadata": {},
     "output_type": "execute_result"
    }
   ],
   "source": [
    "X_tr"
   ]
  },
  {
   "cell_type": "code",
   "execution_count": 7,
   "metadata": {},
   "outputs": [
    {
     "data": {
      "text/html": [
       "<div>\n",
       "<style scoped>\n",
       "    .dataframe tbody tr th:only-of-type {\n",
       "        vertical-align: middle;\n",
       "    }\n",
       "\n",
       "    .dataframe tbody tr th {\n",
       "        vertical-align: top;\n",
       "    }\n",
       "\n",
       "    .dataframe thead th {\n",
       "        text-align: right;\n",
       "    }\n",
       "</style>\n",
       "<table border=\"1\" class=\"dataframe\">\n",
       "  <thead>\n",
       "    <tr style=\"text-align: right;\">\n",
       "      <th></th>\n",
       "      <th>CreditScore</th>\n",
       "      <th>Age</th>\n",
       "      <th>Tenure</th>\n",
       "      <th>Balance</th>\n",
       "      <th>NumOfProducts</th>\n",
       "      <th>HasCrCard</th>\n",
       "      <th>IsActiveMember</th>\n",
       "      <th>EstimatedSalary</th>\n",
       "      <th>Geography_France</th>\n",
       "      <th>Geography_Germany</th>\n",
       "      <th>Geography_Spain</th>\n",
       "      <th>Gender_Female</th>\n",
       "      <th>Gender_Male</th>\n",
       "    </tr>\n",
       "  </thead>\n",
       "  <tbody>\n",
       "    <tr>\n",
       "      <th>2184</th>\n",
       "      <td>652</td>\n",
       "      <td>40</td>\n",
       "      <td>1</td>\n",
       "      <td>0.00</td>\n",
       "      <td>2</td>\n",
       "      <td>1</td>\n",
       "      <td>0</td>\n",
       "      <td>126554.96</td>\n",
       "      <td>1</td>\n",
       "      <td>0</td>\n",
       "      <td>0</td>\n",
       "      <td>1</td>\n",
       "      <td>0</td>\n",
       "    </tr>\n",
       "    <tr>\n",
       "      <th>1795</th>\n",
       "      <td>683</td>\n",
       "      <td>35</td>\n",
       "      <td>5</td>\n",
       "      <td>95698.79</td>\n",
       "      <td>1</td>\n",
       "      <td>0</td>\n",
       "      <td>1</td>\n",
       "      <td>182566.76</td>\n",
       "      <td>0</td>\n",
       "      <td>1</td>\n",
       "      <td>0</td>\n",
       "      <td>1</td>\n",
       "      <td>0</td>\n",
       "    </tr>\n",
       "    <tr>\n",
       "      <th>2175</th>\n",
       "      <td>757</td>\n",
       "      <td>34</td>\n",
       "      <td>9</td>\n",
       "      <td>101861.36</td>\n",
       "      <td>2</td>\n",
       "      <td>0</td>\n",
       "      <td>0</td>\n",
       "      <td>187011.96</td>\n",
       "      <td>0</td>\n",
       "      <td>1</td>\n",
       "      <td>0</td>\n",
       "      <td>1</td>\n",
       "      <td>0</td>\n",
       "    </tr>\n",
       "    <tr>\n",
       "      <th>9004</th>\n",
       "      <td>708</td>\n",
       "      <td>33</td>\n",
       "      <td>3</td>\n",
       "      <td>0.00</td>\n",
       "      <td>2</td>\n",
       "      <td>1</td>\n",
       "      <td>0</td>\n",
       "      <td>138613.21</td>\n",
       "      <td>0</td>\n",
       "      <td>0</td>\n",
       "      <td>1</td>\n",
       "      <td>0</td>\n",
       "      <td>1</td>\n",
       "    </tr>\n",
       "    <tr>\n",
       "      <th>3484</th>\n",
       "      <td>784</td>\n",
       "      <td>28</td>\n",
       "      <td>2</td>\n",
       "      <td>70233.74</td>\n",
       "      <td>2</td>\n",
       "      <td>1</td>\n",
       "      <td>1</td>\n",
       "      <td>179252.73</td>\n",
       "      <td>0</td>\n",
       "      <td>1</td>\n",
       "      <td>0</td>\n",
       "      <td>0</td>\n",
       "      <td>1</td>\n",
       "    </tr>\n",
       "    <tr>\n",
       "      <th>...</th>\n",
       "      <td>...</td>\n",
       "      <td>...</td>\n",
       "      <td>...</td>\n",
       "      <td>...</td>\n",
       "      <td>...</td>\n",
       "      <td>...</td>\n",
       "      <td>...</td>\n",
       "      <td>...</td>\n",
       "      <td>...</td>\n",
       "      <td>...</td>\n",
       "      <td>...</td>\n",
       "      <td>...</td>\n",
       "      <td>...</td>\n",
       "    </tr>\n",
       "    <tr>\n",
       "      <th>8441</th>\n",
       "      <td>624</td>\n",
       "      <td>23</td>\n",
       "      <td>5</td>\n",
       "      <td>0.00</td>\n",
       "      <td>2</td>\n",
       "      <td>0</td>\n",
       "      <td>0</td>\n",
       "      <td>132418.59</td>\n",
       "      <td>1</td>\n",
       "      <td>0</td>\n",
       "      <td>0</td>\n",
       "      <td>1</td>\n",
       "      <td>0</td>\n",
       "    </tr>\n",
       "    <tr>\n",
       "      <th>9524</th>\n",
       "      <td>850</td>\n",
       "      <td>38</td>\n",
       "      <td>5</td>\n",
       "      <td>146756.68</td>\n",
       "      <td>1</td>\n",
       "      <td>1</td>\n",
       "      <td>0</td>\n",
       "      <td>78268.61</td>\n",
       "      <td>0</td>\n",
       "      <td>1</td>\n",
       "      <td>0</td>\n",
       "      <td>0</td>\n",
       "      <td>1</td>\n",
       "    </tr>\n",
       "    <tr>\n",
       "      <th>1685</th>\n",
       "      <td>613</td>\n",
       "      <td>20</td>\n",
       "      <td>0</td>\n",
       "      <td>117356.19</td>\n",
       "      <td>1</td>\n",
       "      <td>0</td>\n",
       "      <td>0</td>\n",
       "      <td>113557.70</td>\n",
       "      <td>0</td>\n",
       "      <td>1</td>\n",
       "      <td>0</td>\n",
       "      <td>1</td>\n",
       "      <td>0</td>\n",
       "    </tr>\n",
       "    <tr>\n",
       "      <th>5946</th>\n",
       "      <td>590</td>\n",
       "      <td>32</td>\n",
       "      <td>9</td>\n",
       "      <td>0.00</td>\n",
       "      <td>2</td>\n",
       "      <td>1</td>\n",
       "      <td>0</td>\n",
       "      <td>138889.15</td>\n",
       "      <td>1</td>\n",
       "      <td>0</td>\n",
       "      <td>0</td>\n",
       "      <td>0</td>\n",
       "      <td>1</td>\n",
       "    </tr>\n",
       "    <tr>\n",
       "      <th>6588</th>\n",
       "      <td>539</td>\n",
       "      <td>28</td>\n",
       "      <td>5</td>\n",
       "      <td>0.00</td>\n",
       "      <td>2</td>\n",
       "      <td>1</td>\n",
       "      <td>0</td>\n",
       "      <td>48382.40</td>\n",
       "      <td>0</td>\n",
       "      <td>0</td>\n",
       "      <td>1</td>\n",
       "      <td>0</td>\n",
       "      <td>1</td>\n",
       "    </tr>\n",
       "  </tbody>\n",
       "</table>\n",
       "<p>3000 rows × 13 columns</p>\n",
       "</div>"
      ],
      "text/plain": [
       "      CreditScore  Age  Tenure    Balance  NumOfProducts  HasCrCard  \\\n",
       "2184          652   40       1       0.00              2          1   \n",
       "1795          683   35       5   95698.79              1          0   \n",
       "2175          757   34       9  101861.36              2          0   \n",
       "9004          708   33       3       0.00              2          1   \n",
       "3484          784   28       2   70233.74              2          1   \n",
       "...           ...  ...     ...        ...            ...        ...   \n",
       "8441          624   23       5       0.00              2          0   \n",
       "9524          850   38       5  146756.68              1          1   \n",
       "1685          613   20       0  117356.19              1          0   \n",
       "5946          590   32       9       0.00              2          1   \n",
       "6588          539   28       5       0.00              2          1   \n",
       "\n",
       "      IsActiveMember  EstimatedSalary  Geography_France  Geography_Germany  \\\n",
       "2184               0        126554.96                 1                  0   \n",
       "1795               1        182566.76                 0                  1   \n",
       "2175               0        187011.96                 0                  1   \n",
       "9004               0        138613.21                 0                  0   \n",
       "3484               1        179252.73                 0                  1   \n",
       "...              ...              ...               ...                ...   \n",
       "8441               0        132418.59                 1                  0   \n",
       "9524               0         78268.61                 0                  1   \n",
       "1685               0        113557.70                 0                  1   \n",
       "5946               0        138889.15                 1                  0   \n",
       "6588               0         48382.40                 0                  0   \n",
       "\n",
       "      Geography_Spain  Gender_Female  Gender_Male  \n",
       "2184                0              1            0  \n",
       "1795                0              1            0  \n",
       "2175                0              1            0  \n",
       "9004                1              0            1  \n",
       "3484                0              0            1  \n",
       "...               ...            ...          ...  \n",
       "8441                0              1            0  \n",
       "9524                0              0            1  \n",
       "1685                0              1            0  \n",
       "5946                0              0            1  \n",
       "6588                1              0            1  \n",
       "\n",
       "[3000 rows x 13 columns]"
      ]
     },
     "execution_count": 7,
     "metadata": {},
     "output_type": "execute_result"
    }
   ],
   "source": [
    "X_ts"
   ]
  },
  {
   "cell_type": "markdown",
   "metadata": {},
   "source": [
    "# Definição dos parâmetros de validação cruzada"
   ]
  },
  {
   "cell_type": "code",
   "execution_count": 8,
   "metadata": {},
   "outputs": [],
   "source": [
    "from sklearn.tree import DecisionTreeClassifier\n",
    "from sklearn.model_selection import GridSearchCV\n",
    "\n",
    "params = {\n",
    "    'max_leaf_nodes': [4,8,16,32,64,128,256,512,2014],\n",
    "    'criterion': ['gini','entropy'],\n",
    "}\n",
    "\n",
    "grid = GridSearchCV(\n",
    "    DecisionTreeClassifier(random_state=61658), #Primeiro argumento : Modelo\n",
    "    params,                                     #Segundo argumento  : Parâmetros\n",
    "    cv=10,                                      #Argumento `cv`     : Quantidade de folds\n",
    "    scoring='roc_auc',                          #Argumento `scoring`: Métrica a ser otimizada\n",
    "    verbose=5,                                  #Argumento `verbose`: Mostra na tela o que está fazendo\n",
    ")"
   ]
  },
  {
   "cell_type": "markdown",
   "metadata": {},
   "source": [
    "# Encontra melhor modelo nos dados de treino por validação cruzada"
   ]
  },
  {
   "cell_type": "code",
   "execution_count": 9,
   "metadata": {},
   "outputs": [
    {
     "name": "stdout",
     "output_type": "stream",
     "text": [
      "Fitting 10 folds for each of 18 candidates, totalling 180 fits\n",
      "[CV 1/10] END ..............criterion=gini, max_leaf_nodes=4; total time=   0.0s\n",
      "[CV 2/10] END ..............criterion=gini, max_leaf_nodes=4; total time=   0.0s\n",
      "[CV 3/10] END ..............criterion=gini, max_leaf_nodes=4; total time=   0.0s\n",
      "[CV 4/10] END ..............criterion=gini, max_leaf_nodes=4; total time=   0.0s\n",
      "[CV 5/10] END ..............criterion=gini, max_leaf_nodes=4; total time=   0.0s\n",
      "[CV 6/10] END ..............criterion=gini, max_leaf_nodes=4; total time=   0.0s\n",
      "[CV 7/10] END ..............criterion=gini, max_leaf_nodes=4; total time=   0.0s\n",
      "[CV 8/10] END ..............criterion=gini, max_leaf_nodes=4; total time=   0.0s\n",
      "[CV 9/10] END ..............criterion=gini, max_leaf_nodes=4; total time=   0.0s\n",
      "[CV 10/10] END .............criterion=gini, max_leaf_nodes=4; total time=   0.0s\n",
      "[CV 1/10] END ..............criterion=gini, max_leaf_nodes=8; total time=   0.0s\n",
      "[CV 2/10] END ..............criterion=gini, max_leaf_nodes=8; total time=   0.0s\n",
      "[CV 3/10] END ..............criterion=gini, max_leaf_nodes=8; total time=   0.0s\n",
      "[CV 4/10] END ..............criterion=gini, max_leaf_nodes=8; total time=   0.0s\n",
      "[CV 5/10] END ..............criterion=gini, max_leaf_nodes=8; total time=   0.0s\n",
      "[CV 6/10] END ..............criterion=gini, max_leaf_nodes=8; total time=   0.0s\n",
      "[CV 7/10] END ..............criterion=gini, max_leaf_nodes=8; total time=   0.0s\n",
      "[CV 8/10] END ..............criterion=gini, max_leaf_nodes=8; total time=   0.0s\n",
      "[CV 9/10] END ..............criterion=gini, max_leaf_nodes=8; total time=   0.0s\n",
      "[CV 10/10] END .............criterion=gini, max_leaf_nodes=8; total time=   0.0s\n",
      "[CV 1/10] END .............criterion=gini, max_leaf_nodes=16; total time=   0.0s\n",
      "[CV 2/10] END .............criterion=gini, max_leaf_nodes=16; total time=   0.0s\n",
      "[CV 3/10] END .............criterion=gini, max_leaf_nodes=16; total time=   0.0s\n",
      "[CV 4/10] END .............criterion=gini, max_leaf_nodes=16; total time=   0.0s\n",
      "[CV 5/10] END .............criterion=gini, max_leaf_nodes=16; total time=   0.0s\n",
      "[CV 6/10] END .............criterion=gini, max_leaf_nodes=16; total time=   0.0s\n",
      "[CV 7/10] END .............criterion=gini, max_leaf_nodes=16; total time=   0.0s\n",
      "[CV 8/10] END .............criterion=gini, max_leaf_nodes=16; total time=   0.0s\n",
      "[CV 9/10] END .............criterion=gini, max_leaf_nodes=16; total time=   0.0s\n",
      "[CV 10/10] END ............criterion=gini, max_leaf_nodes=16; total time=   0.0s\n",
      "[CV 1/10] END .............criterion=gini, max_leaf_nodes=32; total time=   0.0s\n",
      "[CV 2/10] END .............criterion=gini, max_leaf_nodes=32; total time=   0.0s\n",
      "[CV 3/10] END .............criterion=gini, max_leaf_nodes=32; total time=   0.0s\n",
      "[CV 4/10] END .............criterion=gini, max_leaf_nodes=32; total time=   0.0s\n",
      "[CV 5/10] END .............criterion=gini, max_leaf_nodes=32; total time=   0.0s\n",
      "[CV 6/10] END .............criterion=gini, max_leaf_nodes=32; total time=   0.0s\n",
      "[CV 7/10] END .............criterion=gini, max_leaf_nodes=32; total time=   0.0s\n",
      "[CV 8/10] END .............criterion=gini, max_leaf_nodes=32; total time=   0.0s\n",
      "[CV 9/10] END .............criterion=gini, max_leaf_nodes=32; total time=   0.0s\n",
      "[CV 10/10] END ............criterion=gini, max_leaf_nodes=32; total time=   0.0s\n",
      "[CV 1/10] END .............criterion=gini, max_leaf_nodes=64; total time=   0.0s\n",
      "[CV 2/10] END .............criterion=gini, max_leaf_nodes=64; total time=   0.1s\n",
      "[CV 3/10] END .............criterion=gini, max_leaf_nodes=64; total time=   0.0s\n",
      "[CV 4/10] END .............criterion=gini, max_leaf_nodes=64; total time=   0.0s\n",
      "[CV 5/10] END .............criterion=gini, max_leaf_nodes=64; total time=   0.0s\n",
      "[CV 6/10] END .............criterion=gini, max_leaf_nodes=64; total time=   0.0s\n",
      "[CV 7/10] END .............criterion=gini, max_leaf_nodes=64; total time=   0.0s\n",
      "[CV 8/10] END .............criterion=gini, max_leaf_nodes=64; total time=   0.0s\n",
      "[CV 9/10] END .............criterion=gini, max_leaf_nodes=64; total time=   0.0s\n",
      "[CV 10/10] END ............criterion=gini, max_leaf_nodes=64; total time=   0.0s\n",
      "[CV 1/10] END ............criterion=gini, max_leaf_nodes=128; total time=   0.0s\n",
      "[CV 2/10] END ............criterion=gini, max_leaf_nodes=128; total time=   0.0s\n",
      "[CV 3/10] END ............criterion=gini, max_leaf_nodes=128; total time=   0.0s\n",
      "[CV 4/10] END ............criterion=gini, max_leaf_nodes=128; total time=   0.0s\n",
      "[CV 5/10] END ............criterion=gini, max_leaf_nodes=128; total time=   0.0s\n",
      "[CV 6/10] END ............criterion=gini, max_leaf_nodes=128; total time=   0.0s\n",
      "[CV 7/10] END ............criterion=gini, max_leaf_nodes=128; total time=   0.0s\n",
      "[CV 8/10] END ............criterion=gini, max_leaf_nodes=128; total time=   0.0s\n",
      "[CV 9/10] END ............criterion=gini, max_leaf_nodes=128; total time=   0.0s\n",
      "[CV 10/10] END ...........criterion=gini, max_leaf_nodes=128; total time=   0.0s\n",
      "[CV 1/10] END ............criterion=gini, max_leaf_nodes=256; total time=   0.0s\n",
      "[CV 2/10] END ............criterion=gini, max_leaf_nodes=256; total time=   0.0s\n",
      "[CV 3/10] END ............criterion=gini, max_leaf_nodes=256; total time=   0.0s\n",
      "[CV 4/10] END ............criterion=gini, max_leaf_nodes=256; total time=   0.0s\n",
      "[CV 5/10] END ............criterion=gini, max_leaf_nodes=256; total time=   0.0s\n",
      "[CV 6/10] END ............criterion=gini, max_leaf_nodes=256; total time=   0.0s\n",
      "[CV 7/10] END ............criterion=gini, max_leaf_nodes=256; total time=   0.0s\n",
      "[CV 8/10] END ............criterion=gini, max_leaf_nodes=256; total time=   0.0s\n",
      "[CV 9/10] END ............criterion=gini, max_leaf_nodes=256; total time=   0.0s\n",
      "[CV 10/10] END ...........criterion=gini, max_leaf_nodes=256; total time=   0.0s\n",
      "[CV 1/10] END ............criterion=gini, max_leaf_nodes=512; total time=   0.0s\n",
      "[CV 2/10] END ............criterion=gini, max_leaf_nodes=512; total time=   0.0s\n",
      "[CV 3/10] END ............criterion=gini, max_leaf_nodes=512; total time=   0.0s\n",
      "[CV 4/10] END ............criterion=gini, max_leaf_nodes=512; total time=   0.0s\n",
      "[CV 5/10] END ............criterion=gini, max_leaf_nodes=512; total time=   0.0s\n",
      "[CV 6/10] END ............criterion=gini, max_leaf_nodes=512; total time=   0.0s\n",
      "[CV 7/10] END ............criterion=gini, max_leaf_nodes=512; total time=   0.0s\n",
      "[CV 8/10] END ............criterion=gini, max_leaf_nodes=512; total time=   0.0s\n",
      "[CV 9/10] END ............criterion=gini, max_leaf_nodes=512; total time=   0.0s\n",
      "[CV 10/10] END ...........criterion=gini, max_leaf_nodes=512; total time=   0.0s\n",
      "[CV 1/10] END ...........criterion=gini, max_leaf_nodes=2014; total time=   0.1s\n",
      "[CV 2/10] END ...........criterion=gini, max_leaf_nodes=2014; total time=   0.1s\n",
      "[CV 3/10] END ...........criterion=gini, max_leaf_nodes=2014; total time=   0.1s\n",
      "[CV 4/10] END ...........criterion=gini, max_leaf_nodes=2014; total time=   0.0s\n",
      "[CV 5/10] END ...........criterion=gini, max_leaf_nodes=2014; total time=   0.0s\n",
      "[CV 6/10] END ...........criterion=gini, max_leaf_nodes=2014; total time=   0.0s\n",
      "[CV 7/10] END ...........criterion=gini, max_leaf_nodes=2014; total time=   0.0s\n",
      "[CV 8/10] END ...........criterion=gini, max_leaf_nodes=2014; total time=   0.1s\n",
      "[CV 9/10] END ...........criterion=gini, max_leaf_nodes=2014; total time=   0.1s\n",
      "[CV 10/10] END ..........criterion=gini, max_leaf_nodes=2014; total time=   0.1s\n",
      "[CV 1/10] END ...........criterion=entropy, max_leaf_nodes=4; total time=   0.0s\n",
      "[CV 2/10] END ...........criterion=entropy, max_leaf_nodes=4; total time=   0.0s\n",
      "[CV 3/10] END ...........criterion=entropy, max_leaf_nodes=4; total time=   0.0s\n",
      "[CV 4/10] END ...........criterion=entropy, max_leaf_nodes=4; total time=   0.0s\n",
      "[CV 5/10] END ...........criterion=entropy, max_leaf_nodes=4; total time=   0.0s\n",
      "[CV 6/10] END ...........criterion=entropy, max_leaf_nodes=4; total time=   0.0s\n",
      "[CV 7/10] END ...........criterion=entropy, max_leaf_nodes=4; total time=   0.0s\n",
      "[CV 8/10] END ...........criterion=entropy, max_leaf_nodes=4; total time=   0.0s\n",
      "[CV 9/10] END ...........criterion=entropy, max_leaf_nodes=4; total time=   0.0s\n",
      "[CV 10/10] END ..........criterion=entropy, max_leaf_nodes=4; total time=   0.0s\n",
      "[CV 1/10] END ...........criterion=entropy, max_leaf_nodes=8; total time=   0.0s\n",
      "[CV 2/10] END ...........criterion=entropy, max_leaf_nodes=8; total time=   0.0s\n",
      "[CV 3/10] END ...........criterion=entropy, max_leaf_nodes=8; total time=   0.0s\n",
      "[CV 4/10] END ...........criterion=entropy, max_leaf_nodes=8; total time=   0.0s\n",
      "[CV 5/10] END ...........criterion=entropy, max_leaf_nodes=8; total time=   0.0s\n"
     ]
    },
    {
     "name": "stdout",
     "output_type": "stream",
     "text": [
      "[CV 6/10] END ...........criterion=entropy, max_leaf_nodes=8; total time=   0.0s\n",
      "[CV 7/10] END ...........criterion=entropy, max_leaf_nodes=8; total time=   0.0s\n",
      "[CV 8/10] END ...........criterion=entropy, max_leaf_nodes=8; total time=   0.0s\n",
      "[CV 9/10] END ...........criterion=entropy, max_leaf_nodes=8; total time=   0.0s\n",
      "[CV 10/10] END ..........criterion=entropy, max_leaf_nodes=8; total time=   0.0s\n",
      "[CV 1/10] END ..........criterion=entropy, max_leaf_nodes=16; total time=   0.0s\n",
      "[CV 2/10] END ..........criterion=entropy, max_leaf_nodes=16; total time=   0.0s\n",
      "[CV 3/10] END ..........criterion=entropy, max_leaf_nodes=16; total time=   0.0s\n",
      "[CV 4/10] END ..........criterion=entropy, max_leaf_nodes=16; total time=   0.0s\n",
      "[CV 5/10] END ..........criterion=entropy, max_leaf_nodes=16; total time=   0.0s\n",
      "[CV 6/10] END ..........criterion=entropy, max_leaf_nodes=16; total time=   0.0s\n",
      "[CV 7/10] END ..........criterion=entropy, max_leaf_nodes=16; total time=   0.0s\n",
      "[CV 8/10] END ..........criterion=entropy, max_leaf_nodes=16; total time=   0.0s\n",
      "[CV 9/10] END ..........criterion=entropy, max_leaf_nodes=16; total time=   0.0s\n",
      "[CV 10/10] END .........criterion=entropy, max_leaf_nodes=16; total time=   0.0s\n",
      "[CV 1/10] END ..........criterion=entropy, max_leaf_nodes=32; total time=   0.0s\n",
      "[CV 2/10] END ..........criterion=entropy, max_leaf_nodes=32; total time=   0.0s\n",
      "[CV 3/10] END ..........criterion=entropy, max_leaf_nodes=32; total time=   0.0s\n",
      "[CV 4/10] END ..........criterion=entropy, max_leaf_nodes=32; total time=   0.0s\n",
      "[CV 5/10] END ..........criterion=entropy, max_leaf_nodes=32; total time=   0.0s\n",
      "[CV 6/10] END ..........criterion=entropy, max_leaf_nodes=32; total time=   0.0s\n",
      "[CV 7/10] END ..........criterion=entropy, max_leaf_nodes=32; total time=   0.0s\n",
      "[CV 8/10] END ..........criterion=entropy, max_leaf_nodes=32; total time=   0.0s\n",
      "[CV 9/10] END ..........criterion=entropy, max_leaf_nodes=32; total time=   0.0s\n",
      "[CV 10/10] END .........criterion=entropy, max_leaf_nodes=32; total time=   0.0s\n",
      "[CV 1/10] END ..........criterion=entropy, max_leaf_nodes=64; total time=   0.0s\n",
      "[CV 2/10] END ..........criterion=entropy, max_leaf_nodes=64; total time=   0.0s\n",
      "[CV 3/10] END ..........criterion=entropy, max_leaf_nodes=64; total time=   0.0s\n",
      "[CV 4/10] END ..........criterion=entropy, max_leaf_nodes=64; total time=   0.0s\n",
      "[CV 5/10] END ..........criterion=entropy, max_leaf_nodes=64; total time=   0.0s\n",
      "[CV 6/10] END ..........criterion=entropy, max_leaf_nodes=64; total time=   0.0s\n",
      "[CV 7/10] END ..........criterion=entropy, max_leaf_nodes=64; total time=   0.0s\n",
      "[CV 8/10] END ..........criterion=entropy, max_leaf_nodes=64; total time=   0.0s\n",
      "[CV 9/10] END ..........criterion=entropy, max_leaf_nodes=64; total time=   0.0s\n",
      "[CV 10/10] END .........criterion=entropy, max_leaf_nodes=64; total time=   0.0s\n",
      "[CV 1/10] END .........criterion=entropy, max_leaf_nodes=128; total time=   0.0s\n",
      "[CV 2/10] END .........criterion=entropy, max_leaf_nodes=128; total time=   0.0s\n",
      "[CV 3/10] END .........criterion=entropy, max_leaf_nodes=128; total time=   0.0s\n",
      "[CV 4/10] END .........criterion=entropy, max_leaf_nodes=128; total time=   0.0s\n",
      "[CV 5/10] END .........criterion=entropy, max_leaf_nodes=128; total time=   0.0s\n",
      "[CV 6/10] END .........criterion=entropy, max_leaf_nodes=128; total time=   0.0s\n",
      "[CV 7/10] END .........criterion=entropy, max_leaf_nodes=128; total time=   0.0s\n",
      "[CV 8/10] END .........criterion=entropy, max_leaf_nodes=128; total time=   0.0s\n",
      "[CV 9/10] END .........criterion=entropy, max_leaf_nodes=128; total time=   0.0s\n",
      "[CV 10/10] END ........criterion=entropy, max_leaf_nodes=128; total time=   0.0s\n",
      "[CV 1/10] END .........criterion=entropy, max_leaf_nodes=256; total time=   0.0s\n",
      "[CV 2/10] END .........criterion=entropy, max_leaf_nodes=256; total time=   0.0s\n",
      "[CV 3/10] END .........criterion=entropy, max_leaf_nodes=256; total time=   0.0s\n",
      "[CV 4/10] END .........criterion=entropy, max_leaf_nodes=256; total time=   0.1s\n",
      "[CV 5/10] END .........criterion=entropy, max_leaf_nodes=256; total time=   0.1s\n",
      "[CV 6/10] END .........criterion=entropy, max_leaf_nodes=256; total time=   0.0s\n",
      "[CV 7/10] END .........criterion=entropy, max_leaf_nodes=256; total time=   0.0s\n",
      "[CV 8/10] END .........criterion=entropy, max_leaf_nodes=256; total time=   0.0s\n",
      "[CV 9/10] END .........criterion=entropy, max_leaf_nodes=256; total time=   0.1s\n",
      "[CV 10/10] END ........criterion=entropy, max_leaf_nodes=256; total time=   0.0s\n",
      "[CV 1/10] END .........criterion=entropy, max_leaf_nodes=512; total time=   0.1s\n",
      "[CV 2/10] END .........criterion=entropy, max_leaf_nodes=512; total time=   0.1s\n",
      "[CV 3/10] END .........criterion=entropy, max_leaf_nodes=512; total time=   0.1s\n",
      "[CV 4/10] END .........criterion=entropy, max_leaf_nodes=512; total time=   0.1s\n",
      "[CV 5/10] END .........criterion=entropy, max_leaf_nodes=512; total time=   0.1s\n",
      "[CV 6/10] END .........criterion=entropy, max_leaf_nodes=512; total time=   0.0s\n",
      "[CV 7/10] END .........criterion=entropy, max_leaf_nodes=512; total time=   0.1s\n",
      "[CV 8/10] END .........criterion=entropy, max_leaf_nodes=512; total time=   0.1s\n",
      "[CV 9/10] END .........criterion=entropy, max_leaf_nodes=512; total time=   0.1s\n",
      "[CV 10/10] END ........criterion=entropy, max_leaf_nodes=512; total time=   0.1s\n",
      "[CV 1/10] END ........criterion=entropy, max_leaf_nodes=2014; total time=   0.1s\n",
      "[CV 2/10] END ........criterion=entropy, max_leaf_nodes=2014; total time=   0.1s\n",
      "[CV 3/10] END ........criterion=entropy, max_leaf_nodes=2014; total time=   0.1s\n",
      "[CV 4/10] END ........criterion=entropy, max_leaf_nodes=2014; total time=   0.1s\n",
      "[CV 5/10] END ........criterion=entropy, max_leaf_nodes=2014; total time=   0.1s\n",
      "[CV 6/10] END ........criterion=entropy, max_leaf_nodes=2014; total time=   0.1s\n",
      "[CV 7/10] END ........criterion=entropy, max_leaf_nodes=2014; total time=   0.1s\n",
      "[CV 8/10] END ........criterion=entropy, max_leaf_nodes=2014; total time=   0.1s\n",
      "[CV 9/10] END ........criterion=entropy, max_leaf_nodes=2014; total time=   0.1s\n",
      "[CV 10/10] END .......criterion=entropy, max_leaf_nodes=2014; total time=   0.1s\n"
     ]
    },
    {
     "data": {
      "text/plain": [
       "GridSearchCV(cv=10, estimator=DecisionTreeClassifier(random_state=61658),\n",
       "             param_grid={'criterion': ['gini', 'entropy'],\n",
       "                         'max_leaf_nodes': [4, 8, 16, 32, 64, 128, 256, 512,\n",
       "                                            2014]},\n",
       "             scoring='roc_auc', verbose=5)"
      ]
     },
     "execution_count": 9,
     "metadata": {},
     "output_type": "execute_result"
    }
   ],
   "source": [
    "grid.fit(X_tr,y_tr)"
   ]
  },
  {
   "cell_type": "markdown",
   "metadata": {},
   "source": [
    "# Qual foi o melhor parâmetro/modelo?"
   ]
  },
  {
   "cell_type": "code",
   "execution_count": 10,
   "metadata": {},
   "outputs": [
    {
     "data": {
      "text/plain": [
       "{'criterion': 'entropy', 'max_leaf_nodes': 32}"
      ]
     },
     "execution_count": 10,
     "metadata": {},
     "output_type": "execute_result"
    }
   ],
   "source": [
    "grid.best_params_"
   ]
  },
  {
   "cell_type": "markdown",
   "metadata": {},
   "source": [
    "# E qual foi o score desse parâmetro nos <i>folds</i> de teste?"
   ]
  },
  {
   "cell_type": "code",
   "execution_count": 11,
   "metadata": {},
   "outputs": [
    {
     "data": {
      "text/plain": [
       "0.844584741625602"
      ]
     },
     "execution_count": 11,
     "metadata": {},
     "output_type": "execute_result"
    }
   ],
   "source": [
    "grid.best_score_"
   ]
  },
  {
   "cell_type": "markdown",
   "metadata": {},
   "source": [
    "# Vamos ver se no nosso CONJUNTO de teste o modelo se saiu bem?"
   ]
  },
  {
   "cell_type": "code",
   "execution_count": 12,
   "metadata": {},
   "outputs": [
    {
     "data": {
      "text/plain": [
       "array([[0.97933001, 0.02066999],\n",
       "       [0.93684211, 0.06315789],\n",
       "       [0.92800789, 0.07199211],\n",
       "       ...,\n",
       "       [0.79723502, 0.20276498],\n",
       "       [0.97933001, 0.02066999],\n",
       "       [0.97933001, 0.02066999]])"
      ]
     },
     "execution_count": 12,
     "metadata": {},
     "output_type": "execute_result"
    }
   ],
   "source": [
    "y_pred = grid.predict_proba(X_ts) #Conjunto teste!\n",
    "y_pred"
   ]
  },
  {
   "cell_type": "code",
   "execution_count": 13,
   "metadata": {},
   "outputs": [
    {
     "data": {
      "text/plain": [
       "array([0.02066999, 0.06315789, 0.07199211, ..., 0.20276498, 0.02066999,\n",
       "       0.02066999])"
      ]
     },
     "execution_count": 13,
     "metadata": {},
     "output_type": "execute_result"
    }
   ],
   "source": [
    "y_pred = y_pred[:,1]\n",
    "y_pred"
   ]
  },
  {
   "cell_type": "markdown",
   "metadata": {},
   "source": [
    "# Curva ROC"
   ]
  },
  {
   "cell_type": "code",
   "execution_count": 14,
   "metadata": {},
   "outputs": [
    {
     "data": {
      "text/plain": [
       "[<matplotlib.lines.Line2D at 0x7ff3ca42d880>]"
      ]
     },
     "execution_count": 14,
     "metadata": {},
     "output_type": "execute_result"
    },
    {
     "data": {
      "image/png": "[encoded data removed]",
      "text/plain": [
       "<Figure size 576x576 with 1 Axes>"
      ]
     },
     "metadata": {
      "needs_background": "light"
     },
     "output_type": "display_data"
    }
   ],
   "source": [
    "from sklearn.metrics import roc_curve\n",
    "\n",
    "fpr,tpr,ths = roc_curve(y_ts,y_pred)\n",
    "\n",
    "plt.figure(figsize=(8,8))\n",
    "plt.plot(fpr,tpr)"
   ]
  },
  {
   "cell_type": "code",
   "execution_count": 15,
   "metadata": {},
   "outputs": [
    {
     "data": {
      "text/plain": [
       "<matplotlib.collections.PolyCollection at 0x7ff3ca381250>"
      ]
     },
     "execution_count": 15,
     "metadata": {},
     "output_type": "execute_result"
    },
    {
     "data": {
      "image/png": "[encoded data removed]",
      "text/plain": [
       "<Figure size 576x576 with 1 Axes>"
      ]
     },
     "metadata": {
      "needs_background": "light"
     },
     "output_type": "display_data"
    }
   ],
   "source": [
    "plt.figure(figsize=(8,8))\n",
    "plt.plot(fpr,tpr)\n",
    "plt.fill_between(fpr,tpr,alpha=.3)"
   ]
  },
  {
   "cell_type": "markdown",
   "metadata": {},
   "source": [
    "# ROC/AUC score"
   ]
  },
  {
   "cell_type": "code",
   "execution_count": 16,
   "metadata": {},
   "outputs": [
    {
     "data": {
      "text/plain": [
       "0.8461416666666665"
      ]
     },
     "execution_count": 16,
     "metadata": {},
     "output_type": "execute_result"
    }
   ],
   "source": [
    "from sklearn.metrics import roc_auc_score\n",
    "\n",
    "roc_auc_score(y_ts, y_pred)"
   ]
  },
  {
   "cell_type": "markdown",
   "metadata": {},
   "source": [
    "# E se tivesse feito no treino?"
   ]
  },
  {
   "cell_type": "code",
   "execution_count": 17,
   "metadata": {},
   "outputs": [
    {
     "data": {
      "text/plain": [
       "<matplotlib.legend.Legend at 0x7ff3ca336340>"
      ]
     },
     "execution_count": 17,
     "metadata": {},
     "output_type": "execute_result"
    },
    {
     "data": {
      "image/png": "[encoded data removed]",
      "text/plain": [
       "<Figure size 576x576 with 1 Axes>"
      ]
     },
     "metadata": {
      "needs_background": "light"
     },
     "output_type": "display_data"
    }
   ],
   "source": [
    "from sklearn.metrics import roc_curve\n",
    "\n",
    "plt.figure(figsize=(8,8))\n",
    "\n",
    "fpr,tpr,ths = roc_curve(y_ts,y_pred)\n",
    "plt.plot(fpr,tpr,color='b', label='Teste')\n",
    "\n",
    "fpr2,tpr2,ths2 = roc_curve(y_tr,grid.predict_proba(X_tr)[:,1])\n",
    "plt.plot(fpr2,tpr2,color='r', label='Treino')\n",
    "\n",
    "plt.legend(fontsize=16)"
   ]
  },
  {
   "cell_type": "markdown",
   "metadata": {},
   "source": [
    "# Num GridSearch bem feito, eles não deveriam ser MUITO diferentes\n",
    "### Se estão muito distantes, talvez seja interessante testar algumas coisas:\n",
    " - As distribuições das variáveis estão muito diferentes no treino e no teste?\n",
    " - Talvez aumentar a quantidade de folds"
   ]
  },
  {
   "cell_type": "markdown",
   "metadata": {},
   "source": [
    "<hr />"
   ]
  },
  {
   "cell_type": "markdown",
   "metadata": {},
   "source": [
    "# E como eu VISUALIZO minha árvore?"
   ]
  },
  {
   "cell_type": "code",
   "execution_count": 18,
   "metadata": {},
   "outputs": [
    {
     "data": {
      "image/png": "[encoded data removed]",
      "text/plain": [
       "<Figure size 1080x720 with 1 Axes>"
      ]
     },
     "metadata": {
      "needs_background": "light"
     },
     "output_type": "display_data"
    }
   ],
   "source": [
    "from sklearn.tree import plot_tree\n",
    "plt.figure(figsize=(15,10))\n",
    "plot_tree(grid.best_estimator_);"
   ]
  },
  {
   "cell_type": "code",
   "execution_count": 19,
   "metadata": {},
   "outputs": [
    {
     "data": {
      "image/png": "[encoded data removed]",
      "text/plain": [
       "<Figure size 1080x720 with 1 Axes>"
      ]
     },
     "metadata": {
      "needs_background": "light"
     },
     "output_type": "display_data"
    }
   ],
   "source": [
    "from sklearn.tree import plot_tree\n",
    "plt.figure(figsize=(15,10))\n",
    "plot_tree(grid.best_estimator_, max_depth=2);"
   ]
  },
  {
   "cell_type": "code",
   "execution_count": 20,
   "metadata": {},
   "outputs": [
    {
     "data": {
      "image/png": "[encoded data removed]",
      "text/plain": [
       "<Figure size 1080x720 with 1 Axes>"
      ]
     },
     "metadata": {
      "needs_background": "light"
     },
     "output_type": "display_data"
    }
   ],
   "source": [
    "from sklearn.tree import plot_tree\n",
    "plt.figure(figsize=(15,10))\n",
    "plot_tree(grid.best_estimator_, max_depth=2,feature_names=X_tr.columns, filled=True);"
   ]
  },
  {
   "cell_type": "markdown",
   "metadata": {},
   "source": [
    "# Verificar a IMPORTÂNCIA  DE VARIÁVEIS"
   ]
  },
  {
   "cell_type": "code",
   "execution_count": 21,
   "metadata": {},
   "outputs": [
    {
     "data": {
      "text/plain": [
       "DecisionTreeClassifier(criterion='entropy', max_leaf_nodes=32,\n",
       "                       random_state=61658)"
      ]
     },
     "execution_count": 21,
     "metadata": {},
     "output_type": "execute_result"
    }
   ],
   "source": [
    "grid.best_estimator_"
   ]
  },
  {
   "cell_type": "code",
   "execution_count": 22,
   "metadata": {},
   "outputs": [
    {
     "data": {
      "text/plain": [
       "array([0.        , 0.39756168, 0.        , 0.12983555, 0.30706264,\n",
       "       0.        , 0.11164571, 0.00618282, 0.        , 0.04771159,\n",
       "       0.        , 0.        , 0.        ])"
      ]
     },
     "execution_count": 22,
     "metadata": {},
     "output_type": "execute_result"
    }
   ],
   "source": [
    "grid.best_estimator_.feature_importances_"
   ]
  },
  {
   "cell_type": "code",
   "execution_count": 23,
   "metadata": {},
   "outputs": [
    {
     "data": {
      "text/plain": [
       "Index(['CreditScore', 'Age', 'Tenure', 'Balance', 'NumOfProducts', 'HasCrCard',\n",
       "       'IsActiveMember', 'EstimatedSalary', 'Geography_France',\n",
       "       'Geography_Germany', 'Geography_Spain', 'Gender_Female', 'Gender_Male'],\n",
       "      dtype='object')"
      ]
     },
     "execution_count": 23,
     "metadata": {},
     "output_type": "execute_result"
    }
   ],
   "source": [
    "X_tr.columns"
   ]
  },
  {
   "cell_type": "code",
   "execution_count": 31,
   "metadata": {},
   "outputs": [
    {
     "name": "stdout",
     "output_type": "stream",
     "text": [
      "Age 0.39756167881330673\n",
      "NumOfProducts 0.3070626438661241\n",
      "Balance 0.1298355548570011\n",
      "IsActiveMember 0.11164570613828362\n",
      "Geography_Germany 0.04771159444814778\n",
      "EstimatedSalary 0.006182821877136774\n",
      "Gender_Male 0.0\n",
      "Gender_Female 0.0\n",
      "Geography_Spain 0.0\n",
      "Geography_France 0.0\n",
      "HasCrCard 0.0\n",
      "Tenure 0.0\n",
      "CreditScore 0.0\n"
     ]
    }
   ],
   "source": [
    "importancias = grid.best_estimator_.feature_importances_\n",
    "ordem = np.argsort(importancias)[::-1]\n",
    "colunas = X.columns\n",
    "\n",
    "for col,imp in zip(colunas[ordem],importancias[ordem]):\n",
    "    print(col,imp)"
   ]
  },
  {
   "cell_type": "code",
   "execution_count": 32,
   "metadata": {},
   "outputs": [
    {
     "name": "stdout",
     "output_type": "stream",
     "text": [
      "Age,0.39756167881330673\n",
      "NumOfProducts,0.3070626438661241\n",
      "Balance,0.1298355548570011\n",
      "IsActiveMember,0.11164570613828362\n",
      "Geography_Germany,0.04771159444814778\n",
      "EstimatedSalary,0.006182821877136774\n",
      "Gender_Male,0.0\n",
      "Gender_Female,0.0\n",
      "Geography_Spain,0.0\n",
      "Geography_France,0.0\n",
      "HasCrCard,0.0\n",
      "Tenure,0.0\n",
      "CreditScore,0.0\n"
     ]
    }
   ],
   "source": [
    "importancias = grid.best_estimator_.feature_importances_\n",
    "ordem = np.argsort(importancias)[::-1]\n",
    "colunas = X.columns\n",
    "\n",
    "for col,imp in zip(colunas[ordem],importancias[ordem]):\n",
    "    print(f'{col},{imp}')"
   ]
  },
  {
   "cell_type": "code",
   "execution_count": 34,
   "metadata": {},
   "outputs": [
    {
     "name": "stdout",
     "output_type": "stream",
     "text": [
      "Age                           ,0.398\n",
      "NumOfProducts                 ,0.307\n",
      "Balance                       ,0.130\n",
      "IsActiveMember                ,0.112\n",
      "Geography_Germany             ,0.048\n",
      "EstimatedSalary               ,0.006\n",
      "Gender_Male                   ,0.000\n",
      "Gender_Female                 ,0.000\n",
      "Geography_Spain               ,0.000\n",
      "Geography_France              ,0.000\n",
      "HasCrCard                     ,0.000\n",
      "Tenure                        ,0.000\n",
      "CreditScore                   ,0.000\n"
     ]
    }
   ],
   "source": [
    "importancias = grid.best_estimator_.feature_importances_\n",
    "ordem = np.argsort(importancias)[::-1]\n",
    "colunas = X.columns\n",
    "\n",
    "for col,imp in zip(colunas[ordem],importancias[ordem]):\n",
    "    print(f'{col:30s},{imp:.3f}')"
   ]
  },
  {
   "cell_type": "code",
   "execution_count": null,
   "metadata": {},
   "outputs": [],
   "source": [
    "importancias = grid.best_estimator_.feature_importances_\n",
    "ordem = np.argsort(importancias)\n",
    "colunas = X.columns\n",
    "\n",
    "for col,imp in zip(colunas[ordem],importancias[ordem]):\n",
    "    print(col,imp)"
   ]
  },
  {
   "cell_type": "code",
   "execution_count": null,
   "metadata": {},
   "outputs": [],
   "source": [
    "importancias = grid.best_estimator_.feature_importances_\n",
    "ordem = np.argsort(importancias)[::-1]\n",
    "colunas = X.columns\n",
    "\n",
    "for col,imp in zip(colunas[ordem],importancias[ordem]):\n",
    "    print(f'{col:30s}:{imp:.3f}')"
   ]
  },
  {
   "cell_type": "markdown",
   "metadata": {},
   "source": [
    "# Ajuda na análise preliminar!"
   ]
  },
  {
   "cell_type": "code",
   "execution_count": 35,
   "metadata": {},
   "outputs": [
    {
     "data": {
      "text/plain": [
       "(array([9.78321550e-05, 1.95664310e-07, 0.00000000e+00, 0.00000000e+00,\n",
       "        1.95664310e-07, 0.00000000e+00, 0.00000000e+00, 0.00000000e+00,\n",
       "        0.00000000e+00, 3.91328620e-07, 0.00000000e+00, 5.86992930e-07,\n",
       "        0.00000000e+00, 1.95664310e-07, 1.95664310e-07, 3.91328620e-07,\n",
       "        5.86992930e-07, 9.78321550e-07, 1.17398586e-06, 1.95664310e-07,\n",
       "        5.86992930e-07, 5.86992930e-07, 1.56531448e-06, 7.82657240e-07,\n",
       "        1.36965017e-06, 1.76097879e-06, 1.95664310e-06, 2.15230741e-06,\n",
       "        1.76097879e-06, 3.13062896e-06, 2.34797172e-06, 2.73930034e-06,\n",
       "        3.71762189e-06, 2.15230741e-06, 3.13062896e-06, 5.28293637e-06,\n",
       "        4.50027913e-06, 6.26125792e-06, 6.84825085e-06, 7.23957947e-06,\n",
       "        6.65258654e-06, 1.07615371e-05, 9.00055826e-06, 1.50661519e-05,\n",
       "        9.97887981e-06, 1.09572014e-05, 1.31095088e-05, 1.17398586e-05,\n",
       "        1.17398586e-05, 1.03702084e-05, 1.17398586e-05, 1.05658727e-05,\n",
       "        1.13485300e-05, 8.21790102e-06, 9.39188688e-06, 7.04391516e-06,\n",
       "        5.47860068e-06, 8.60922964e-06, 4.89160775e-06, 6.45692223e-06,\n",
       "        5.47860068e-06, 4.30461482e-06, 2.93496465e-06, 2.73930034e-06,\n",
       "        2.54363603e-06, 3.13062896e-06, 2.15230741e-06, 3.13062896e-06,\n",
       "        1.76097879e-06, 2.34797172e-06, 1.17398586e-06, 1.17398586e-06,\n",
       "        1.17398586e-06, 9.78321550e-07, 1.36965017e-06, 1.17398586e-06,\n",
       "        5.86992930e-07, 3.91328620e-07, 0.00000000e+00, 3.91328620e-07,\n",
       "        7.82657240e-07, 3.91328620e-07, 7.82657240e-07, 5.86992930e-07,\n",
       "        3.91328620e-07, 0.00000000e+00, 1.95664310e-07, 0.00000000e+00,\n",
       "        1.95664310e-07, 0.00000000e+00, 0.00000000e+00, 0.00000000e+00,\n",
       "        0.00000000e+00, 0.00000000e+00, 0.00000000e+00, 1.95664310e-07,\n",
       "        0.00000000e+00, 0.00000000e+00, 0.00000000e+00, 1.95664310e-07]),\n",
       " array([     0.    ,   2508.9809,   5017.9618,   7526.9427,  10035.9236,\n",
       "         12544.9045,  15053.8854,  17562.8663,  20071.8472,  22580.8281,\n",
       "         25089.809 ,  27598.7899,  30107.7708,  32616.7517,  35125.7326,\n",
       "         37634.7135,  40143.6944,  42652.6753,  45161.6562,  47670.6371,\n",
       "         50179.618 ,  52688.5989,  55197.5798,  57706.5607,  60215.5416,\n",
       "         62724.5225,  65233.5034,  67742.4843,  70251.4652,  72760.4461,\n",
       "         75269.427 ,  77778.4079,  80287.3888,  82796.3697,  85305.3506,\n",
       "         87814.3315,  90323.3124,  92832.2933,  95341.2742,  97850.2551,\n",
       "        100359.236 , 102868.2169, 105377.1978, 107886.1787, 110395.1596,\n",
       "        112904.1405, 115413.1214, 117922.1023, 120431.0832, 122940.0641,\n",
       "        125449.045 , 127958.0259, 130467.0068, 132975.9877, 135484.9686,\n",
       "        137993.9495, 140502.9304, 143011.9113, 145520.8922, 148029.8731,\n",
       "        150538.854 , 153047.8349, 155556.8158, 158065.7967, 160574.7776,\n",
       "        163083.7585, 165592.7394, 168101.7203, 170610.7012, 173119.6821,\n",
       "        175628.663 , 178137.6439, 180646.6248, 183155.6057, 185664.5866,\n",
       "        188173.5675, 190682.5484, 193191.5293, 195700.5102, 198209.4911,\n",
       "        200718.472 , 203227.4529, 205736.4338, 208245.4147, 210754.3956,\n",
       "        213263.3765, 215772.3574, 218281.3383, 220790.3192, 223299.3001,\n",
       "        225808.281 , 228317.2619, 230826.2428, 233335.2237, 235844.2046,\n",
       "        238353.1855, 240862.1664, 243371.1473, 245880.1282, 248389.1091,\n",
       "        250898.09  ]),\n",
       " <BarContainer object of 100 artists>)"
      ]
     },
     "execution_count": 35,
     "metadata": {},
     "output_type": "execute_result"
    },
    {
     "data": {
      "image/png": "[encoded data removed]",
      "text/plain": [
       "<Figure size 1080x360 with 1 Axes>"
      ]
     },
     "metadata": {
      "needs_background": "light"
     },
     "output_type": "display_data"
    }
   ],
   "source": [
    "plt.figure(figsize=(15,5))\n",
    "\n",
    "plt.hist(X.loc[y==0].Balance, bins=100, color='b', alpha=.3, rwidth=.8, density=True)\n",
    "plt.hist(X.loc[y==1].Balance, bins=100, color='r', alpha=.3, rwidth=.8, density=True)"
   ]
  },
  {
   "cell_type": "code",
   "execution_count": 36,
   "metadata": {},
   "outputs": [
    {
     "data": {
      "image/png": "[encoded data removed]",
      "text/plain": [
       "<Figure size 1080x360 with 1 Axes>"
      ]
     },
     "metadata": {
      "needs_background": "light"
     },
     "output_type": "display_data"
    }
   ],
   "source": [
    "plt.figure(figsize=(15,5))\n",
    "\n",
    "plt.hist(X.loc[y==0].Balance, bins=np.linspace(100,250000,30), color='b', alpha=.3, rwidth=.8, density=True);\n",
    "plt.hist(X.loc[y==1].Balance, bins=np.linspace(100,250000,30), color='r', alpha=.3, rwidth=.8, density=True);"
   ]
  },
  {
   "cell_type": "markdown",
   "metadata": {},
   "source": [
    "# E pode fazer um modelo melhor! (ou no mínimo mais simples)"
   ]
  },
  {
   "cell_type": "code",
   "execution_count": 39,
   "metadata": {},
   "outputs": [
    {
     "name": "stdout",
     "output_type": "stream",
     "text": [
      "Fitting 10 folds for each of 18 candidates, totalling 180 fits\n",
      "[CV 1/10] END ..............criterion=gini, max_leaf_nodes=4; total time=   0.1s\n",
      "[CV 2/10] END ..............criterion=gini, max_leaf_nodes=4; total time=   0.0s\n",
      "[CV 3/10] END ..............criterion=gini, max_leaf_nodes=4; total time=   0.1s\n",
      "[CV 4/10] END ..............criterion=gini, max_leaf_nodes=4; total time=   0.0s\n",
      "[CV 5/10] END ..............criterion=gini, max_leaf_nodes=4; total time=   0.0s\n",
      "[CV 6/10] END ..............criterion=gini, max_leaf_nodes=4; total time=   0.0s\n",
      "[CV 7/10] END ..............criterion=gini, max_leaf_nodes=4; total time=   0.1s\n",
      "[CV 8/10] END ..............criterion=gini, max_leaf_nodes=4; total time=   0.0s\n",
      "[CV 9/10] END ..............criterion=gini, max_leaf_nodes=4; total time=   0.1s\n",
      "[CV 10/10] END .............criterion=gini, max_leaf_nodes=4; total time=   0.1s\n",
      "[CV 1/10] END ..............criterion=gini, max_leaf_nodes=8; total time=   0.1s\n",
      "[CV 2/10] END ..............criterion=gini, max_leaf_nodes=8; total time=   0.1s\n",
      "[CV 3/10] END ..............criterion=gini, max_leaf_nodes=8; total time=   0.1s\n",
      "[CV 4/10] END ..............criterion=gini, max_leaf_nodes=8; total time=   0.1s\n",
      "[CV 5/10] END ..............criterion=gini, max_leaf_nodes=8; total time=   0.1s\n",
      "[CV 6/10] END ..............criterion=gini, max_leaf_nodes=8; total time=   0.1s\n",
      "[CV 7/10] END ..............criterion=gini, max_leaf_nodes=8; total time=   0.1s\n",
      "[CV 8/10] END ..............criterion=gini, max_leaf_nodes=8; total time=   0.1s\n",
      "[CV 9/10] END ..............criterion=gini, max_leaf_nodes=8; total time=   0.1s\n",
      "[CV 10/10] END .............criterion=gini, max_leaf_nodes=8; total time=   0.1s\n",
      "[CV 1/10] END .............criterion=gini, max_leaf_nodes=16; total time=   0.0s\n",
      "[CV 2/10] END .............criterion=gini, max_leaf_nodes=16; total time=   0.0s\n",
      "[CV 3/10] END .............criterion=gini, max_leaf_nodes=16; total time=   0.0s\n",
      "[CV 4/10] END .............criterion=gini, max_leaf_nodes=16; total time=   0.1s\n",
      "[CV 5/10] END .............criterion=gini, max_leaf_nodes=16; total time=   0.0s\n",
      "[CV 6/10] END .............criterion=gini, max_leaf_nodes=16; total time=   0.1s\n",
      "[CV 7/10] END .............criterion=gini, max_leaf_nodes=16; total time=   0.1s\n",
      "[CV 8/10] END .............criterion=gini, max_leaf_nodes=16; total time=   0.1s\n",
      "[CV 9/10] END .............criterion=gini, max_leaf_nodes=16; total time=   0.1s\n",
      "[CV 10/10] END ............criterion=gini, max_leaf_nodes=16; total time=   0.0s\n",
      "[CV 1/10] END .............criterion=gini, max_leaf_nodes=32; total time=   0.0s\n",
      "[CV 2/10] END .............criterion=gini, max_leaf_nodes=32; total time=   0.1s\n",
      "[CV 3/10] END .............criterion=gini, max_leaf_nodes=32; total time=   0.1s\n",
      "[CV 4/10] END .............criterion=gini, max_leaf_nodes=32; total time=   0.0s\n",
      "[CV 5/10] END .............criterion=gini, max_leaf_nodes=32; total time=   0.1s\n",
      "[CV 6/10] END .............criterion=gini, max_leaf_nodes=32; total time=   0.0s\n",
      "[CV 7/10] END .............criterion=gini, max_leaf_nodes=32; total time=   0.1s\n",
      "[CV 8/10] END .............criterion=gini, max_leaf_nodes=32; total time=   0.1s\n",
      "[CV 9/10] END .............criterion=gini, max_leaf_nodes=32; total time=   0.0s\n",
      "[CV 10/10] END ............criterion=gini, max_leaf_nodes=32; total time=   0.1s\n",
      "[CV 1/10] END .............criterion=gini, max_leaf_nodes=64; total time=   0.1s\n",
      "[CV 2/10] END .............criterion=gini, max_leaf_nodes=64; total time=   0.1s\n",
      "[CV 3/10] END .............criterion=gini, max_leaf_nodes=64; total time=   0.1s\n",
      "[CV 4/10] END .............criterion=gini, max_leaf_nodes=64; total time=   0.1s\n",
      "[CV 5/10] END .............criterion=gini, max_leaf_nodes=64; total time=   0.1s\n",
      "[CV 6/10] END .............criterion=gini, max_leaf_nodes=64; total time=   0.1s\n",
      "[CV 7/10] END .............criterion=gini, max_leaf_nodes=64; total time=   0.1s\n",
      "[CV 8/10] END .............criterion=gini, max_leaf_nodes=64; total time=   0.1s\n",
      "[CV 9/10] END .............criterion=gini, max_leaf_nodes=64; total time=   0.1s\n",
      "[CV 10/10] END ............criterion=gini, max_leaf_nodes=64; total time=   0.1s\n",
      "[CV 1/10] END ............criterion=gini, max_leaf_nodes=128; total time=   0.2s\n",
      "[CV 2/10] END ............criterion=gini, max_leaf_nodes=128; total time=   0.1s\n",
      "[CV 3/10] END ............criterion=gini, max_leaf_nodes=128; total time=   0.2s\n",
      "[CV 4/10] END ............criterion=gini, max_leaf_nodes=128; total time=   0.1s\n",
      "[CV 5/10] END ............criterion=gini, max_leaf_nodes=128; total time=   0.1s\n",
      "[CV 6/10] END ............criterion=gini, max_leaf_nodes=128; total time=   0.1s\n",
      "[CV 7/10] END ............criterion=gini, max_leaf_nodes=128; total time=   0.1s\n",
      "[CV 8/10] END ............criterion=gini, max_leaf_nodes=128; total time=   0.1s\n",
      "[CV 9/10] END ............criterion=gini, max_leaf_nodes=128; total time=   0.1s\n",
      "[CV 10/10] END ...........criterion=gini, max_leaf_nodes=128; total time=   0.1s\n",
      "[CV 1/10] END ............criterion=gini, max_leaf_nodes=256; total time=   0.1s\n",
      "[CV 2/10] END ............criterion=gini, max_leaf_nodes=256; total time=   0.1s\n",
      "[CV 3/10] END ............criterion=gini, max_leaf_nodes=256; total time=   0.1s\n",
      "[CV 4/10] END ............criterion=gini, max_leaf_nodes=256; total time=   0.1s\n",
      "[CV 5/10] END ............criterion=gini, max_leaf_nodes=256; total time=   0.1s\n",
      "[CV 6/10] END ............criterion=gini, max_leaf_nodes=256; total time=   0.2s\n",
      "[CV 7/10] END ............criterion=gini, max_leaf_nodes=256; total time=   0.1s\n",
      "[CV 8/10] END ............criterion=gini, max_leaf_nodes=256; total time=   0.1s\n",
      "[CV 9/10] END ............criterion=gini, max_leaf_nodes=256; total time=   0.2s\n",
      "[CV 10/10] END ...........criterion=gini, max_leaf_nodes=256; total time=   0.1s\n",
      "[CV 1/10] END ............criterion=gini, max_leaf_nodes=512; total time=   0.1s\n",
      "[CV 2/10] END ............criterion=gini, max_leaf_nodes=512; total time=   0.2s\n",
      "[CV 3/10] END ............criterion=gini, max_leaf_nodes=512; total time=   0.1s\n",
      "[CV 4/10] END ............criterion=gini, max_leaf_nodes=512; total time=   0.1s\n",
      "[CV 5/10] END ............criterion=gini, max_leaf_nodes=512; total time=   0.1s\n",
      "[CV 6/10] END ............criterion=gini, max_leaf_nodes=512; total time=   0.1s\n",
      "[CV 7/10] END ............criterion=gini, max_leaf_nodes=512; total time=   0.1s\n",
      "[CV 8/10] END ............criterion=gini, max_leaf_nodes=512; total time=   0.1s\n",
      "[CV 9/10] END ............criterion=gini, max_leaf_nodes=512; total time=   0.1s\n",
      "[CV 10/10] END ...........criterion=gini, max_leaf_nodes=512; total time=   0.1s\n",
      "[CV 1/10] END ...........criterion=gini, max_leaf_nodes=2014; total time=   0.1s\n",
      "[CV 2/10] END ...........criterion=gini, max_leaf_nodes=2014; total time=   0.1s\n",
      "[CV 3/10] END ...........criterion=gini, max_leaf_nodes=2014; total time=   0.1s\n",
      "[CV 4/10] END ...........criterion=gini, max_leaf_nodes=2014; total time=   0.1s\n",
      "[CV 5/10] END ...........criterion=gini, max_leaf_nodes=2014; total time=   0.2s\n",
      "[CV 6/10] END ...........criterion=gini, max_leaf_nodes=2014; total time=   0.1s\n",
      "[CV 7/10] END ...........criterion=gini, max_leaf_nodes=2014; total time=   0.1s\n",
      "[CV 8/10] END ...........criterion=gini, max_leaf_nodes=2014; total time=   0.1s\n",
      "[CV 9/10] END ...........criterion=gini, max_leaf_nodes=2014; total time=   0.1s\n",
      "[CV 10/10] END ..........criterion=gini, max_leaf_nodes=2014; total time=   0.1s\n",
      "[CV 1/10] END ...........criterion=entropy, max_leaf_nodes=4; total time=   0.0s\n",
      "[CV 2/10] END ...........criterion=entropy, max_leaf_nodes=4; total time=   0.0s\n",
      "[CV 3/10] END ...........criterion=entropy, max_leaf_nodes=4; total time=   0.0s\n",
      "[CV 4/10] END ...........criterion=entropy, max_leaf_nodes=4; total time=   0.1s\n",
      "[CV 5/10] END ...........criterion=entropy, max_leaf_nodes=4; total time=   0.1s\n",
      "[CV 6/10] END ...........criterion=entropy, max_leaf_nodes=4; total time=   0.1s\n",
      "[CV 7/10] END ...........criterion=entropy, max_leaf_nodes=4; total time=   0.1s\n",
      "[CV 8/10] END ...........criterion=entropy, max_leaf_nodes=4; total time=   0.1s\n",
      "[CV 9/10] END ...........criterion=entropy, max_leaf_nodes=4; total time=   0.1s\n",
      "[CV 10/10] END ..........criterion=entropy, max_leaf_nodes=4; total time=   0.1s\n",
      "[CV 1/10] END ...........criterion=entropy, max_leaf_nodes=8; total time=   0.1s\n"
     ]
    },
    {
     "name": "stdout",
     "output_type": "stream",
     "text": [
      "[CV 2/10] END ...........criterion=entropy, max_leaf_nodes=8; total time=   0.1s\n",
      "[CV 3/10] END ...........criterion=entropy, max_leaf_nodes=8; total time=   0.1s\n",
      "[CV 4/10] END ...........criterion=entropy, max_leaf_nodes=8; total time=   0.1s\n",
      "[CV 5/10] END ...........criterion=entropy, max_leaf_nodes=8; total time=   0.1s\n",
      "[CV 6/10] END ...........criterion=entropy, max_leaf_nodes=8; total time=   0.1s\n",
      "[CV 7/10] END ...........criterion=entropy, max_leaf_nodes=8; total time=   0.1s\n",
      "[CV 8/10] END ...........criterion=entropy, max_leaf_nodes=8; total time=   0.0s\n",
      "[CV 9/10] END ...........criterion=entropy, max_leaf_nodes=8; total time=   0.1s\n",
      "[CV 10/10] END ..........criterion=entropy, max_leaf_nodes=8; total time=   0.1s\n",
      "[CV 1/10] END ..........criterion=entropy, max_leaf_nodes=16; total time=   0.1s\n",
      "[CV 2/10] END ..........criterion=entropy, max_leaf_nodes=16; total time=   0.1s\n",
      "[CV 3/10] END ..........criterion=entropy, max_leaf_nodes=16; total time=   0.1s\n",
      "[CV 4/10] END ..........criterion=entropy, max_leaf_nodes=16; total time=   0.1s\n",
      "[CV 5/10] END ..........criterion=entropy, max_leaf_nodes=16; total time=   0.1s\n",
      "[CV 6/10] END ..........criterion=entropy, max_leaf_nodes=16; total time=   0.1s\n",
      "[CV 7/10] END ..........criterion=entropy, max_leaf_nodes=16; total time=   0.1s\n",
      "[CV 8/10] END ..........criterion=entropy, max_leaf_nodes=16; total time=   0.1s\n",
      "[CV 9/10] END ..........criterion=entropy, max_leaf_nodes=16; total time=   0.1s\n",
      "[CV 10/10] END .........criterion=entropy, max_leaf_nodes=16; total time=   0.1s\n",
      "[CV 1/10] END ..........criterion=entropy, max_leaf_nodes=32; total time=   0.1s\n",
      "[CV 2/10] END ..........criterion=entropy, max_leaf_nodes=32; total time=   0.1s\n",
      "[CV 3/10] END ..........criterion=entropy, max_leaf_nodes=32; total time=   0.1s\n",
      "[CV 4/10] END ..........criterion=entropy, max_leaf_nodes=32; total time=   0.1s\n",
      "[CV 5/10] END ..........criterion=entropy, max_leaf_nodes=32; total time=   0.1s\n",
      "[CV 6/10] END ..........criterion=entropy, max_leaf_nodes=32; total time=   0.1s\n",
      "[CV 7/10] END ..........criterion=entropy, max_leaf_nodes=32; total time=   0.1s\n",
      "[CV 8/10] END ..........criterion=entropy, max_leaf_nodes=32; total time=   0.1s\n",
      "[CV 9/10] END ..........criterion=entropy, max_leaf_nodes=32; total time=   0.1s\n",
      "[CV 10/10] END .........criterion=entropy, max_leaf_nodes=32; total time=   0.1s\n",
      "[CV 1/10] END ..........criterion=entropy, max_leaf_nodes=64; total time=   0.1s\n",
      "[CV 2/10] END ..........criterion=entropy, max_leaf_nodes=64; total time=   0.1s\n",
      "[CV 3/10] END ..........criterion=entropy, max_leaf_nodes=64; total time=   0.1s\n",
      "[CV 4/10] END ..........criterion=entropy, max_leaf_nodes=64; total time=   0.1s\n",
      "[CV 5/10] END ..........criterion=entropy, max_leaf_nodes=64; total time=   0.1s\n",
      "[CV 6/10] END ..........criterion=entropy, max_leaf_nodes=64; total time=   0.1s\n",
      "[CV 7/10] END ..........criterion=entropy, max_leaf_nodes=64; total time=   0.1s\n",
      "[CV 8/10] END ..........criterion=entropy, max_leaf_nodes=64; total time=   0.1s\n",
      "[CV 9/10] END ..........criterion=entropy, max_leaf_nodes=64; total time=   0.1s\n",
      "[CV 10/10] END .........criterion=entropy, max_leaf_nodes=64; total time=   0.1s\n",
      "[CV 1/10] END .........criterion=entropy, max_leaf_nodes=128; total time=   0.1s\n",
      "[CV 2/10] END .........criterion=entropy, max_leaf_nodes=128; total time=   0.1s\n",
      "[CV 3/10] END .........criterion=entropy, max_leaf_nodes=128; total time=   0.2s\n",
      "[CV 4/10] END .........criterion=entropy, max_leaf_nodes=128; total time=   0.2s\n",
      "[CV 5/10] END .........criterion=entropy, max_leaf_nodes=128; total time=   0.1s\n",
      "[CV 6/10] END .........criterion=entropy, max_leaf_nodes=128; total time=   0.1s\n",
      "[CV 7/10] END .........criterion=entropy, max_leaf_nodes=128; total time=   0.1s\n",
      "[CV 8/10] END .........criterion=entropy, max_leaf_nodes=128; total time=   0.1s\n",
      "[CV 9/10] END .........criterion=entropy, max_leaf_nodes=128; total time=   0.1s\n",
      "[CV 10/10] END ........criterion=entropy, max_leaf_nodes=128; total time=   0.1s\n",
      "[CV 1/10] END .........criterion=entropy, max_leaf_nodes=256; total time=   0.1s\n",
      "[CV 2/10] END .........criterion=entropy, max_leaf_nodes=256; total time=   0.1s\n",
      "[CV 3/10] END .........criterion=entropy, max_leaf_nodes=256; total time=   0.1s\n",
      "[CV 4/10] END .........criterion=entropy, max_leaf_nodes=256; total time=   0.1s\n",
      "[CV 5/10] END .........criterion=entropy, max_leaf_nodes=256; total time=   0.1s\n",
      "[CV 6/10] END .........criterion=entropy, max_leaf_nodes=256; total time=   0.1s\n",
      "[CV 7/10] END .........criterion=entropy, max_leaf_nodes=256; total time=   0.1s\n",
      "[CV 8/10] END .........criterion=entropy, max_leaf_nodes=256; total time=   0.1s\n",
      "[CV 9/10] END .........criterion=entropy, max_leaf_nodes=256; total time=   0.1s\n",
      "[CV 10/10] END ........criterion=entropy, max_leaf_nodes=256; total time=   0.1s\n",
      "[CV 1/10] END .........criterion=entropy, max_leaf_nodes=512; total time=   0.1s\n",
      "[CV 2/10] END .........criterion=entropy, max_leaf_nodes=512; total time=   0.1s\n",
      "[CV 3/10] END .........criterion=entropy, max_leaf_nodes=512; total time=   0.1s\n",
      "[CV 4/10] END .........criterion=entropy, max_leaf_nodes=512; total time=   0.2s\n",
      "[CV 5/10] END .........criterion=entropy, max_leaf_nodes=512; total time=   0.1s\n",
      "[CV 6/10] END .........criterion=entropy, max_leaf_nodes=512; total time=   0.1s\n",
      "[CV 7/10] END .........criterion=entropy, max_leaf_nodes=512; total time=   0.3s\n",
      "[CV 8/10] END .........criterion=entropy, max_leaf_nodes=512; total time=   0.1s\n",
      "[CV 9/10] END .........criterion=entropy, max_leaf_nodes=512; total time=   0.1s\n",
      "[CV 10/10] END ........criterion=entropy, max_leaf_nodes=512; total time=   0.1s\n",
      "[CV 1/10] END ........criterion=entropy, max_leaf_nodes=2014; total time=   0.1s\n",
      "[CV 2/10] END ........criterion=entropy, max_leaf_nodes=2014; total time=   0.1s\n",
      "[CV 3/10] END ........criterion=entropy, max_leaf_nodes=2014; total time=   0.1s\n",
      "[CV 4/10] END ........criterion=entropy, max_leaf_nodes=2014; total time=   0.1s\n",
      "[CV 5/10] END ........criterion=entropy, max_leaf_nodes=2014; total time=   0.1s\n",
      "[CV 6/10] END ........criterion=entropy, max_leaf_nodes=2014; total time=   0.1s\n",
      "[CV 7/10] END ........criterion=entropy, max_leaf_nodes=2014; total time=   0.1s\n",
      "[CV 8/10] END ........criterion=entropy, max_leaf_nodes=2014; total time=   0.2s\n",
      "[CV 9/10] END ........criterion=entropy, max_leaf_nodes=2014; total time=   0.2s\n",
      "[CV 10/10] END .......criterion=entropy, max_leaf_nodes=2014; total time=   0.2s\n"
     ]
    },
    {
     "data": {
      "text/plain": [
       "GridSearchCV(cv=10, estimator=DecisionTreeClassifier(random_state=61658),\n",
       "             param_grid={'criterion': ['gini', 'entropy'],\n",
       "                         'max_leaf_nodes': [4, 8, 16, 32, 64, 128, 256, 512,\n",
       "                                            2014]},\n",
       "             scoring='roc_auc', verbose=5)"
      ]
     },
     "execution_count": 39,
     "metadata": {},
     "output_type": "execute_result"
    }
   ],
   "source": [
    "colunas_selecionadas = [\n",
    "    'Age',\n",
    "    'NumOfProducts',\n",
    "    'Balance',\n",
    "    'IsActiveMember',\n",
    "    'Geography_Germany',\n",
    "    'EstimatedSalary',\n",
    "]\n",
    "\n",
    "grid.fit(X_tr[colunas_selecionadas],y_tr)"
   ]
  },
  {
   "cell_type": "markdown",
   "metadata": {},
   "source": [
    "##### Antes tinha dado: 0.8461416666666665"
   ]
  },
  {
   "cell_type": "code",
   "execution_count": 40,
   "metadata": {},
   "outputs": [
    {
     "data": {
      "text/plain": [
       "0.8461416666666665"
      ]
     },
     "execution_count": 40,
     "metadata": {},
     "output_type": "execute_result"
    }
   ],
   "source": [
    "y_pred2 = grid.predict_proba(X_ts[colunas_selecionadas])[:,1]\n",
    "\n",
    "roc_auc_score(y_ts,y_pred2)"
   ]
  },
  {
   "cell_type": "code",
   "execution_count": null,
   "metadata": {},
   "outputs": [],
   "source": []
  }
 ],
 "metadata": {
  "kernelspec": {
   "display_name": "Python 3 (ipykernel)",
   "language": "python",
   "name": "python3"
  },
  "language_info": {
   "codemirror_mode": {
    "name": "ipython",
    "version": 3
   },
   "file_extension": ".py",
   "mimetype": "text/x-python",
   "name": "python",
   "nbconvert_exporter": "python",
   "pygments_lexer": "ipython3",
   "version": "3.9.7"
  }
 },
 "nbformat": 4,
 "nbformat_minor": 4
}
