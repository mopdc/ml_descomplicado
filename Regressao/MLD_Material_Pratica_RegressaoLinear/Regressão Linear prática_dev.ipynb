{
 "cells": [
  {
   "cell_type": "code",
   "execution_count": 1,
   "metadata": {},
   "outputs": [],
   "source": [
    "import numpy as np\n",
    "import pandas as pd\n",
    "import matplotlib.pyplot as plt"
   ]
  },
  {
   "cell_type": "code",
   "execution_count": 2,
   "metadata": {},
   "outputs": [
    {
     "data": {
      "text/html": [
       "<div>\n",
       "<style scoped>\n",
       "    .dataframe tbody tr th:only-of-type {\n",
       "        vertical-align: middle;\n",
       "    }\n",
       "\n",
       "    .dataframe tbody tr th {\n",
       "        vertical-align: top;\n",
       "    }\n",
       "\n",
       "    .dataframe thead th {\n",
       "        text-align: right;\n",
       "    }\n",
       "</style>\n",
       "<table border=\"1\" class=\"dataframe\">\n",
       "  <thead>\n",
       "    <tr style=\"text-align: right;\">\n",
       "      <th></th>\n",
       "      <th>model</th>\n",
       "      <th>year</th>\n",
       "      <th>price</th>\n",
       "      <th>transmission</th>\n",
       "      <th>mileage</th>\n",
       "      <th>fuelType</th>\n",
       "      <th>engineSize</th>\n",
       "    </tr>\n",
       "  </thead>\n",
       "  <tbody>\n",
       "    <tr>\n",
       "      <th>0</th>\n",
       "      <td>Focus</td>\n",
       "      <td>2016</td>\n",
       "      <td>8000</td>\n",
       "      <td>Manual</td>\n",
       "      <td>38852</td>\n",
       "      <td>Petrol</td>\n",
       "      <td>1.0</td>\n",
       "    </tr>\n",
       "    <tr>\n",
       "      <th>1</th>\n",
       "      <td>Focus</td>\n",
       "      <td>2019</td>\n",
       "      <td>13400</td>\n",
       "      <td>Manual</td>\n",
       "      <td>11952</td>\n",
       "      <td>Petrol</td>\n",
       "      <td>1.0</td>\n",
       "    </tr>\n",
       "    <tr>\n",
       "      <th>2</th>\n",
       "      <td>Focus</td>\n",
       "      <td>2019</td>\n",
       "      <td>14600</td>\n",
       "      <td>Manual</td>\n",
       "      <td>22142</td>\n",
       "      <td>Petrol</td>\n",
       "      <td>1.5</td>\n",
       "    </tr>\n",
       "    <tr>\n",
       "      <th>3</th>\n",
       "      <td>Focus</td>\n",
       "      <td>2016</td>\n",
       "      <td>9450</td>\n",
       "      <td>Manual</td>\n",
       "      <td>14549</td>\n",
       "      <td>Diesel</td>\n",
       "      <td>1.6</td>\n",
       "    </tr>\n",
       "    <tr>\n",
       "      <th>4</th>\n",
       "      <td>Focus</td>\n",
       "      <td>2015</td>\n",
       "      <td>9999</td>\n",
       "      <td>Manual</td>\n",
       "      <td>7010</td>\n",
       "      <td>Diesel</td>\n",
       "      <td>1.6</td>\n",
       "    </tr>\n",
       "    <tr>\n",
       "      <th>...</th>\n",
       "      <td>...</td>\n",
       "      <td>...</td>\n",
       "      <td>...</td>\n",
       "      <td>...</td>\n",
       "      <td>...</td>\n",
       "      <td>...</td>\n",
       "      <td>...</td>\n",
       "    </tr>\n",
       "    <tr>\n",
       "      <th>5449</th>\n",
       "      <td>Focus</td>\n",
       "      <td>2019</td>\n",
       "      <td>18745</td>\n",
       "      <td>Manual</td>\n",
       "      <td>7855</td>\n",
       "      <td>Diesel</td>\n",
       "      <td>2.0</td>\n",
       "    </tr>\n",
       "    <tr>\n",
       "      <th>5450</th>\n",
       "      <td>Focus</td>\n",
       "      <td>2019</td>\n",
       "      <td>16350</td>\n",
       "      <td>Manual</td>\n",
       "      <td>13891</td>\n",
       "      <td>Petrol</td>\n",
       "      <td>1.0</td>\n",
       "    </tr>\n",
       "    <tr>\n",
       "      <th>5451</th>\n",
       "      <td>Focus</td>\n",
       "      <td>2019</td>\n",
       "      <td>16850</td>\n",
       "      <td>Manual</td>\n",
       "      <td>13452</td>\n",
       "      <td>Petrol</td>\n",
       "      <td>1.0</td>\n",
       "    </tr>\n",
       "    <tr>\n",
       "      <th>5452</th>\n",
       "      <td>Focus</td>\n",
       "      <td>2019</td>\n",
       "      <td>17310</td>\n",
       "      <td>Automatic</td>\n",
       "      <td>13376</td>\n",
       "      <td>Petrol</td>\n",
       "      <td>1.0</td>\n",
       "    </tr>\n",
       "    <tr>\n",
       "      <th>5453</th>\n",
       "      <td>Focus</td>\n",
       "      <td>2019</td>\n",
       "      <td>17610</td>\n",
       "      <td>Automatic</td>\n",
       "      <td>7886</td>\n",
       "      <td>Petrol</td>\n",
       "      <td>1.0</td>\n",
       "    </tr>\n",
       "  </tbody>\n",
       "</table>\n",
       "<p>5454 rows × 7 columns</p>\n",
       "</div>"
      ],
      "text/plain": [
       "       model  year  price transmission  mileage fuelType  engineSize\n",
       "0      Focus  2016   8000       Manual    38852   Petrol         1.0\n",
       "1      Focus  2019  13400       Manual    11952   Petrol         1.0\n",
       "2      Focus  2019  14600       Manual    22142   Petrol         1.5\n",
       "3      Focus  2016   9450       Manual    14549   Diesel         1.6\n",
       "4      Focus  2015   9999       Manual     7010   Diesel         1.6\n",
       "...      ...   ...    ...          ...      ...      ...         ...\n",
       "5449   Focus  2019  18745       Manual     7855   Diesel         2.0\n",
       "5450   Focus  2019  16350       Manual    13891   Petrol         1.0\n",
       "5451   Focus  2019  16850       Manual    13452   Petrol         1.0\n",
       "5452   Focus  2019  17310    Automatic    13376   Petrol         1.0\n",
       "5453   Focus  2019  17610    Automatic     7886   Petrol         1.0\n",
       "\n",
       "[5454 rows x 7 columns]"
      ]
     },
     "execution_count": 2,
     "metadata": {},
     "output_type": "execute_result"
    }
   ],
   "source": [
    "df = pd.read_csv('car_price_regression/focus.csv')\n",
    "df"
   ]
  },
  {
   "cell_type": "markdown",
   "metadata": {},
   "source": [
    "# Objetivo: <u>Entender</u> como as variáveis influenciam no preço de venda"
   ]
  },
  {
   "cell_type": "markdown",
   "metadata": {},
   "source": [
    "<hr />"
   ]
  },
  {
   "cell_type": "code",
   "execution_count": 3,
   "metadata": {},
   "outputs": [
    {
     "data": {
      "text/plain": [
       " Focus    5454\n",
       "Name: model, dtype: int64"
      ]
     },
     "execution_count": 3,
     "metadata": {},
     "output_type": "execute_result"
    }
   ],
   "source": [
    "df.model.value_counts(dropna=False)"
   ]
  },
  {
   "cell_type": "markdown",
   "metadata": {},
   "source": [
    " - Variável sem variabilidade: Descartada"
   ]
  },
  {
   "cell_type": "code",
   "execution_count": 4,
   "metadata": {},
   "outputs": [],
   "source": [
    "df = df.drop('model', axis=1)"
   ]
  },
  {
   "cell_type": "code",
   "execution_count": 5,
   "metadata": {},
   "outputs": [
    {
     "data": {
      "text/plain": [
       "Manual       4664\n",
       "Automatic     635\n",
       "Semi-Auto     155\n",
       "Name: transmission, dtype: int64"
      ]
     },
     "execution_count": 5,
     "metadata": {},
     "output_type": "execute_result"
    }
   ],
   "source": [
    "df.transmission.value_counts(dropna=False)"
   ]
  },
  {
   "cell_type": "code",
   "execution_count": 6,
   "metadata": {},
   "outputs": [
    {
     "data": {
      "text/plain": [
       "Petrol    3545\n",
       "Diesel    1909\n",
       "Name: fuelType, dtype: int64"
      ]
     },
     "execution_count": 6,
     "metadata": {},
     "output_type": "execute_result"
    }
   ],
   "source": [
    "df.fuelType.value_counts(dropna=False)"
   ]
  },
  {
   "cell_type": "markdown",
   "metadata": {},
   "source": [
    " - Assim como na Regressão Logística, como as variáveis não são **ordinais**, faremos um one-hot encoding para entender o impacto de **cada** categoria"
   ]
  },
  {
   "cell_type": "code",
   "execution_count": 7,
   "metadata": {},
   "outputs": [
    {
     "data": {
      "text/html": [
       "<div>\n",
       "<style scoped>\n",
       "    .dataframe tbody tr th:only-of-type {\n",
       "        vertical-align: middle;\n",
       "    }\n",
       "\n",
       "    .dataframe tbody tr th {\n",
       "        vertical-align: top;\n",
       "    }\n",
       "\n",
       "    .dataframe thead th {\n",
       "        text-align: right;\n",
       "    }\n",
       "</style>\n",
       "<table border=\"1\" class=\"dataframe\">\n",
       "  <thead>\n",
       "    <tr style=\"text-align: right;\">\n",
       "      <th></th>\n",
       "      <th>year</th>\n",
       "      <th>price</th>\n",
       "      <th>mileage</th>\n",
       "      <th>engineSize</th>\n",
       "      <th>transmission_Manual</th>\n",
       "      <th>transmission_Semi-Auto</th>\n",
       "      <th>fuelType_Petrol</th>\n",
       "    </tr>\n",
       "  </thead>\n",
       "  <tbody>\n",
       "    <tr>\n",
       "      <th>0</th>\n",
       "      <td>2016</td>\n",
       "      <td>8000</td>\n",
       "      <td>38852</td>\n",
       "      <td>1.0</td>\n",
       "      <td>1</td>\n",
       "      <td>0</td>\n",
       "      <td>1</td>\n",
       "    </tr>\n",
       "    <tr>\n",
       "      <th>1</th>\n",
       "      <td>2019</td>\n",
       "      <td>13400</td>\n",
       "      <td>11952</td>\n",
       "      <td>1.0</td>\n",
       "      <td>1</td>\n",
       "      <td>0</td>\n",
       "      <td>1</td>\n",
       "    </tr>\n",
       "    <tr>\n",
       "      <th>2</th>\n",
       "      <td>2019</td>\n",
       "      <td>14600</td>\n",
       "      <td>22142</td>\n",
       "      <td>1.5</td>\n",
       "      <td>1</td>\n",
       "      <td>0</td>\n",
       "      <td>1</td>\n",
       "    </tr>\n",
       "    <tr>\n",
       "      <th>3</th>\n",
       "      <td>2016</td>\n",
       "      <td>9450</td>\n",
       "      <td>14549</td>\n",
       "      <td>1.6</td>\n",
       "      <td>1</td>\n",
       "      <td>0</td>\n",
       "      <td>0</td>\n",
       "    </tr>\n",
       "    <tr>\n",
       "      <th>4</th>\n",
       "      <td>2015</td>\n",
       "      <td>9999</td>\n",
       "      <td>7010</td>\n",
       "      <td>1.6</td>\n",
       "      <td>1</td>\n",
       "      <td>0</td>\n",
       "      <td>0</td>\n",
       "    </tr>\n",
       "    <tr>\n",
       "      <th>...</th>\n",
       "      <td>...</td>\n",
       "      <td>...</td>\n",
       "      <td>...</td>\n",
       "      <td>...</td>\n",
       "      <td>...</td>\n",
       "      <td>...</td>\n",
       "      <td>...</td>\n",
       "    </tr>\n",
       "    <tr>\n",
       "      <th>5449</th>\n",
       "      <td>2019</td>\n",
       "      <td>18745</td>\n",
       "      <td>7855</td>\n",
       "      <td>2.0</td>\n",
       "      <td>1</td>\n",
       "      <td>0</td>\n",
       "      <td>0</td>\n",
       "    </tr>\n",
       "    <tr>\n",
       "      <th>5450</th>\n",
       "      <td>2019</td>\n",
       "      <td>16350</td>\n",
       "      <td>13891</td>\n",
       "      <td>1.0</td>\n",
       "      <td>1</td>\n",
       "      <td>0</td>\n",
       "      <td>1</td>\n",
       "    </tr>\n",
       "    <tr>\n",
       "      <th>5451</th>\n",
       "      <td>2019</td>\n",
       "      <td>16850</td>\n",
       "      <td>13452</td>\n",
       "      <td>1.0</td>\n",
       "      <td>1</td>\n",
       "      <td>0</td>\n",
       "      <td>1</td>\n",
       "    </tr>\n",
       "    <tr>\n",
       "      <th>5452</th>\n",
       "      <td>2019</td>\n",
       "      <td>17310</td>\n",
       "      <td>13376</td>\n",
       "      <td>1.0</td>\n",
       "      <td>0</td>\n",
       "      <td>0</td>\n",
       "      <td>1</td>\n",
       "    </tr>\n",
       "    <tr>\n",
       "      <th>5453</th>\n",
       "      <td>2019</td>\n",
       "      <td>17610</td>\n",
       "      <td>7886</td>\n",
       "      <td>1.0</td>\n",
       "      <td>0</td>\n",
       "      <td>0</td>\n",
       "      <td>1</td>\n",
       "    </tr>\n",
       "  </tbody>\n",
       "</table>\n",
       "<p>5454 rows × 7 columns</p>\n",
       "</div>"
      ],
      "text/plain": [
       "      year  price  mileage  engineSize  transmission_Manual  \\\n",
       "0     2016   8000    38852         1.0                    1   \n",
       "1     2019  13400    11952         1.0                    1   \n",
       "2     2019  14600    22142         1.5                    1   \n",
       "3     2016   9450    14549         1.6                    1   \n",
       "4     2015   9999     7010         1.6                    1   \n",
       "...    ...    ...      ...         ...                  ...   \n",
       "5449  2019  18745     7855         2.0                    1   \n",
       "5450  2019  16350    13891         1.0                    1   \n",
       "5451  2019  16850    13452         1.0                    1   \n",
       "5452  2019  17310    13376         1.0                    0   \n",
       "5453  2019  17610     7886         1.0                    0   \n",
       "\n",
       "      transmission_Semi-Auto  fuelType_Petrol  \n",
       "0                          0                1  \n",
       "1                          0                1  \n",
       "2                          0                1  \n",
       "3                          0                0  \n",
       "4                          0                0  \n",
       "...                      ...              ...  \n",
       "5449                       0                0  \n",
       "5450                       0                1  \n",
       "5451                       0                1  \n",
       "5452                       0                1  \n",
       "5453                       0                1  \n",
       "\n",
       "[5454 rows x 7 columns]"
      ]
     },
     "execution_count": 7,
     "metadata": {},
     "output_type": "execute_result"
    }
   ],
   "source": [
    "df_onehot = pd.get_dummies(df, drop_first=True)\n",
    "df_onehot"
   ]
  },
  {
   "cell_type": "code",
   "execution_count": 8,
   "metadata": {},
   "outputs": [],
   "source": [
    "X = df_onehot.drop('price',axis=1)\n",
    "y = df_onehot.price"
   ]
  },
  {
   "cell_type": "markdown",
   "metadata": {},
   "source": [
    "# Como é a distribuição da variável resposta?"
   ]
  },
  {
   "cell_type": "code",
   "execution_count": 9,
   "metadata": {},
   "outputs": [
    {
     "data": {
      "text/plain": [
       "(array([ 36.,  79., 100., 346., 477., 822., 828., 591., 761., 750., 405.,\n",
       "        113.,  31.,  28.,  29.,  48.,   7.,   1.,   0.,   0.,   1.,   0.,\n",
       "          0.,   0.,   0.,   0.,   0.,   0.,   0.,   1.]),\n",
       " array([  495.        ,  2311.66666667,  4128.33333333,  5945.        ,\n",
       "         7761.66666667,  9578.33333333, 11395.        , 13211.66666667,\n",
       "        15028.33333333, 16845.        , 18661.66666667, 20478.33333333,\n",
       "        22295.        , 24111.66666667, 25928.33333333, 27745.        ,\n",
       "        29561.66666667, 31378.33333333, 33195.        , 35011.66666667,\n",
       "        36828.33333333, 38645.        , 40461.66666667, 42278.33333333,\n",
       "        44095.        , 45911.66666667, 47728.33333333, 49545.        ,\n",
       "        51361.66666667, 53178.33333333, 54995.        ]),\n",
       " <BarContainer object of 30 artists>)"
      ]
     },
     "execution_count": 9,
     "metadata": {},
     "output_type": "execute_result"
    },
    {
     "data": {
      "image/png": "[encoded data removed]",
      "text/plain": [
       "<Figure size 1080x360 with 1 Axes>"
      ]
     },
     "metadata": {
      "needs_background": "light"
     },
     "output_type": "display_data"
    }
   ],
   "source": [
    "plt.figure(figsize=(15,5))\n",
    "plt.hist(y, bins=30, rwidth=.8)"
   ]
  },
  {
   "cell_type": "markdown",
   "metadata": {},
   "source": [
    "# Temos outliers!\n",
    "\n",
    "Vamos ver melhor:"
   ]
  },
  {
   "cell_type": "code",
   "execution_count": 10,
   "metadata": {},
   "outputs": [
    {
     "data": {
      "image/png": "[encoded data removed]",
      "text/plain": [
       "<Figure size 1080x360 with 1 Axes>"
      ]
     },
     "metadata": {
      "needs_background": "light"
     },
     "output_type": "display_data"
    }
   ],
   "source": [
    "plt.figure(figsize=(15,5))\n",
    "plt.hist(y, bins=30, rwidth=.8, log=True)\n",
    "plt.grid()"
   ]
  },
  {
   "cell_type": "markdown",
   "metadata": {},
   "source": [
    "# Segura essa emoção, já vamos ver o impacto disso\n",
    "\n",
    "# Agora vamos treinar o modelo"
   ]
  },
  {
   "cell_type": "code",
   "execution_count": 11,
   "metadata": {},
   "outputs": [],
   "source": [
    "from sklearn.model_selection import train_test_split\n",
    "\n",
    "X_tr, X_ts, y_tr, y_ts = train_test_split(X,y, test_size=.3, random_state=61658)"
   ]
  },
  {
   "cell_type": "code",
   "execution_count": 12,
   "metadata": {},
   "outputs": [
    {
     "data": {
      "text/plain": [
       "((3817, 6), (1637, 6))"
      ]
     },
     "execution_count": 12,
     "metadata": {},
     "output_type": "execute_result"
    }
   ],
   "source": [
    "X_tr.shape, X_ts.shape"
   ]
  },
  {
   "cell_type": "markdown",
   "metadata": {},
   "source": [
    "# As variáveis precisam estar em <u>escalas comparáveis</u>\n",
    "\n",
    " - Isso é uma \"limitação\" dos otimizadores internos da Regressão Linear\n",
    " \n",
    "Para isso, vamos **normalizar os dados**\n",
    "$$\n",
    "X_{novo} = \\frac{X - média(X)}{std(X)}\n",
    "$$\n",
    "\n",
    "Isso vai ajudar a gente a **interpretar** o modelo"
   ]
  },
  {
   "cell_type": "code",
   "execution_count": 13,
   "metadata": {},
   "outputs": [],
   "source": [
    "X_tr_s = X_tr.copy()\n",
    "X_ts_s = X_ts.copy()\n",
    "\n",
    "from sklearn.preprocessing import StandardScaler\n",
    "\n",
    "cols_to_scale = [\n",
    "    'year',\n",
    "    'mileage',\n",
    "    'engineSize',\n",
    "]\n",
    "scalers = {}\n",
    "\n",
    "for col in cols_to_scale:\n",
    "    scalers[col] = StandardScaler()\n",
    "    scalers[col].fit(X_tr_s[[col]])\n",
    "    \n",
    "    X_tr_s.loc[:,col] = scalers[col].transform(X_tr_s[[col]])\n",
    "    X_ts_s.loc[:,col] = scalers[col].transform(X_ts_s[[col]])"
   ]
  },
  {
   "cell_type": "code",
   "execution_count": 14,
   "metadata": {},
   "outputs": [
    {
     "data": {
      "text/html": [
       "<div>\n",
       "<style scoped>\n",
       "    .dataframe tbody tr th:only-of-type {\n",
       "        vertical-align: middle;\n",
       "    }\n",
       "\n",
       "    .dataframe tbody tr th {\n",
       "        vertical-align: top;\n",
       "    }\n",
       "\n",
       "    .dataframe thead th {\n",
       "        text-align: right;\n",
       "    }\n",
       "</style>\n",
       "<table border=\"1\" class=\"dataframe\">\n",
       "  <thead>\n",
       "    <tr style=\"text-align: right;\">\n",
       "      <th></th>\n",
       "      <th>year</th>\n",
       "      <th>mileage</th>\n",
       "      <th>engineSize</th>\n",
       "      <th>transmission_Manual</th>\n",
       "      <th>transmission_Semi-Auto</th>\n",
       "      <th>fuelType_Petrol</th>\n",
       "    </tr>\n",
       "  </thead>\n",
       "  <tbody>\n",
       "    <tr>\n",
       "      <th>1039</th>\n",
       "      <td>-0.955057</td>\n",
       "      <td>0.975516</td>\n",
       "      <td>0.329983</td>\n",
       "      <td>1</td>\n",
       "      <td>0</td>\n",
       "      <td>0</td>\n",
       "    </tr>\n",
       "    <tr>\n",
       "      <th>1497</th>\n",
       "      <td>-0.039459</td>\n",
       "      <td>-0.072012</td>\n",
       "      <td>1.575824</td>\n",
       "      <td>1</td>\n",
       "      <td>0</td>\n",
       "      <td>0</td>\n",
       "    </tr>\n",
       "    <tr>\n",
       "      <th>4574</th>\n",
       "      <td>-0.955057</td>\n",
       "      <td>0.350963</td>\n",
       "      <td>1.575824</td>\n",
       "      <td>1</td>\n",
       "      <td>0</td>\n",
       "      <td>1</td>\n",
       "    </tr>\n",
       "    <tr>\n",
       "      <th>2860</th>\n",
       "      <td>-0.039459</td>\n",
       "      <td>-0.564356</td>\n",
       "      <td>1.575824</td>\n",
       "      <td>1</td>\n",
       "      <td>0</td>\n",
       "      <td>1</td>\n",
       "    </tr>\n",
       "    <tr>\n",
       "      <th>1710</th>\n",
       "      <td>0.876138</td>\n",
       "      <td>-0.574894</td>\n",
       "      <td>-0.915858</td>\n",
       "      <td>0</td>\n",
       "      <td>0</td>\n",
       "      <td>1</td>\n",
       "    </tr>\n",
       "    <tr>\n",
       "      <th>...</th>\n",
       "      <td>...</td>\n",
       "      <td>...</td>\n",
       "      <td>...</td>\n",
       "      <td>...</td>\n",
       "      <td>...</td>\n",
       "      <td>...</td>\n",
       "    </tr>\n",
       "    <tr>\n",
       "      <th>483</th>\n",
       "      <td>0.876138</td>\n",
       "      <td>-0.953010</td>\n",
       "      <td>-0.915858</td>\n",
       "      <td>1</td>\n",
       "      <td>0</td>\n",
       "      <td>1</td>\n",
       "    </tr>\n",
       "    <tr>\n",
       "      <th>4184</th>\n",
       "      <td>-0.955057</td>\n",
       "      <td>2.653544</td>\n",
       "      <td>0.579151</td>\n",
       "      <td>1</td>\n",
       "      <td>0</td>\n",
       "      <td>0</td>\n",
       "    </tr>\n",
       "    <tr>\n",
       "      <th>614</th>\n",
       "      <td>0.876138</td>\n",
       "      <td>-0.780242</td>\n",
       "      <td>0.329983</td>\n",
       "      <td>1</td>\n",
       "      <td>0</td>\n",
       "      <td>1</td>\n",
       "    </tr>\n",
       "    <tr>\n",
       "      <th>3836</th>\n",
       "      <td>-0.955057</td>\n",
       "      <td>1.155003</td>\n",
       "      <td>1.575824</td>\n",
       "      <td>1</td>\n",
       "      <td>0</td>\n",
       "      <td>1</td>\n",
       "    </tr>\n",
       "    <tr>\n",
       "      <th>4604</th>\n",
       "      <td>0.418340</td>\n",
       "      <td>-0.566773</td>\n",
       "      <td>-0.915858</td>\n",
       "      <td>1</td>\n",
       "      <td>0</td>\n",
       "      <td>1</td>\n",
       "    </tr>\n",
       "  </tbody>\n",
       "</table>\n",
       "<p>3817 rows × 6 columns</p>\n",
       "</div>"
      ],
      "text/plain": [
       "          year   mileage  engineSize  transmission_Manual  \\\n",
       "1039 -0.955057  0.975516    0.329983                    1   \n",
       "1497 -0.039459 -0.072012    1.575824                    1   \n",
       "4574 -0.955057  0.350963    1.575824                    1   \n",
       "2860 -0.039459 -0.564356    1.575824                    1   \n",
       "1710  0.876138 -0.574894   -0.915858                    0   \n",
       "...        ...       ...         ...                  ...   \n",
       "483   0.876138 -0.953010   -0.915858                    1   \n",
       "4184 -0.955057  2.653544    0.579151                    1   \n",
       "614   0.876138 -0.780242    0.329983                    1   \n",
       "3836 -0.955057  1.155003    1.575824                    1   \n",
       "4604  0.418340 -0.566773   -0.915858                    1   \n",
       "\n",
       "      transmission_Semi-Auto  fuelType_Petrol  \n",
       "1039                       0                0  \n",
       "1497                       0                0  \n",
       "4574                       0                1  \n",
       "2860                       0                1  \n",
       "1710                       0                1  \n",
       "...                      ...              ...  \n",
       "483                        0                1  \n",
       "4184                       0                0  \n",
       "614                        0                1  \n",
       "3836                       0                1  \n",
       "4604                       0                1  \n",
       "\n",
       "[3817 rows x 6 columns]"
      ]
     },
     "execution_count": 14,
     "metadata": {},
     "output_type": "execute_result"
    }
   ],
   "source": [
    "X_tr_s"
   ]
  },
  {
   "cell_type": "markdown",
   "metadata": {},
   "source": [
    "# E vamos finalmente ajustar o modelo!"
   ]
  },
  {
   "cell_type": "code",
   "execution_count": 15,
   "metadata": {},
   "outputs": [
    {
     "data": {
      "text/plain": [
       "LinearRegression(n_jobs=3)"
      ]
     },
     "execution_count": 15,
     "metadata": {},
     "output_type": "execute_result"
    }
   ],
   "source": [
    "from sklearn.linear_model import LinearRegression\n",
    "\n",
    "lr = LinearRegression(\n",
    "    fit_intercept=True,\n",
    "    normalize=False,\n",
    "    n_jobs=3,\n",
    ")\n",
    "\n",
    "lr.fit(X_tr_s, y_tr)"
   ]
  },
  {
   "cell_type": "code",
   "execution_count": 16,
   "metadata": {},
   "outputs": [],
   "source": [
    "y_pred = lr.predict(X_ts_s)"
   ]
  },
  {
   "cell_type": "markdown",
   "metadata": {},
   "source": [
    "# Meu modelo está bom?"
   ]
  },
  {
   "cell_type": "markdown",
   "metadata": {},
   "source": [
    "# A métricas mais comuns em regressão são o MSE e o MAE"
   ]
  },
  {
   "cell_type": "code",
   "execution_count": 17,
   "metadata": {},
   "outputs": [
    {
     "data": {
      "text/plain": [
       "2113.5835251718368"
      ]
     },
     "execution_count": 17,
     "metadata": {},
     "output_type": "execute_result"
    }
   ],
   "source": [
    "from sklearn.metrics import mean_squared_error\n",
    "\n",
    "np.sqrt( mean_squared_error(y_ts, y_pred) )"
   ]
  },
  {
   "cell_type": "code",
   "execution_count": 18,
   "metadata": {},
   "outputs": [
    {
     "data": {
      "text/plain": [
       "1394.2238873392298"
      ]
     },
     "execution_count": 18,
     "metadata": {},
     "output_type": "execute_result"
    }
   ],
   "source": [
    "from sklearn.metrics import mean_absolute_error\n",
    "\n",
    "mean_absolute_error(y_ts, y_pred)"
   ]
  },
  {
   "cell_type": "markdown",
   "metadata": {},
   "source": [
    "# Um erro médio de 1400 dólares pra um carro não parece muito gritante, parece bem ok\n",
    "\n",
    " - Mas há uma limitação em olhar só pra média!"
   ]
  },
  {
   "cell_type": "code",
   "execution_count": 19,
   "metadata": {},
   "outputs": [
    {
     "data": {
      "image/png": "[encoded data removed]",
      "text/plain": [
       "<Figure size 1080x360 with 1 Axes>"
      ]
     },
     "metadata": {
      "needs_background": "light"
     },
     "output_type": "display_data"
    }
   ],
   "source": [
    "plt.figure(figsize=(15,5))\n",
    "\n",
    "M = y_ts.max()\n",
    "\n",
    "plt.hist(y_ts  , bins=np.linspace(0,M,20), rwidth=.8, alpha=.3, color='C0', density=True)\n",
    "plt.hist(y_pred, bins=np.linspace(0,M,20), rwidth=.8, alpha=.3, color='C3', density=True);"
   ]
  },
  {
   "cell_type": "markdown",
   "metadata": {},
   "source": [
    "# Modelo tem tendência de concentrar precificação em 15k"
   ]
  },
  {
   "cell_type": "code",
   "execution_count": 20,
   "metadata": {},
   "outputs": [
    {
     "data": {
      "text/plain": [
       "(array([  1.,   0.,   0.,   1.,   0.,   0.,   0.,   0.,   4.,   4.,  13.,\n",
       "         79., 537., 877., 121.]),\n",
       " array([-33102.76130844, -30576.45507674, -28050.14884505, -25523.84261336,\n",
       "        -22997.53638166, -20471.23014997, -17944.92391827, -15418.61768658,\n",
       "        -12892.31145489, -10366.00522319,  -7839.6989915 ,  -5313.3927598 ,\n",
       "         -2787.08652811,   -260.78029642,   2265.52593528,   4791.83216697]),\n",
       " <BarContainer object of 15 artists>)"
      ]
     },
     "execution_count": 20,
     "metadata": {},
     "output_type": "execute_result"
    },
    {
     "data": {
      "image/png": "[encoded data removed]",
      "text/plain": [
       "<Figure size 1080x360 with 1 Axes>"
      ]
     },
     "metadata": {
      "needs_background": "light"
     },
     "output_type": "display_data"
    }
   ],
   "source": [
    "plt.figure(figsize=(15,5))\n",
    "\n",
    "plt.hist(y_pred-y_ts, bins=15, rwidth=.8, density=False)"
   ]
  },
  {
   "cell_type": "code",
   "execution_count": 21,
   "metadata": {},
   "outputs": [
    {
     "data": {
      "image/png": "[encoded data removed]",
      "text/plain": [
       "<Figure size 1080x360 with 1 Axes>"
      ]
     },
     "metadata": {
      "needs_background": "light"
     },
     "output_type": "display_data"
    }
   ],
   "source": [
    "plt.figure(figsize=(15,5))\n",
    "\n",
    "plt.hist(y_pred-y_ts, bins=15, rwidth=.8, density=False, log=True)\n",
    "plt.grid()"
   ]
  },
  {
   "cell_type": "markdown",
   "metadata": {},
   "source": [
    "# Viu o efeito daquele nosso outlier?"
   ]
  },
  {
   "cell_type": "markdown",
   "metadata": {},
   "source": [
    "<hr />"
   ]
  },
  {
   "cell_type": "markdown",
   "metadata": {},
   "source": [
    "# Ok, mas como interpretar?"
   ]
  },
  {
   "cell_type": "code",
   "execution_count": 22,
   "metadata": {},
   "outputs": [
    {
     "data": {
      "text/plain": [
       "12787.799519157741"
      ]
     },
     "execution_count": 22,
     "metadata": {},
     "output_type": "execute_result"
    }
   ],
   "source": [
    "lr.intercept_"
   ]
  },
  {
   "cell_type": "code",
   "execution_count": 23,
   "metadata": {},
   "outputs": [
    {
     "data": {
      "text/plain": [
       "array([ 2879.4927325 , -1248.99540827,  2436.37404227,  -843.14949219,\n",
       "       -1882.46855829,  2351.52658558])"
      ]
     },
     "execution_count": 23,
     "metadata": {},
     "output_type": "execute_result"
    }
   ],
   "source": [
    "lr.coef_"
   ]
  },
  {
   "cell_type": "code",
   "execution_count": 24,
   "metadata": {},
   "outputs": [
    {
     "name": "stdout",
     "output_type": "stream",
     "text": [
      "year                                               : 2879.493\n",
      "mileage                                            : -1248.995\n",
      "engineSize                                         : 2436.374\n",
      "transmission_Manual                                : -843.149\n",
      "transmission_Semi-Auto                             : -1882.469\n",
      "fuelType_Petrol                                    : 2351.527\n"
     ]
    }
   ],
   "source": [
    "for col,coef in zip(X_tr.columns, lr.coef_):\n",
    "    print(f'{col:50s} : {coef:7.3f}')"
   ]
  },
  {
   "cell_type": "markdown",
   "metadata": {},
   "source": [
    "# A equação do preço é:\n",
    "\n",
    "$$\n",
    "y = \\beta_0 + \\beta_{ano} \\cdot ano + \\beta_{mileage} \\cdot mileage + \\beta_{engineSize} \\cdot engineSize + \\beta_{Trans.Manual} \\cdot Trans.Manual + \\beta_{Trans.Semi} \\cdot Trans.Semi + \\beta_{fuel.Petrol} \\cdot fuel.Petrol\n",
    "$$"
   ]
  },
  {
   "cell_type": "markdown",
   "metadata": {},
   "source": [
    "# Ok, mas o que significa esse $\\beta_0$?"
   ]
  },
  {
   "cell_type": "markdown",
   "metadata": {},
   "source": [
    "Carro com todas variáveis zeradas!\n",
    " - Lembre-se da normalização\n",
    " - E do one-hot!\n",
    "   - câmbio automático\n",
    "   - combustível diesel"
   ]
  },
  {
   "cell_type": "markdown",
   "metadata": {},
   "source": [
    "# Como é o \"carro padrão\"?"
   ]
  },
  {
   "cell_type": "code",
   "execution_count": 25,
   "metadata": {},
   "outputs": [
    {
     "name": "stdout",
     "output_type": "stream",
     "text": [
      "year  [2017.08619335] [2.18436596]\n",
      "mileage  [23106.70605187] [20686.78450964]\n",
      "engineSize  [1.36756615] [0.40133543]\n"
     ]
    }
   ],
   "source": [
    "print( 'year ', scalers['year'].mean_, scalers['year'].scale_ )\n",
    "print( 'mileage ', scalers['mileage'].mean_, scalers['mileage'].scale_ )\n",
    "print( 'engineSize ', scalers['engineSize'].mean_, scalers['engineSize'].scale_ )"
   ]
  },
  {
   "cell_type": "markdown",
   "metadata": {},
   "source": [
    "# O carro padrão é:\n",
    "\n",
    " - Um carro de **$2017$**\n",
    " \n",
    " - Com **$23106$ milhas rodadas**\n",
    " \n",
    " - Com tamanho de motor de **$1.367$**\n",
    " \n",
    " - Câmbio **automático**\n",
    " \n",
    " - Combustível a **diesel**\n",
    " \n",
    " \n",
    "E este carro, segundo o modelo, custa **$12788$**"
   ]
  },
  {
   "cell_type": "markdown",
   "metadata": {},
   "source": [
    "# Interpretação sobre o impacto da variável `mileage`:"
   ]
  },
  {
   "cell_type": "code",
   "execution_count": 26,
   "metadata": {},
   "outputs": [
    {
     "data": {
      "text/plain": [
       "(array([23106.70605187]), array([20686.78450964]))"
      ]
     },
     "execution_count": 26,
     "metadata": {},
     "output_type": "execute_result"
    }
   ],
   "source": [
    "scalers['mileage'].mean_, scalers['mileage'].scale_"
   ]
  },
  {
   "cell_type": "markdown",
   "metadata": {},
   "source": [
    " - Um carro com milhagem de <u>exatamente</u> $23106$ não sofre impacto dessa variável\n",
    " \n",
    " \n",
    " - Carros com milhagens **menores** que esse valor tem a predição do preço **aumentada**\n",
    "   - A cada 20_686 milhas, o carro encarece $1248$\n",
    "   \n",
    "   \n",
    " - Carros com milhagens **maiores** que esse valor tem a predição do preço **reduzida**\n",
    "   - A cada 20_686 milhas, o carro barateia $1248$"
   ]
  },
  {
   "cell_type": "markdown",
   "metadata": {},
   "source": [
    "# Interpretação sobre a variável `transmission`"
   ]
  },
  {
   "cell_type": "markdown",
   "metadata": {},
   "source": [
    "### Repetindo as variáveis, pra facilitar"
   ]
  },
  {
   "cell_type": "code",
   "execution_count": 27,
   "metadata": {},
   "outputs": [
    {
     "name": "stdout",
     "output_type": "stream",
     "text": [
      "year                                               : 2879.493\n",
      "mileage                                            : -1248.995\n",
      "engineSize                                         : 2436.374\n",
      "transmission_Manual                                : -843.149\n",
      "transmission_Semi-Auto                             : -1882.469\n",
      "fuelType_Petrol                                    : 2351.527\n"
     ]
    }
   ],
   "source": [
    "for col,coef in zip(X_tr.columns, lr.coef_):\n",
    "    print(f'{col:50s} : {coef:7.3f}')"
   ]
  },
  {
   "cell_type": "markdown",
   "metadata": {},
   "source": [
    " - Carros automáticos não sofrem alteração no preço (isso está embutido no interceto - \"Carro padrão\")\n",
    " \n",
    " - Carros semi-automáticos têm uma redução da predição de $1882$\n",
    " \n",
    " - Carros manuais têm uma redução da predição de $843$"
   ]
  },
  {
   "cell_type": "markdown",
   "metadata": {},
   "source": [
    "# Vamos ver com uma lupa aquele OutLier?"
   ]
  },
  {
   "cell_type": "code",
   "execution_count": 28,
   "metadata": {},
   "outputs": [
    {
     "data": {
      "text/plain": [
       "(array([4.25213481e-06, 9.99251680e-06, 2.27489212e-05, 4.40095953e-05,\n",
       "        1.09067258e-04, 1.05665550e-04, 3.78439998e-05, 6.37820221e-06,\n",
       "        5.52777525e-06, 0.00000000e+00, 0.00000000e+00, 0.00000000e+00,\n",
       "        0.00000000e+00, 0.00000000e+00, 0.00000000e+00, 0.00000000e+00,\n",
       "        0.00000000e+00, 0.00000000e+00, 0.00000000e+00]),\n",
       " array([    0.        ,  2894.47368421,  5788.94736842,  8683.42105263,\n",
       "        11577.89473684, 14472.36842105, 17366.84210526, 20261.31578947,\n",
       "        23155.78947368, 26050.26315789, 28944.73684211, 31839.21052632,\n",
       "        34733.68421053, 37628.15789474, 40522.63157895, 43417.10526316,\n",
       "        46311.57894737, 49206.05263158, 52100.52631579, 54995.        ]),\n",
       " <BarContainer object of 19 artists>)"
      ]
     },
     "execution_count": 28,
     "metadata": {},
     "output_type": "execute_result"
    },
    {
     "data": {
      "image/png": "[encoded data removed]",
      "text/plain": [
       "<Figure size 1080x360 with 1 Axes>"
      ]
     },
     "metadata": {
      "needs_background": "light"
     },
     "output_type": "display_data"
    }
   ],
   "source": [
    "plt.figure(figsize=(15,5))\n",
    "\n",
    "M = y_ts.max()\n",
    "\n",
    "plt.hist(y_ts  , bins=np.linspace(0,M,20), rwidth=.8, alpha=.3, color='C0', density=True, log=True)\n",
    "plt.hist(y_pred, bins=np.linspace(0,M,20), rwidth=.8, alpha=.3, color='C3', density=True, log=True)\n",
    "\n",
    "# plt.grid()"
   ]
  },
  {
   "cell_type": "markdown",
   "metadata": {},
   "source": [
    "### Lembrando do carro padrão:\n",
    " \n",
    " - Um carro de **$2017$**\n",
    " \n",
    " - Com **$23106$ milhas rodadas**\n",
    " \n",
    " - Com tamanho de motor de **$1.367$**\n",
    " \n",
    " - Câmbio **automático**\n",
    " \n",
    " - Combustível a **diesel**\n",
    " \n",
    " \n",
    "E este carro, segundo o modelo, custa **$12788$**"
   ]
  },
  {
   "cell_type": "code",
   "execution_count": 29,
   "metadata": {},
   "outputs": [
    {
     "data": {
      "text/plain": [
       "3342    54995\n",
       "Name: price, dtype: int64"
      ]
     },
     "execution_count": 29,
     "metadata": {},
     "output_type": "execute_result"
    }
   ],
   "source": [
    "y_ts[ y_ts>50_000 ]"
   ]
  },
  {
   "cell_type": "code",
   "execution_count": 30,
   "metadata": {},
   "outputs": [
    {
     "data": {
      "text/html": [
       "<div>\n",
       "<style scoped>\n",
       "    .dataframe tbody tr th:only-of-type {\n",
       "        vertical-align: middle;\n",
       "    }\n",
       "\n",
       "    .dataframe tbody tr th {\n",
       "        vertical-align: top;\n",
       "    }\n",
       "\n",
       "    .dataframe thead th {\n",
       "        text-align: right;\n",
       "    }\n",
       "</style>\n",
       "<table border=\"1\" class=\"dataframe\">\n",
       "  <thead>\n",
       "    <tr style=\"text-align: right;\">\n",
       "      <th></th>\n",
       "      <th>year</th>\n",
       "      <th>mileage</th>\n",
       "      <th>engineSize</th>\n",
       "      <th>transmission_Manual</th>\n",
       "      <th>transmission_Semi-Auto</th>\n",
       "      <th>fuelType_Petrol</th>\n",
       "    </tr>\n",
       "  </thead>\n",
       "  <tbody>\n",
       "    <tr>\n",
       "      <th>3342</th>\n",
       "      <td>2018</td>\n",
       "      <td>11000</td>\n",
       "      <td>2.3</td>\n",
       "      <td>1</td>\n",
       "      <td>0</td>\n",
       "      <td>1</td>\n",
       "    </tr>\n",
       "  </tbody>\n",
       "</table>\n",
       "</div>"
      ],
      "text/plain": [
       "      year  mileage  engineSize  transmission_Manual  transmission_Semi-Auto  \\\n",
       "3342  2018    11000         2.3                    1                       0   \n",
       "\n",
       "      fuelType_Petrol  \n",
       "3342                1  "
      ]
     },
     "execution_count": 30,
     "metadata": {},
     "output_type": "execute_result"
    }
   ],
   "source": [
    "X_ts.loc[ y_ts>50_000 ]"
   ]
  },
  {
   "cell_type": "code",
   "execution_count": 31,
   "metadata": {},
   "outputs": [
    {
     "data": {
      "text/plain": [
       "array([21892.23869156])"
      ]
     },
     "execution_count": 31,
     "metadata": {},
     "output_type": "execute_result"
    }
   ],
   "source": [
    "y_pred[y_ts>50_000]"
   ]
  },
  {
   "cell_type": "markdown",
   "metadata": {},
   "source": [
    "# É realmente um carro em bom estado. A base, aparentemente, não nos fornece mais informações pra justificar essa venda tão discrepante!"
   ]
  },
  {
   "cell_type": "code",
   "execution_count": 32,
   "metadata": {},
   "outputs": [
    {
     "name": "stdout",
     "output_type": "stream",
     "text": [
      "/home/rafael/OneDrive/Projeto  Rafael/Produtos/Curso ML Descomplicado/Modulo 4 - Regressao/material de apoio/Regressao Linear pratica\r\n"
     ]
    }
   ],
   "source": [
    "!pwd"
   ]
  }
 ],
 "metadata": {
  "kernelspec": {
   "display_name": "Python 3",
   "language": "python",
   "name": "python3"
  },
  "language_info": {
   "codemirror_mode": {
    "name": "ipython",
    "version": 3
   },
   "file_extension": ".py",
   "mimetype": "text/x-python",
   "name": "python",
   "nbconvert_exporter": "python",
   "pygments_lexer": "ipython3",
   "version": "3.8.5"
  }
 },
 "nbformat": 4,
 "nbformat_minor": 5
}
