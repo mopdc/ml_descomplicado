{
 "cells": [
  {
   "cell_type": "code",
   "execution_count": 1,
   "metadata": {},
   "outputs": [],
   "source": [
    "import pandas as pd\n",
    "import numpy as np\n",
    "import matplotlib.pyplot as plt"
   ]
  },
  {
   "cell_type": "code",
   "execution_count": 9,
   "metadata": {},
   "outputs": [
    {
     "name": "stdout",
     "output_type": "stream",
     "text": [
      " archive.zip   cclass.csv   hyundi.csv\t toyota.csv\t       Untitled.ipynb\r\n",
      " audi.csv      focus.csv    merc.csv\t'unclean cclass.csv'   vauxhall.csv\r\n",
      " bmw.csv       ford.csv     skoda.csv\t'unclean focus.csv'    vw.csv\r\n"
     ]
    }
   ],
   "source": [
    "!ls ./dados"
   ]
  },
  {
   "cell_type": "code",
   "execution_count": 2,
   "metadata": {},
   "outputs": [
    {
     "data": {
      "text/html": [
       "<div>\n",
       "<style scoped>\n",
       "    .dataframe tbody tr th:only-of-type {\n",
       "        vertical-align: middle;\n",
       "    }\n",
       "\n",
       "    .dataframe tbody tr th {\n",
       "        vertical-align: top;\n",
       "    }\n",
       "\n",
       "    .dataframe thead th {\n",
       "        text-align: right;\n",
       "    }\n",
       "</style>\n",
       "<table border=\"1\" class=\"dataframe\">\n",
       "  <thead>\n",
       "    <tr style=\"text-align: right;\">\n",
       "      <th></th>\n",
       "      <th>model</th>\n",
       "      <th>year</th>\n",
       "      <th>price</th>\n",
       "      <th>transmission</th>\n",
       "      <th>mileage</th>\n",
       "      <th>fuelType</th>\n",
       "      <th>engineSize</th>\n",
       "    </tr>\n",
       "  </thead>\n",
       "  <tbody>\n",
       "    <tr>\n",
       "      <th>0</th>\n",
       "      <td>Focus</td>\n",
       "      <td>2016</td>\n",
       "      <td>8000</td>\n",
       "      <td>Manual</td>\n",
       "      <td>38852</td>\n",
       "      <td>Petrol</td>\n",
       "      <td>1.0</td>\n",
       "    </tr>\n",
       "    <tr>\n",
       "      <th>1</th>\n",
       "      <td>Focus</td>\n",
       "      <td>2019</td>\n",
       "      <td>13400</td>\n",
       "      <td>Manual</td>\n",
       "      <td>11952</td>\n",
       "      <td>Petrol</td>\n",
       "      <td>1.0</td>\n",
       "    </tr>\n",
       "    <tr>\n",
       "      <th>2</th>\n",
       "      <td>Focus</td>\n",
       "      <td>2019</td>\n",
       "      <td>14600</td>\n",
       "      <td>Manual</td>\n",
       "      <td>22142</td>\n",
       "      <td>Petrol</td>\n",
       "      <td>1.5</td>\n",
       "    </tr>\n",
       "    <tr>\n",
       "      <th>3</th>\n",
       "      <td>Focus</td>\n",
       "      <td>2016</td>\n",
       "      <td>9450</td>\n",
       "      <td>Manual</td>\n",
       "      <td>14549</td>\n",
       "      <td>Diesel</td>\n",
       "      <td>1.6</td>\n",
       "    </tr>\n",
       "    <tr>\n",
       "      <th>4</th>\n",
       "      <td>Focus</td>\n",
       "      <td>2015</td>\n",
       "      <td>9999</td>\n",
       "      <td>Manual</td>\n",
       "      <td>7010</td>\n",
       "      <td>Diesel</td>\n",
       "      <td>1.6</td>\n",
       "    </tr>\n",
       "    <tr>\n",
       "      <th>...</th>\n",
       "      <td>...</td>\n",
       "      <td>...</td>\n",
       "      <td>...</td>\n",
       "      <td>...</td>\n",
       "      <td>...</td>\n",
       "      <td>...</td>\n",
       "      <td>...</td>\n",
       "    </tr>\n",
       "    <tr>\n",
       "      <th>5449</th>\n",
       "      <td>Focus</td>\n",
       "      <td>2019</td>\n",
       "      <td>18745</td>\n",
       "      <td>Manual</td>\n",
       "      <td>7855</td>\n",
       "      <td>Diesel</td>\n",
       "      <td>2.0</td>\n",
       "    </tr>\n",
       "    <tr>\n",
       "      <th>5450</th>\n",
       "      <td>Focus</td>\n",
       "      <td>2019</td>\n",
       "      <td>16350</td>\n",
       "      <td>Manual</td>\n",
       "      <td>13891</td>\n",
       "      <td>Petrol</td>\n",
       "      <td>1.0</td>\n",
       "    </tr>\n",
       "    <tr>\n",
       "      <th>5451</th>\n",
       "      <td>Focus</td>\n",
       "      <td>2019</td>\n",
       "      <td>16850</td>\n",
       "      <td>Manual</td>\n",
       "      <td>13452</td>\n",
       "      <td>Petrol</td>\n",
       "      <td>1.0</td>\n",
       "    </tr>\n",
       "    <tr>\n",
       "      <th>5452</th>\n",
       "      <td>Focus</td>\n",
       "      <td>2019</td>\n",
       "      <td>17310</td>\n",
       "      <td>Automatic</td>\n",
       "      <td>13376</td>\n",
       "      <td>Petrol</td>\n",
       "      <td>1.0</td>\n",
       "    </tr>\n",
       "    <tr>\n",
       "      <th>5453</th>\n",
       "      <td>Focus</td>\n",
       "      <td>2019</td>\n",
       "      <td>17610</td>\n",
       "      <td>Automatic</td>\n",
       "      <td>7886</td>\n",
       "      <td>Petrol</td>\n",
       "      <td>1.0</td>\n",
       "    </tr>\n",
       "  </tbody>\n",
       "</table>\n",
       "<p>5454 rows × 7 columns</p>\n",
       "</div>"
      ],
      "text/plain": [
       "       model  year  price transmission  mileage fuelType  engineSize\n",
       "0      Focus  2016   8000       Manual    38852   Petrol         1.0\n",
       "1      Focus  2019  13400       Manual    11952   Petrol         1.0\n",
       "2      Focus  2019  14600       Manual    22142   Petrol         1.5\n",
       "3      Focus  2016   9450       Manual    14549   Diesel         1.6\n",
       "4      Focus  2015   9999       Manual     7010   Diesel         1.6\n",
       "...      ...   ...    ...          ...      ...      ...         ...\n",
       "5449   Focus  2019  18745       Manual     7855   Diesel         2.0\n",
       "5450   Focus  2019  16350       Manual    13891   Petrol         1.0\n",
       "5451   Focus  2019  16850       Manual    13452   Petrol         1.0\n",
       "5452   Focus  2019  17310    Automatic    13376   Petrol         1.0\n",
       "5453   Focus  2019  17610    Automatic     7886   Petrol         1.0\n",
       "\n",
       "[5454 rows x 7 columns]"
      ]
     },
     "execution_count": 2,
     "metadata": {},
     "output_type": "execute_result"
    }
   ],
   "source": [
    "df = pd.read_csv(\"./dados/focus.csv\")\n",
    "df"
   ]
  },
  {
   "cell_type": "code",
   "execution_count": 4,
   "metadata": {},
   "outputs": [
    {
     "data": {
      "text/plain": [
       "[<matplotlib.lines.Line2D at 0x7fe8127f9550>]"
      ]
     },
     "execution_count": 4,
     "metadata": {},
     "output_type": "execute_result"
    },
    {
     "data": {
      "image/png": "[encoded data removed]",
      "text/plain": [
       "<Figure size 1080x360 with 1 Axes>"
      ]
     },
     "metadata": {
      "needs_background": "light"
     },
     "output_type": "display_data"
    }
   ],
   "source": [
    "plt.figure(figsize=(15,5))\n",
    "plt.plot(df.mileage, df.price, '.')"
   ]
  },
  {
   "cell_type": "code",
   "execution_count": 5,
   "metadata": {},
   "outputs": [
    {
     "data": {
      "text/plain": [
       "[<matplotlib.lines.Line2D at 0x7fe812586d90>]"
      ]
     },
     "execution_count": 5,
     "metadata": {},
     "output_type": "execute_result"
    },
    {
     "data": {
      "image/png": "[encoded data removed]",
      "text/plain": [
       "<Figure size 1080x360 with 1 Axes>"
      ]
     },
     "metadata": {
      "needs_background": "light"
     },
     "output_type": "display_data"
    }
   ],
   "source": [
    "plt.figure(figsize=(15,5))\n",
    "plt.plot(df.mileage, df.price, '.')\n",
    "plt.plot(df.loc[df.transmission==\"Manual\"].mileage, df.loc[df.transmission==\"Manual\"].price, 'r.')"
   ]
  },
  {
   "cell_type": "code",
   "execution_count": 6,
   "metadata": {},
   "outputs": [
    {
     "data": {
      "text/plain": [
       "[<matplotlib.lines.Line2D at 0x7fe812848f40>]"
      ]
     },
     "execution_count": 6,
     "metadata": {},
     "output_type": "execute_result"
    },
    {
     "data": {
      "image/png": "[encoded data removed]",
      "text/plain": [
       "<Figure size 1080x360 with 1 Axes>"
      ]
     },
     "metadata": {
      "needs_background": "light"
     },
     "output_type": "display_data"
    }
   ],
   "source": [
    "plt.figure(figsize=(15,5))\n",
    "plt.plot(df.mileage, df.price, '.')\n",
    "plt.plot(df.loc[df.year==2016].mileage, df.loc[df.year==2016].price, 'r.')"
   ]
  },
  {
   "cell_type": "markdown",
   "metadata": {},
   "source": [
    "## Objetivo: Entender como as variáveis influenciam no preço de venda"
   ]
  },
  {
   "cell_type": "markdown",
   "metadata": {},
   "source": [
    "Vamos olhar mais profundamente as nossas variáveis"
   ]
  },
  {
   "cell_type": "code",
   "execution_count": 7,
   "metadata": {},
   "outputs": [
    {
     "data": {
      "text/html": [
       "<div>\n",
       "<style scoped>\n",
       "    .dataframe tbody tr th:only-of-type {\n",
       "        vertical-align: middle;\n",
       "    }\n",
       "\n",
       "    .dataframe tbody tr th {\n",
       "        vertical-align: top;\n",
       "    }\n",
       "\n",
       "    .dataframe thead th {\n",
       "        text-align: right;\n",
       "    }\n",
       "</style>\n",
       "<table border=\"1\" class=\"dataframe\">\n",
       "  <thead>\n",
       "    <tr style=\"text-align: right;\">\n",
       "      <th></th>\n",
       "      <th>model</th>\n",
       "      <th>year</th>\n",
       "      <th>price</th>\n",
       "      <th>transmission</th>\n",
       "      <th>mileage</th>\n",
       "      <th>fuelType</th>\n",
       "      <th>engineSize</th>\n",
       "    </tr>\n",
       "  </thead>\n",
       "  <tbody>\n",
       "    <tr>\n",
       "      <th>0</th>\n",
       "      <td>Focus</td>\n",
       "      <td>2016</td>\n",
       "      <td>8000</td>\n",
       "      <td>Manual</td>\n",
       "      <td>38852</td>\n",
       "      <td>Petrol</td>\n",
       "      <td>1.0</td>\n",
       "    </tr>\n",
       "    <tr>\n",
       "      <th>1</th>\n",
       "      <td>Focus</td>\n",
       "      <td>2019</td>\n",
       "      <td>13400</td>\n",
       "      <td>Manual</td>\n",
       "      <td>11952</td>\n",
       "      <td>Petrol</td>\n",
       "      <td>1.0</td>\n",
       "    </tr>\n",
       "    <tr>\n",
       "      <th>2</th>\n",
       "      <td>Focus</td>\n",
       "      <td>2019</td>\n",
       "      <td>14600</td>\n",
       "      <td>Manual</td>\n",
       "      <td>22142</td>\n",
       "      <td>Petrol</td>\n",
       "      <td>1.5</td>\n",
       "    </tr>\n",
       "    <tr>\n",
       "      <th>3</th>\n",
       "      <td>Focus</td>\n",
       "      <td>2016</td>\n",
       "      <td>9450</td>\n",
       "      <td>Manual</td>\n",
       "      <td>14549</td>\n",
       "      <td>Diesel</td>\n",
       "      <td>1.6</td>\n",
       "    </tr>\n",
       "    <tr>\n",
       "      <th>4</th>\n",
       "      <td>Focus</td>\n",
       "      <td>2015</td>\n",
       "      <td>9999</td>\n",
       "      <td>Manual</td>\n",
       "      <td>7010</td>\n",
       "      <td>Diesel</td>\n",
       "      <td>1.6</td>\n",
       "    </tr>\n",
       "  </tbody>\n",
       "</table>\n",
       "</div>"
      ],
      "text/plain": [
       "    model  year  price transmission  mileage fuelType  engineSize\n",
       "0   Focus  2016   8000       Manual    38852   Petrol         1.0\n",
       "1   Focus  2019  13400       Manual    11952   Petrol         1.0\n",
       "2   Focus  2019  14600       Manual    22142   Petrol         1.5\n",
       "3   Focus  2016   9450       Manual    14549   Diesel         1.6\n",
       "4   Focus  2015   9999       Manual     7010   Diesel         1.6"
      ]
     },
     "execution_count": 7,
     "metadata": {},
     "output_type": "execute_result"
    }
   ],
   "source": [
    "df.head()"
   ]
  },
  {
   "cell_type": "code",
   "execution_count": 8,
   "metadata": {},
   "outputs": [
    {
     "data": {
      "text/plain": [
       " Focus    5454\n",
       "Name: model, dtype: int64"
      ]
     },
     "execution_count": 8,
     "metadata": {},
     "output_type": "execute_result"
    }
   ],
   "source": [
    "df[\"model\"].value_counts(dropna=False)"
   ]
  },
  {
   "cell_type": "markdown",
   "metadata": {},
   "source": [
    "#### Como essa variável não \"varia\", é sempre o mesmo valor= \"FOCUS\", vamos retirá-la da base"
   ]
  },
  {
   "cell_type": "code",
   "execution_count": 10,
   "metadata": {},
   "outputs": [],
   "source": [
    "df = df.drop(columns=\"model\", axis=1)"
   ]
  },
  {
   "cell_type": "code",
   "execution_count": 11,
   "metadata": {},
   "outputs": [
    {
     "data": {
      "text/html": [
       "<div>\n",
       "<style scoped>\n",
       "    .dataframe tbody tr th:only-of-type {\n",
       "        vertical-align: middle;\n",
       "    }\n",
       "\n",
       "    .dataframe tbody tr th {\n",
       "        vertical-align: top;\n",
       "    }\n",
       "\n",
       "    .dataframe thead th {\n",
       "        text-align: right;\n",
       "    }\n",
       "</style>\n",
       "<table border=\"1\" class=\"dataframe\">\n",
       "  <thead>\n",
       "    <tr style=\"text-align: right;\">\n",
       "      <th></th>\n",
       "      <th>year</th>\n",
       "      <th>price</th>\n",
       "      <th>transmission</th>\n",
       "      <th>mileage</th>\n",
       "      <th>fuelType</th>\n",
       "      <th>engineSize</th>\n",
       "    </tr>\n",
       "  </thead>\n",
       "  <tbody>\n",
       "    <tr>\n",
       "      <th>0</th>\n",
       "      <td>2016</td>\n",
       "      <td>8000</td>\n",
       "      <td>Manual</td>\n",
       "      <td>38852</td>\n",
       "      <td>Petrol</td>\n",
       "      <td>1.0</td>\n",
       "    </tr>\n",
       "    <tr>\n",
       "      <th>1</th>\n",
       "      <td>2019</td>\n",
       "      <td>13400</td>\n",
       "      <td>Manual</td>\n",
       "      <td>11952</td>\n",
       "      <td>Petrol</td>\n",
       "      <td>1.0</td>\n",
       "    </tr>\n",
       "    <tr>\n",
       "      <th>2</th>\n",
       "      <td>2019</td>\n",
       "      <td>14600</td>\n",
       "      <td>Manual</td>\n",
       "      <td>22142</td>\n",
       "      <td>Petrol</td>\n",
       "      <td>1.5</td>\n",
       "    </tr>\n",
       "    <tr>\n",
       "      <th>3</th>\n",
       "      <td>2016</td>\n",
       "      <td>9450</td>\n",
       "      <td>Manual</td>\n",
       "      <td>14549</td>\n",
       "      <td>Diesel</td>\n",
       "      <td>1.6</td>\n",
       "    </tr>\n",
       "    <tr>\n",
       "      <th>4</th>\n",
       "      <td>2015</td>\n",
       "      <td>9999</td>\n",
       "      <td>Manual</td>\n",
       "      <td>7010</td>\n",
       "      <td>Diesel</td>\n",
       "      <td>1.6</td>\n",
       "    </tr>\n",
       "    <tr>\n",
       "      <th>...</th>\n",
       "      <td>...</td>\n",
       "      <td>...</td>\n",
       "      <td>...</td>\n",
       "      <td>...</td>\n",
       "      <td>...</td>\n",
       "      <td>...</td>\n",
       "    </tr>\n",
       "    <tr>\n",
       "      <th>5449</th>\n",
       "      <td>2019</td>\n",
       "      <td>18745</td>\n",
       "      <td>Manual</td>\n",
       "      <td>7855</td>\n",
       "      <td>Diesel</td>\n",
       "      <td>2.0</td>\n",
       "    </tr>\n",
       "    <tr>\n",
       "      <th>5450</th>\n",
       "      <td>2019</td>\n",
       "      <td>16350</td>\n",
       "      <td>Manual</td>\n",
       "      <td>13891</td>\n",
       "      <td>Petrol</td>\n",
       "      <td>1.0</td>\n",
       "    </tr>\n",
       "    <tr>\n",
       "      <th>5451</th>\n",
       "      <td>2019</td>\n",
       "      <td>16850</td>\n",
       "      <td>Manual</td>\n",
       "      <td>13452</td>\n",
       "      <td>Petrol</td>\n",
       "      <td>1.0</td>\n",
       "    </tr>\n",
       "    <tr>\n",
       "      <th>5452</th>\n",
       "      <td>2019</td>\n",
       "      <td>17310</td>\n",
       "      <td>Automatic</td>\n",
       "      <td>13376</td>\n",
       "      <td>Petrol</td>\n",
       "      <td>1.0</td>\n",
       "    </tr>\n",
       "    <tr>\n",
       "      <th>5453</th>\n",
       "      <td>2019</td>\n",
       "      <td>17610</td>\n",
       "      <td>Automatic</td>\n",
       "      <td>7886</td>\n",
       "      <td>Petrol</td>\n",
       "      <td>1.0</td>\n",
       "    </tr>\n",
       "  </tbody>\n",
       "</table>\n",
       "<p>5454 rows × 6 columns</p>\n",
       "</div>"
      ],
      "text/plain": [
       "      year  price transmission  mileage fuelType  engineSize\n",
       "0     2016   8000       Manual    38852   Petrol         1.0\n",
       "1     2019  13400       Manual    11952   Petrol         1.0\n",
       "2     2019  14600       Manual    22142   Petrol         1.5\n",
       "3     2016   9450       Manual    14549   Diesel         1.6\n",
       "4     2015   9999       Manual     7010   Diesel         1.6\n",
       "...    ...    ...          ...      ...      ...         ...\n",
       "5449  2019  18745       Manual     7855   Diesel         2.0\n",
       "5450  2019  16350       Manual    13891   Petrol         1.0\n",
       "5451  2019  16850       Manual    13452   Petrol         1.0\n",
       "5452  2019  17310    Automatic    13376   Petrol         1.0\n",
       "5453  2019  17610    Automatic     7886   Petrol         1.0\n",
       "\n",
       "[5454 rows x 6 columns]"
      ]
     },
     "execution_count": 11,
     "metadata": {},
     "output_type": "execute_result"
    }
   ],
   "source": [
    "df"
   ]
  },
  {
   "cell_type": "code",
   "execution_count": 12,
   "metadata": {},
   "outputs": [
    {
     "data": {
      "text/plain": [
       "Manual       4664\n",
       "Automatic     635\n",
       "Semi-Auto     155\n",
       "Name: transmission, dtype: int64"
      ]
     },
     "execution_count": 12,
     "metadata": {},
     "output_type": "execute_result"
    }
   ],
   "source": [
    "df[\"transmission\"].value_counts(dropna=False)"
   ]
  },
  {
   "cell_type": "code",
   "execution_count": 13,
   "metadata": {},
   "outputs": [
    {
     "data": {
      "text/plain": [
       "Petrol    3545\n",
       "Diesel    1909\n",
       "Name: fuelType, dtype: int64"
      ]
     },
     "execution_count": 13,
     "metadata": {},
     "output_type": "execute_result"
    }
   ],
   "source": [
    "df[\"fuelType\"].value_counts(dropna=False)"
   ]
  },
  {
   "cell_type": "code",
   "execution_count": 14,
   "metadata": {},
   "outputs": [
    {
     "data": {
      "text/plain": [
       "11000    74\n",
       "16000    67\n",
       "13000    51\n",
       "12000    50\n",
       "18500    47\n",
       "         ..\n",
       "10887     1\n",
       "14985     1\n",
       "10891     1\n",
       "12940     1\n",
       "12290     1\n",
       "Name: price, Length: 1742, dtype: int64"
      ]
     },
     "execution_count": 14,
     "metadata": {},
     "output_type": "execute_result"
    }
   ],
   "source": [
    "df[\"price\"].value_counts(dropna=False)"
   ]
  },
  {
   "cell_type": "markdown",
   "metadata": {},
   "source": [
    "## Vamos preparar as variáveis:\n",
    "\n",
    "Nossa base é mais simples, então vamos utilizar:: One hot encoder"
   ]
  },
  {
   "cell_type": "code",
   "execution_count": 16,
   "metadata": {},
   "outputs": [
    {
     "data": {
      "text/plain": [
       "year              int64\n",
       "price             int64\n",
       "transmission     object\n",
       "mileage           int64\n",
       "fuelType         object\n",
       "engineSize      float64\n",
       "dtype: object"
      ]
     },
     "execution_count": 16,
     "metadata": {},
     "output_type": "execute_result"
    }
   ],
   "source": [
    "df.dtypes"
   ]
  },
  {
   "cell_type": "code",
   "execution_count": 18,
   "metadata": {},
   "outputs": [
    {
     "data": {
      "text/html": [
       "<div>\n",
       "<style scoped>\n",
       "    .dataframe tbody tr th:only-of-type {\n",
       "        vertical-align: middle;\n",
       "    }\n",
       "\n",
       "    .dataframe tbody tr th {\n",
       "        vertical-align: top;\n",
       "    }\n",
       "\n",
       "    .dataframe thead th {\n",
       "        text-align: right;\n",
       "    }\n",
       "</style>\n",
       "<table border=\"1\" class=\"dataframe\">\n",
       "  <thead>\n",
       "    <tr style=\"text-align: right;\">\n",
       "      <th></th>\n",
       "      <th>year</th>\n",
       "      <th>price</th>\n",
       "      <th>mileage</th>\n",
       "      <th>engineSize</th>\n",
       "      <th>transmission_Manual</th>\n",
       "      <th>transmission_Semi-Auto</th>\n",
       "      <th>fuelType_Petrol</th>\n",
       "    </tr>\n",
       "  </thead>\n",
       "  <tbody>\n",
       "    <tr>\n",
       "      <th>0</th>\n",
       "      <td>2016</td>\n",
       "      <td>8000</td>\n",
       "      <td>38852</td>\n",
       "      <td>1.0</td>\n",
       "      <td>1</td>\n",
       "      <td>0</td>\n",
       "      <td>1</td>\n",
       "    </tr>\n",
       "    <tr>\n",
       "      <th>1</th>\n",
       "      <td>2019</td>\n",
       "      <td>13400</td>\n",
       "      <td>11952</td>\n",
       "      <td>1.0</td>\n",
       "      <td>1</td>\n",
       "      <td>0</td>\n",
       "      <td>1</td>\n",
       "    </tr>\n",
       "    <tr>\n",
       "      <th>2</th>\n",
       "      <td>2019</td>\n",
       "      <td>14600</td>\n",
       "      <td>22142</td>\n",
       "      <td>1.5</td>\n",
       "      <td>1</td>\n",
       "      <td>0</td>\n",
       "      <td>1</td>\n",
       "    </tr>\n",
       "    <tr>\n",
       "      <th>3</th>\n",
       "      <td>2016</td>\n",
       "      <td>9450</td>\n",
       "      <td>14549</td>\n",
       "      <td>1.6</td>\n",
       "      <td>1</td>\n",
       "      <td>0</td>\n",
       "      <td>0</td>\n",
       "    </tr>\n",
       "    <tr>\n",
       "      <th>4</th>\n",
       "      <td>2015</td>\n",
       "      <td>9999</td>\n",
       "      <td>7010</td>\n",
       "      <td>1.6</td>\n",
       "      <td>1</td>\n",
       "      <td>0</td>\n",
       "      <td>0</td>\n",
       "    </tr>\n",
       "    <tr>\n",
       "      <th>...</th>\n",
       "      <td>...</td>\n",
       "      <td>...</td>\n",
       "      <td>...</td>\n",
       "      <td>...</td>\n",
       "      <td>...</td>\n",
       "      <td>...</td>\n",
       "      <td>...</td>\n",
       "    </tr>\n",
       "    <tr>\n",
       "      <th>5449</th>\n",
       "      <td>2019</td>\n",
       "      <td>18745</td>\n",
       "      <td>7855</td>\n",
       "      <td>2.0</td>\n",
       "      <td>1</td>\n",
       "      <td>0</td>\n",
       "      <td>0</td>\n",
       "    </tr>\n",
       "    <tr>\n",
       "      <th>5450</th>\n",
       "      <td>2019</td>\n",
       "      <td>16350</td>\n",
       "      <td>13891</td>\n",
       "      <td>1.0</td>\n",
       "      <td>1</td>\n",
       "      <td>0</td>\n",
       "      <td>1</td>\n",
       "    </tr>\n",
       "    <tr>\n",
       "      <th>5451</th>\n",
       "      <td>2019</td>\n",
       "      <td>16850</td>\n",
       "      <td>13452</td>\n",
       "      <td>1.0</td>\n",
       "      <td>1</td>\n",
       "      <td>0</td>\n",
       "      <td>1</td>\n",
       "    </tr>\n",
       "    <tr>\n",
       "      <th>5452</th>\n",
       "      <td>2019</td>\n",
       "      <td>17310</td>\n",
       "      <td>13376</td>\n",
       "      <td>1.0</td>\n",
       "      <td>0</td>\n",
       "      <td>0</td>\n",
       "      <td>1</td>\n",
       "    </tr>\n",
       "    <tr>\n",
       "      <th>5453</th>\n",
       "      <td>2019</td>\n",
       "      <td>17610</td>\n",
       "      <td>7886</td>\n",
       "      <td>1.0</td>\n",
       "      <td>0</td>\n",
       "      <td>0</td>\n",
       "      <td>1</td>\n",
       "    </tr>\n",
       "  </tbody>\n",
       "</table>\n",
       "<p>5454 rows × 7 columns</p>\n",
       "</div>"
      ],
      "text/plain": [
       "      year  price  mileage  engineSize  transmission_Manual  \\\n",
       "0     2016   8000    38852         1.0                    1   \n",
       "1     2019  13400    11952         1.0                    1   \n",
       "2     2019  14600    22142         1.5                    1   \n",
       "3     2016   9450    14549         1.6                    1   \n",
       "4     2015   9999     7010         1.6                    1   \n",
       "...    ...    ...      ...         ...                  ...   \n",
       "5449  2019  18745     7855         2.0                    1   \n",
       "5450  2019  16350    13891         1.0                    1   \n",
       "5451  2019  16850    13452         1.0                    1   \n",
       "5452  2019  17310    13376         1.0                    0   \n",
       "5453  2019  17610     7886         1.0                    0   \n",
       "\n",
       "      transmission_Semi-Auto  fuelType_Petrol  \n",
       "0                          0                1  \n",
       "1                          0                1  \n",
       "2                          0                1  \n",
       "3                          0                0  \n",
       "4                          0                0  \n",
       "...                      ...              ...  \n",
       "5449                       0                0  \n",
       "5450                       0                1  \n",
       "5451                       0                1  \n",
       "5452                       0                1  \n",
       "5453                       0                1  \n",
       "\n",
       "[5454 rows x 7 columns]"
      ]
     },
     "execution_count": 18,
     "metadata": {},
     "output_type": "execute_result"
    }
   ],
   "source": [
    "df_onehot = pd.get_dummies(df, drop_first=True)\n",
    "df_onehot"
   ]
  },
  {
   "cell_type": "markdown",
   "metadata": {},
   "source": [
    "Usando o `drop_first`, a gente retira as colunas redudantes (evitando a multicolinearidade).\n",
    "\n",
    "Porque se o carro não for: Semi-Auto ou Manual, ele só pode ser **Automático**.\n",
    "\n",
    "O mesmo vale para combustível: Ou é Petrol (Gasolina) ou é **Diesel**."
   ]
  },
  {
   "cell_type": "markdown",
   "metadata": {},
   "source": [
    "## Pipeline de modelagem"
   ]
  },
  {
   "cell_type": "markdown",
   "metadata": {},
   "source": [
    "### Variável preditiva e variável resposta"
   ]
  },
  {
   "cell_type": "code",
   "execution_count": 19,
   "metadata": {},
   "outputs": [],
   "source": [
    "X = df_onehot.drop(columns=\"price\", axis=1)\n",
    "y = df_onehot.price"
   ]
  },
  {
   "cell_type": "code",
   "execution_count": 20,
   "metadata": {},
   "outputs": [
    {
     "data": {
      "text/html": [
       "<div>\n",
       "<style scoped>\n",
       "    .dataframe tbody tr th:only-of-type {\n",
       "        vertical-align: middle;\n",
       "    }\n",
       "\n",
       "    .dataframe tbody tr th {\n",
       "        vertical-align: top;\n",
       "    }\n",
       "\n",
       "    .dataframe thead th {\n",
       "        text-align: right;\n",
       "    }\n",
       "</style>\n",
       "<table border=\"1\" class=\"dataframe\">\n",
       "  <thead>\n",
       "    <tr style=\"text-align: right;\">\n",
       "      <th></th>\n",
       "      <th>year</th>\n",
       "      <th>mileage</th>\n",
       "      <th>engineSize</th>\n",
       "      <th>transmission_Manual</th>\n",
       "      <th>transmission_Semi-Auto</th>\n",
       "      <th>fuelType_Petrol</th>\n",
       "    </tr>\n",
       "  </thead>\n",
       "  <tbody>\n",
       "    <tr>\n",
       "      <th>0</th>\n",
       "      <td>2016</td>\n",
       "      <td>38852</td>\n",
       "      <td>1.0</td>\n",
       "      <td>1</td>\n",
       "      <td>0</td>\n",
       "      <td>1</td>\n",
       "    </tr>\n",
       "    <tr>\n",
       "      <th>1</th>\n",
       "      <td>2019</td>\n",
       "      <td>11952</td>\n",
       "      <td>1.0</td>\n",
       "      <td>1</td>\n",
       "      <td>0</td>\n",
       "      <td>1</td>\n",
       "    </tr>\n",
       "    <tr>\n",
       "      <th>2</th>\n",
       "      <td>2019</td>\n",
       "      <td>22142</td>\n",
       "      <td>1.5</td>\n",
       "      <td>1</td>\n",
       "      <td>0</td>\n",
       "      <td>1</td>\n",
       "    </tr>\n",
       "    <tr>\n",
       "      <th>3</th>\n",
       "      <td>2016</td>\n",
       "      <td>14549</td>\n",
       "      <td>1.6</td>\n",
       "      <td>1</td>\n",
       "      <td>0</td>\n",
       "      <td>0</td>\n",
       "    </tr>\n",
       "    <tr>\n",
       "      <th>4</th>\n",
       "      <td>2015</td>\n",
       "      <td>7010</td>\n",
       "      <td>1.6</td>\n",
       "      <td>1</td>\n",
       "      <td>0</td>\n",
       "      <td>0</td>\n",
       "    </tr>\n",
       "    <tr>\n",
       "      <th>...</th>\n",
       "      <td>...</td>\n",
       "      <td>...</td>\n",
       "      <td>...</td>\n",
       "      <td>...</td>\n",
       "      <td>...</td>\n",
       "      <td>...</td>\n",
       "    </tr>\n",
       "    <tr>\n",
       "      <th>5449</th>\n",
       "      <td>2019</td>\n",
       "      <td>7855</td>\n",
       "      <td>2.0</td>\n",
       "      <td>1</td>\n",
       "      <td>0</td>\n",
       "      <td>0</td>\n",
       "    </tr>\n",
       "    <tr>\n",
       "      <th>5450</th>\n",
       "      <td>2019</td>\n",
       "      <td>13891</td>\n",
       "      <td>1.0</td>\n",
       "      <td>1</td>\n",
       "      <td>0</td>\n",
       "      <td>1</td>\n",
       "    </tr>\n",
       "    <tr>\n",
       "      <th>5451</th>\n",
       "      <td>2019</td>\n",
       "      <td>13452</td>\n",
       "      <td>1.0</td>\n",
       "      <td>1</td>\n",
       "      <td>0</td>\n",
       "      <td>1</td>\n",
       "    </tr>\n",
       "    <tr>\n",
       "      <th>5452</th>\n",
       "      <td>2019</td>\n",
       "      <td>13376</td>\n",
       "      <td>1.0</td>\n",
       "      <td>0</td>\n",
       "      <td>0</td>\n",
       "      <td>1</td>\n",
       "    </tr>\n",
       "    <tr>\n",
       "      <th>5453</th>\n",
       "      <td>2019</td>\n",
       "      <td>7886</td>\n",
       "      <td>1.0</td>\n",
       "      <td>0</td>\n",
       "      <td>0</td>\n",
       "      <td>1</td>\n",
       "    </tr>\n",
       "  </tbody>\n",
       "</table>\n",
       "<p>5454 rows × 6 columns</p>\n",
       "</div>"
      ],
      "text/plain": [
       "      year  mileage  engineSize  transmission_Manual  transmission_Semi-Auto  \\\n",
       "0     2016    38852         1.0                    1                       0   \n",
       "1     2019    11952         1.0                    1                       0   \n",
       "2     2019    22142         1.5                    1                       0   \n",
       "3     2016    14549         1.6                    1                       0   \n",
       "4     2015     7010         1.6                    1                       0   \n",
       "...    ...      ...         ...                  ...                     ...   \n",
       "5449  2019     7855         2.0                    1                       0   \n",
       "5450  2019    13891         1.0                    1                       0   \n",
       "5451  2019    13452         1.0                    1                       0   \n",
       "5452  2019    13376         1.0                    0                       0   \n",
       "5453  2019     7886         1.0                    0                       0   \n",
       "\n",
       "      fuelType_Petrol  \n",
       "0                   1  \n",
       "1                   1  \n",
       "2                   1  \n",
       "3                   0  \n",
       "4                   0  \n",
       "...               ...  \n",
       "5449                0  \n",
       "5450                1  \n",
       "5451                1  \n",
       "5452                1  \n",
       "5453                1  \n",
       "\n",
       "[5454 rows x 6 columns]"
      ]
     },
     "execution_count": 20,
     "metadata": {},
     "output_type": "execute_result"
    }
   ],
   "source": [
    "X"
   ]
  },
  {
   "cell_type": "markdown",
   "metadata": {},
   "source": [
    "### Vamos ver a distribuição da nossa variável resposta\n",
    "\n",
    "Diferentemente dos problemas de classificação, que a nossa variável, na maioria das vezes, valia **0** ou **1**.\n",
    "\n",
    "Aqui na Regressão, a nossa variável pode valer qualquer valor: de - infinito até + infinito"
   ]
  },
  {
   "cell_type": "code",
   "execution_count": 21,
   "metadata": {},
   "outputs": [
    {
     "data": {
      "image/png": "[encoded data removed]",
      "text/plain": [
       "<Figure size 1080x360 with 1 Axes>"
      ]
     },
     "metadata": {
      "needs_background": "light"
     },
     "output_type": "display_data"
    }
   ],
   "source": [
    "plt.figure(figsize=(15,5))\n",
    "\n",
    "plt.hist(y, bins=30, rwidth=.8)\n",
    "\n",
    "plt.show()"
   ]
  },
  {
   "cell_type": "markdown",
   "metadata": {},
   "source": [
    "<br>\n",
    "\n",
    "#### Podemos visualizar que temos dados de Outliers"
   ]
  },
  {
   "cell_type": "code",
   "execution_count": 26,
   "metadata": {},
   "outputs": [
    {
     "data": {
      "text/plain": [
       "<function matplotlib.pyplot.show(close=None, block=None)>"
      ]
     },
     "execution_count": 26,
     "metadata": {},
     "output_type": "execute_result"
    },
    {
     "data": {
      "image/png": "[encoded data removed]",
      "text/plain": [
       "<Figure size 576x576 with 1 Axes>"
      ]
     },
     "metadata": {
      "needs_background": "light"
     },
     "output_type": "display_data"
    }
   ],
   "source": [
    "plt.figure(figsize=(8,8))\n",
    "plt.boxplot(df.price)\n",
    "\n",
    "plt.show"
   ]
  },
  {
   "cell_type": "markdown",
   "metadata": {},
   "source": [
    "### Vamos colocar a nossa base em escala logarítmica para ver melhor"
   ]
  },
  {
   "cell_type": "code",
   "execution_count": 27,
   "metadata": {},
   "outputs": [
    {
     "data": {
      "image/png": "[encoded data removed]",
      "text/plain": [
       "<Figure size 1080x360 with 1 Axes>"
      ]
     },
     "metadata": {
      "needs_background": "light"
     },
     "output_type": "display_data"
    }
   ],
   "source": [
    "plt.figure(figsize=(15,5))\n",
    "\n",
    "plt.hist(y, bins=30, rwidth=.8, log=True)\n",
    "\n",
    "plt.grid()\n",
    "\n",
    "plt.show()"
   ]
  },
  {
   "cell_type": "code",
   "execution_count": 32,
   "metadata": {},
   "outputs": [
    {
     "data": {
      "image/png": "[encoded data removed]",
      "text/plain": [
       "<Figure size 1080x360 with 1 Axes>"
      ]
     },
     "metadata": {
      "needs_background": "light"
     },
     "output_type": "display_data"
    }
   ],
   "source": [
    "plt.figure(figsize=(15,5))\n",
    "\n",
    "plt.hist(y, bins=30, rwidth=.8, log=True)\n",
    "\n",
    "## Podemos colocar o nosso X em base logaritmica\n",
    "plt.xscale(\"log\")\n",
    "\n",
    "plt.grid()\n",
    "\n",
    "plt.show()"
   ]
  },
  {
   "cell_type": "code",
   "execution_count": 30,
   "metadata": {},
   "outputs": [
    {
     "data": {
      "image/png": "[encoded data removed]",
      "text/plain": [
       "<Figure size 1080x360 with 1 Axes>"
      ]
     },
     "metadata": {
      "needs_background": "light"
     },
     "output_type": "display_data"
    }
   ],
   "source": [
    "plt.figure(figsize=(15,5))\n",
    "\n",
    "plt.hist(y, bins=np.logspace(0,5,30), rwidth=.8, log=True)\n",
    "\n",
    "plt.xscale(\"log\")\n",
    "\n",
    "plt.grid()\n",
    "\n",
    "plt.show()"
   ]
  },
  {
   "cell_type": "markdown",
   "metadata": {},
   "source": [
    "## Vamos treinar o modelo"
   ]
  },
  {
   "cell_type": "markdown",
   "metadata": {},
   "source": [
    "### Separando em treino e teste"
   ]
  },
  {
   "cell_type": "code",
   "execution_count": 33,
   "metadata": {},
   "outputs": [],
   "source": [
    "from sklearn.model_selection import train_test_split\n",
    "\n",
    "X_treino, X_teste, y_treino, y_teste = train_test_split(X,y, random_state=61658, test_size=.30)"
   ]
  },
  {
   "cell_type": "code",
   "execution_count": 38,
   "metadata": {},
   "outputs": [
    {
     "data": {
      "text/plain": [
       "5454"
      ]
     },
     "execution_count": 38,
     "metadata": {},
     "output_type": "execute_result"
    }
   ],
   "source": [
    "X_treino.shape[0] + X_teste.shape[0]"
   ]
  },
  {
   "cell_type": "code",
   "execution_count": 35,
   "metadata": {},
   "outputs": [
    {
     "data": {
      "text/plain": [
       "(5454, 6)"
      ]
     },
     "execution_count": 35,
     "metadata": {},
     "output_type": "execute_result"
    }
   ],
   "source": [
    "df.shape"
   ]
  },
  {
   "cell_type": "markdown",
   "metadata": {},
   "source": [
    "## <span style=\"color:red\">CUIDADO</span>\n",
    "\n",
    "### Como vamos compará-las, nossas variáveis precisam estar na mesma escala! \n",
    "\n",
    " - Isso é uma \"limitação\" dos otimizadores internos da Regressão Linear\n",
    " \n",
    "Para isso, vamos **normalizar os dados**\n",
    "$$\n",
    "X_{novo} = \\frac{X - média(X)}{std(X)}\n",
    "$$\n",
    "\n",
    "Isso vai ajudar a gente a **interpretar** o modelo"
   ]
  },
  {
   "cell_type": "code",
   "execution_count": 40,
   "metadata": {},
   "outputs": [
    {
     "data": {
      "text/plain": [
       "23106.7060518732"
      ]
     },
     "execution_count": 40,
     "metadata": {},
     "output_type": "execute_result"
    }
   ],
   "source": [
    "## Tira a média da variável\n",
    "\n",
    "X_treino[\"mileage\"].mean()"
   ]
  },
  {
   "cell_type": "code",
   "execution_count": 41,
   "metadata": {},
   "outputs": [
    {
     "data": {
      "text/plain": [
       "1039    20180.293948\n",
       "1497    -1489.706052\n",
       "4574     7260.293948\n",
       "2860   -11674.706052\n",
       "1710   -11892.706052\n",
       "            ...     \n",
       "483    -19714.706052\n",
       "4184    54893.293948\n",
       "614    -16140.706052\n",
       "3836    23893.293948\n",
       "4604   -11724.706052\n",
       "Name: mileage, Length: 3817, dtype: float64"
      ]
     },
     "execution_count": 41,
     "metadata": {},
     "output_type": "execute_result"
    }
   ],
   "source": [
    "## Faz a subtração do valor da variável - a média da variável:\n",
    "\n",
    "(X_treino[\"mileage\"] - X_treino[\"mileage\"].mean())"
   ]
  },
  {
   "cell_type": "code",
   "execution_count": 42,
   "metadata": {},
   "outputs": [
    {
     "data": {
      "text/plain": [
       "1039    0.975388\n",
       "1497   -0.072003\n",
       "4574    0.350917\n",
       "2860   -0.564282\n",
       "1710   -0.574819\n",
       "          ...   \n",
       "483    -0.952885\n",
       "4184    2.653196\n",
       "614    -0.780140\n",
       "3836    1.154851\n",
       "4604   -0.566699\n",
       "Name: mileage, Length: 3817, dtype: float64"
      ]
     },
     "execution_count": 42,
     "metadata": {},
     "output_type": "execute_result"
    }
   ],
   "source": [
    "## Como ainda não fica em uma escala comparável, vamos dividir pelo desvio padrão da variável:\n",
    "\n",
    "(X_treino[\"mileage\"] - X_treino[\"mileage\"].mean()) / X_treino[\"mileage\"].std()"
   ]
  },
  {
   "cell_type": "code",
   "execution_count": 43,
   "metadata": {},
   "outputs": [
    {
     "data": {
      "text/html": [
       "<div>\n",
       "<style scoped>\n",
       "    .dataframe tbody tr th:only-of-type {\n",
       "        vertical-align: middle;\n",
       "    }\n",
       "\n",
       "    .dataframe tbody tr th {\n",
       "        vertical-align: top;\n",
       "    }\n",
       "\n",
       "    .dataframe thead th {\n",
       "        text-align: right;\n",
       "    }\n",
       "</style>\n",
       "<table border=\"1\" class=\"dataframe\">\n",
       "  <thead>\n",
       "    <tr style=\"text-align: right;\">\n",
       "      <th></th>\n",
       "      <th>year</th>\n",
       "      <th>mileage</th>\n",
       "      <th>engineSize</th>\n",
       "      <th>transmission_Manual</th>\n",
       "      <th>transmission_Semi-Auto</th>\n",
       "      <th>fuelType_Petrol</th>\n",
       "    </tr>\n",
       "  </thead>\n",
       "  <tbody>\n",
       "    <tr>\n",
       "      <th>1039</th>\n",
       "      <td>2015</td>\n",
       "      <td>43287</td>\n",
       "      <td>1.5</td>\n",
       "      <td>1</td>\n",
       "      <td>0</td>\n",
       "      <td>0</td>\n",
       "    </tr>\n",
       "    <tr>\n",
       "      <th>1497</th>\n",
       "      <td>2017</td>\n",
       "      <td>21617</td>\n",
       "      <td>2.0</td>\n",
       "      <td>1</td>\n",
       "      <td>0</td>\n",
       "      <td>0</td>\n",
       "    </tr>\n",
       "    <tr>\n",
       "      <th>4574</th>\n",
       "      <td>2015</td>\n",
       "      <td>30367</td>\n",
       "      <td>2.0</td>\n",
       "      <td>1</td>\n",
       "      <td>0</td>\n",
       "      <td>1</td>\n",
       "    </tr>\n",
       "    <tr>\n",
       "      <th>2860</th>\n",
       "      <td>2017</td>\n",
       "      <td>11432</td>\n",
       "      <td>2.0</td>\n",
       "      <td>1</td>\n",
       "      <td>0</td>\n",
       "      <td>1</td>\n",
       "    </tr>\n",
       "    <tr>\n",
       "      <th>1710</th>\n",
       "      <td>2019</td>\n",
       "      <td>11214</td>\n",
       "      <td>1.0</td>\n",
       "      <td>0</td>\n",
       "      <td>0</td>\n",
       "      <td>1</td>\n",
       "    </tr>\n",
       "  </tbody>\n",
       "</table>\n",
       "</div>"
      ],
      "text/plain": [
       "      year  mileage  engineSize  transmission_Manual  transmission_Semi-Auto  \\\n",
       "1039  2015    43287         1.5                    1                       0   \n",
       "1497  2017    21617         2.0                    1                       0   \n",
       "4574  2015    30367         2.0                    1                       0   \n",
       "2860  2017    11432         2.0                    1                       0   \n",
       "1710  2019    11214         1.0                    0                       0   \n",
       "\n",
       "      fuelType_Petrol  \n",
       "1039                0  \n",
       "1497                0  \n",
       "4574                1  \n",
       "2860                1  \n",
       "1710                1  "
      ]
     },
     "execution_count": 43,
     "metadata": {},
     "output_type": "execute_result"
    }
   ],
   "source": [
    "X_treino.head()"
   ]
  },
  {
   "cell_type": "code",
   "execution_count": 48,
   "metadata": {},
   "outputs": [],
   "source": [
    "X_treino_s = X_treino.copy()\n",
    "X_teste_s  = X_teste.copy()\n",
    "\n",
    "from sklearn.preprocessing import StandardScaler\n",
    "\n",
    "## Vamos colocar as colunas numéricas:\n",
    "\n",
    "cols_to_scale = ['year', \n",
    "                 \"mileage\", \n",
    "                 \"engineSize\"]\n",
    "\n",
    "## Vamos escalar cada coluna:\n",
    "\n",
    "scalers = {}\n",
    "\n",
    "for col in cols_to_scale:\n",
    "    scalers[col] = StandardScaler()\n",
    "    scalers[col].fit(X_treino_s[[col]])\n",
    "    \n",
    "    X_treino_s.loc[:, col] = scalers[col].transform(X_treino_s[[col]])\n",
    "    X_teste_s.loc[:, col]  = scalers[col].transform(X_teste_s[[col]])"
   ]
  },
  {
   "cell_type": "code",
   "execution_count": 50,
   "metadata": {},
   "outputs": [
    {
     "data": {
      "text/html": [
       "<div>\n",
       "<style scoped>\n",
       "    .dataframe tbody tr th:only-of-type {\n",
       "        vertical-align: middle;\n",
       "    }\n",
       "\n",
       "    .dataframe tbody tr th {\n",
       "        vertical-align: top;\n",
       "    }\n",
       "\n",
       "    .dataframe thead th {\n",
       "        text-align: right;\n",
       "    }\n",
       "</style>\n",
       "<table border=\"1\" class=\"dataframe\">\n",
       "  <thead>\n",
       "    <tr style=\"text-align: right;\">\n",
       "      <th></th>\n",
       "      <th>year</th>\n",
       "      <th>mileage</th>\n",
       "      <th>engineSize</th>\n",
       "      <th>transmission_Manual</th>\n",
       "      <th>transmission_Semi-Auto</th>\n",
       "      <th>fuelType_Petrol</th>\n",
       "    </tr>\n",
       "  </thead>\n",
       "  <tbody>\n",
       "    <tr>\n",
       "      <th>1039</th>\n",
       "      <td>-0.955057</td>\n",
       "      <td>0.975516</td>\n",
       "      <td>0.329983</td>\n",
       "      <td>1</td>\n",
       "      <td>0</td>\n",
       "      <td>0</td>\n",
       "    </tr>\n",
       "    <tr>\n",
       "      <th>1497</th>\n",
       "      <td>-0.039459</td>\n",
       "      <td>-0.072012</td>\n",
       "      <td>1.575824</td>\n",
       "      <td>1</td>\n",
       "      <td>0</td>\n",
       "      <td>0</td>\n",
       "    </tr>\n",
       "    <tr>\n",
       "      <th>4574</th>\n",
       "      <td>-0.955057</td>\n",
       "      <td>0.350963</td>\n",
       "      <td>1.575824</td>\n",
       "      <td>1</td>\n",
       "      <td>0</td>\n",
       "      <td>1</td>\n",
       "    </tr>\n",
       "    <tr>\n",
       "      <th>2860</th>\n",
       "      <td>-0.039459</td>\n",
       "      <td>-0.564356</td>\n",
       "      <td>1.575824</td>\n",
       "      <td>1</td>\n",
       "      <td>0</td>\n",
       "      <td>1</td>\n",
       "    </tr>\n",
       "    <tr>\n",
       "      <th>1710</th>\n",
       "      <td>0.876138</td>\n",
       "      <td>-0.574894</td>\n",
       "      <td>-0.915858</td>\n",
       "      <td>0</td>\n",
       "      <td>0</td>\n",
       "      <td>1</td>\n",
       "    </tr>\n",
       "    <tr>\n",
       "      <th>...</th>\n",
       "      <td>...</td>\n",
       "      <td>...</td>\n",
       "      <td>...</td>\n",
       "      <td>...</td>\n",
       "      <td>...</td>\n",
       "      <td>...</td>\n",
       "    </tr>\n",
       "    <tr>\n",
       "      <th>483</th>\n",
       "      <td>0.876138</td>\n",
       "      <td>-0.953010</td>\n",
       "      <td>-0.915858</td>\n",
       "      <td>1</td>\n",
       "      <td>0</td>\n",
       "      <td>1</td>\n",
       "    </tr>\n",
       "    <tr>\n",
       "      <th>4184</th>\n",
       "      <td>-0.955057</td>\n",
       "      <td>2.653544</td>\n",
       "      <td>0.579151</td>\n",
       "      <td>1</td>\n",
       "      <td>0</td>\n",
       "      <td>0</td>\n",
       "    </tr>\n",
       "    <tr>\n",
       "      <th>614</th>\n",
       "      <td>0.876138</td>\n",
       "      <td>-0.780242</td>\n",
       "      <td>0.329983</td>\n",
       "      <td>1</td>\n",
       "      <td>0</td>\n",
       "      <td>1</td>\n",
       "    </tr>\n",
       "    <tr>\n",
       "      <th>3836</th>\n",
       "      <td>-0.955057</td>\n",
       "      <td>1.155003</td>\n",
       "      <td>1.575824</td>\n",
       "      <td>1</td>\n",
       "      <td>0</td>\n",
       "      <td>1</td>\n",
       "    </tr>\n",
       "    <tr>\n",
       "      <th>4604</th>\n",
       "      <td>0.418340</td>\n",
       "      <td>-0.566773</td>\n",
       "      <td>-0.915858</td>\n",
       "      <td>1</td>\n",
       "      <td>0</td>\n",
       "      <td>1</td>\n",
       "    </tr>\n",
       "  </tbody>\n",
       "</table>\n",
       "<p>3817 rows × 6 columns</p>\n",
       "</div>"
      ],
      "text/plain": [
       "          year   mileage  engineSize  transmission_Manual  \\\n",
       "1039 -0.955057  0.975516    0.329983                    1   \n",
       "1497 -0.039459 -0.072012    1.575824                    1   \n",
       "4574 -0.955057  0.350963    1.575824                    1   \n",
       "2860 -0.039459 -0.564356    1.575824                    1   \n",
       "1710  0.876138 -0.574894   -0.915858                    0   \n",
       "...        ...       ...         ...                  ...   \n",
       "483   0.876138 -0.953010   -0.915858                    1   \n",
       "4184 -0.955057  2.653544    0.579151                    1   \n",
       "614   0.876138 -0.780242    0.329983                    1   \n",
       "3836 -0.955057  1.155003    1.575824                    1   \n",
       "4604  0.418340 -0.566773   -0.915858                    1   \n",
       "\n",
       "      transmission_Semi-Auto  fuelType_Petrol  \n",
       "1039                       0                0  \n",
       "1497                       0                0  \n",
       "4574                       0                1  \n",
       "2860                       0                1  \n",
       "1710                       0                1  \n",
       "...                      ...              ...  \n",
       "483                        0                1  \n",
       "4184                       0                0  \n",
       "614                        0                1  \n",
       "3836                       0                1  \n",
       "4604                       0                1  \n",
       "\n",
       "[3817 rows x 6 columns]"
      ]
     },
     "execution_count": 50,
     "metadata": {},
     "output_type": "execute_result"
    }
   ],
   "source": [
    "## Agora todas as nossas variáveis estão entre -1 e 1; exceto as que não foram transformadas\n",
    "\n",
    "X_treino_s"
   ]
  },
  {
   "cell_type": "markdown",
   "metadata": {},
   "source": [
    "## Ajuste do modelo\n",
    "\n",
    "Esses é um dos raríssimos métodos que não tem `GridSearch`. PORÉM, se formos usar **Regularização**, temos que fazer `GridSearch`! "
   ]
  },
  {
   "cell_type": "code",
   "execution_count": 57,
   "metadata": {},
   "outputs": [],
   "source": [
    "from sklearn.linear_model import LinearRegression\n",
    "\n",
    "lr = LinearRegression(\n",
    "    fit_intercept=True,  ## Isso fala para o método: \"olhe, calcule qual é o preço do carro padrão\"\n",
    "    normalize=False,\n",
    "    n_jobs=1,\n",
    ")"
   ]
  },
  {
   "cell_type": "code",
   "execution_count": 56,
   "metadata": {},
   "outputs": [
    {
     "name": "stdout",
     "output_type": "stream",
     "text": [
      "CPU times: user 5.52 ms, sys: 53 µs, total: 5.57 ms\n",
      "Wall time: 3.68 ms\n"
     ]
    },
    {
     "data": {
      "text/plain": [
       "LinearRegression(n_jobs=3)"
      ]
     },
     "execution_count": 56,
     "metadata": {},
     "output_type": "execute_result"
    }
   ],
   "source": [
    "%%time\n",
    "\n",
    "lr.fit(X_treino_s, y_treino)"
   ]
  },
  {
   "cell_type": "code",
   "execution_count": 59,
   "metadata": {},
   "outputs": [
    {
     "name": "stdout",
     "output_type": "stream",
     "text": [
      "CPU times: user 4.73 ms, sys: 172 µs, total: 4.9 ms\n",
      "Wall time: 3.47 ms\n"
     ]
    },
    {
     "data": {
      "text/plain": [
       "LinearRegression(n_jobs=1)"
      ]
     },
     "execution_count": 59,
     "metadata": {},
     "output_type": "execute_result"
    }
   ],
   "source": [
    "%%time\n",
    "\n",
    "lr.fit(X_treino_s, y_treino)"
   ]
  },
  {
   "cell_type": "code",
   "execution_count": 60,
   "metadata": {},
   "outputs": [
    {
     "data": {
      "text/plain": [
       "array([ 7720.72363582, 15846.34811528, 11686.59464787, ...,\n",
       "       14696.25327554, 11625.08622673, 14909.56340961])"
      ]
     },
     "execution_count": 60,
     "metadata": {},
     "output_type": "execute_result"
    }
   ],
   "source": [
    "y_pred = lr.predict(X_teste_s)\n",
    "y_pred"
   ]
  },
  {
   "cell_type": "code",
   "execution_count": 61,
   "metadata": {},
   "outputs": [
    {
     "data": {
      "text/html": [
       "<div>\n",
       "<style scoped>\n",
       "    .dataframe tbody tr th:only-of-type {\n",
       "        vertical-align: middle;\n",
       "    }\n",
       "\n",
       "    .dataframe tbody tr th {\n",
       "        vertical-align: top;\n",
       "    }\n",
       "\n",
       "    .dataframe thead th {\n",
       "        text-align: right;\n",
       "    }\n",
       "</style>\n",
       "<table border=\"1\" class=\"dataframe\">\n",
       "  <thead>\n",
       "    <tr style=\"text-align: right;\">\n",
       "      <th></th>\n",
       "      <th>year</th>\n",
       "      <th>mileage</th>\n",
       "      <th>engineSize</th>\n",
       "      <th>transmission_Manual</th>\n",
       "      <th>transmission_Semi-Auto</th>\n",
       "      <th>fuelType_Petrol</th>\n",
       "    </tr>\n",
       "  </thead>\n",
       "  <tbody>\n",
       "    <tr>\n",
       "      <th>467</th>\n",
       "      <td>2014</td>\n",
       "      <td>39000</td>\n",
       "      <td>1.5</td>\n",
       "      <td>1</td>\n",
       "      <td>0</td>\n",
       "      <td>0</td>\n",
       "    </tr>\n",
       "    <tr>\n",
       "      <th>1363</th>\n",
       "      <td>2018</td>\n",
       "      <td>30699</td>\n",
       "      <td>1.5</td>\n",
       "      <td>1</td>\n",
       "      <td>0</td>\n",
       "      <td>1</td>\n",
       "    </tr>\n",
       "    <tr>\n",
       "      <th>1185</th>\n",
       "      <td>2017</td>\n",
       "      <td>27489</td>\n",
       "      <td>1.0</td>\n",
       "      <td>1</td>\n",
       "      <td>0</td>\n",
       "      <td>1</td>\n",
       "    </tr>\n",
       "    <tr>\n",
       "      <th>3748</th>\n",
       "      <td>2017</td>\n",
       "      <td>9137</td>\n",
       "      <td>1.0</td>\n",
       "      <td>0</td>\n",
       "      <td>0</td>\n",
       "      <td>1</td>\n",
       "    </tr>\n",
       "    <tr>\n",
       "      <th>1266</th>\n",
       "      <td>2017</td>\n",
       "      <td>30815</td>\n",
       "      <td>2.0</td>\n",
       "      <td>1</td>\n",
       "      <td>0</td>\n",
       "      <td>1</td>\n",
       "    </tr>\n",
       "  </tbody>\n",
       "</table>\n",
       "</div>"
      ],
      "text/plain": [
       "      year  mileage  engineSize  transmission_Manual  transmission_Semi-Auto  \\\n",
       "467   2014    39000         1.5                    1                       0   \n",
       "1363  2018    30699         1.5                    1                       0   \n",
       "1185  2017    27489         1.0                    1                       0   \n",
       "3748  2017     9137         1.0                    0                       0   \n",
       "1266  2017    30815         2.0                    1                       0   \n",
       "\n",
       "      fuelType_Petrol  \n",
       "467                 0  \n",
       "1363                1  \n",
       "1185                1  \n",
       "3748                1  \n",
       "1266                1  "
      ]
     },
     "execution_count": 61,
     "metadata": {},
     "output_type": "execute_result"
    }
   ],
   "source": [
    "X_teste.head()"
   ]
  },
  {
   "cell_type": "markdown",
   "metadata": {},
   "source": [
    "## Como validar uma Regressão?\n",
    "\n",
    "### O mais comum é usar o MSE e o MAE\n",
    "\n",
    "MSE = Mean squared Error (Erro quadrático médio)\n",
    "\n",
    "RMSE = Raiz do MSE\n",
    "\n",
    "MAE = Mean Absolute Error - Ao invés de elevar ao quadrado, eu tiro o módulo"
   ]
  },
  {
   "cell_type": "code",
   "execution_count": 63,
   "metadata": {},
   "outputs": [
    {
     "data": {
      "text/plain": [
       "-55.005579922551746"
      ]
     },
     "execution_count": 63,
     "metadata": {},
     "output_type": "execute_result"
    }
   ],
   "source": [
    "(y_pred - y_teste).mean()"
   ]
  },
  {
   "cell_type": "markdown",
   "metadata": {},
   "source": [
    "#### Não faz sentido a gente errar (-55)\n",
    "\n",
    "#### Então, vamos elevar ao quadrado:"
   ]
  },
  {
   "cell_type": "code",
   "execution_count": 64,
   "metadata": {},
   "outputs": [
    {
     "data": {
      "text/plain": [
       "4467235.317877821"
      ]
     },
     "execution_count": 64,
     "metadata": {},
     "output_type": "execute_result"
    }
   ],
   "source": [
    "((y_pred - y_teste)**2).mean()"
   ]
  },
  {
   "cell_type": "markdown",
   "metadata": {},
   "source": [
    "#### Mesmo assim, ainda fica dificil da gente ver o valor exato que estamos errando\n",
    "\n",
    "#### Então, vamos tirar a raiz quadrada:"
   ]
  },
  {
   "cell_type": "code",
   "execution_count": 65,
   "metadata": {},
   "outputs": [
    {
     "data": {
      "text/plain": [
       "2113.5835251718395"
      ]
     },
     "execution_count": 65,
     "metadata": {},
     "output_type": "execute_result"
    }
   ],
   "source": [
    "np.sqrt(((y_pred - y_teste)**2).mean())"
   ]
  },
  {
   "cell_type": "markdown",
   "metadata": {},
   "source": [
    "#### E aqui podemos ver que estamos errando ~ 2 mil dólares"
   ]
  },
  {
   "cell_type": "code",
   "execution_count": 68,
   "metadata": {},
   "outputs": [
    {
     "data": {
      "text/plain": [
       "2113.5835251718386"
      ]
     },
     "execution_count": 68,
     "metadata": {},
     "output_type": "execute_result"
    }
   ],
   "source": [
    "from sklearn.metrics import mean_squared_error\n",
    "\n",
    "np.sqrt(mean_squared_error(y_teste, y_pred))"
   ]
  },
  {
   "cell_type": "markdown",
   "metadata": {},
   "source": [
    "#### MAE = Mean Absolute Error (módulo)"
   ]
  },
  {
   "cell_type": "code",
   "execution_count": 70,
   "metadata": {},
   "outputs": [
    {
     "data": {
      "text/plain": [
       "37.339307536954024"
      ]
     },
     "execution_count": 70,
     "metadata": {},
     "output_type": "execute_result"
    }
   ],
   "source": [
    "from sklearn.metrics import mean_absolute_error\n",
    "\n",
    "np.sqrt(mean_absolute_error(y_teste, y_pred))"
   ]
  },
  {
   "cell_type": "code",
   "execution_count": 71,
   "metadata": {},
   "outputs": [
    {
     "data": {
      "text/plain": [
       "37.339307536954045"
      ]
     },
     "execution_count": 71,
     "metadata": {},
     "output_type": "execute_result"
    }
   ],
   "source": [
    "## A mesma coisa que:\n",
    "\n",
    "## A média do y_predito - y_real em módulo\n",
    "## 1/n SOMA |y_pred - y_real|\n",
    "\n",
    "\n",
    "np.sqrt( (np.abs(y_pred - y_teste)).mean() )"
   ]
  },
  {
   "cell_type": "markdown",
   "metadata": {},
   "source": [
    "#### Por causa do Outliers, os valores estão tão diferentes\n",
    "\n",
    "#### O MSE (erro quadrático médio), por elevar ao quadrado, deixa o valor maior\n",
    "\n",
    "#### O MAE (erro absoluto médio), por ser módulo, deixa o valor um pouco menor"
   ]
  },
  {
   "cell_type": "markdown",
   "metadata": {},
   "source": [
    "## Vamos ver a distribuição da variável resposta REAL e a PREDITA"
   ]
  },
  {
   "cell_type": "code",
   "execution_count": 73,
   "metadata": {},
   "outputs": [
    {
     "data": {
      "image/png": "[encoded data removed]",
      "text/plain": [
       "<Figure size 1080x360 with 1 Axes>"
      ]
     },
     "metadata": {
      "needs_background": "light"
     },
     "output_type": "display_data"
    }
   ],
   "source": [
    "plt.figure(figsize=(15,5))\n",
    "\n",
    "M = y_teste.max()\n",
    "\n",
    "## Y TESTE - Preço ORIGINAL:\n",
    "plt.hist(y_teste, bins=np.linspace(0,M,20), rwidth=.8, alpha=.3, color='b', density=True)\n",
    "plt.hist(y_pred, bins=np.linspace(0,M,20), rwidth=.8, alpha=.3, color='r', density=True)\n",
    "\n",
    "plt.show()"
   ]
  },
  {
   "cell_type": "code",
   "execution_count": 74,
   "metadata": {},
   "outputs": [
    {
     "data": {
      "image/png": "[encoded data removed]",
      "text/plain": [
       "<Figure size 1080x360 with 1 Axes>"
      ]
     },
     "metadata": {
      "needs_background": "light"
     },
     "output_type": "display_data"
    }
   ],
   "source": [
    "plt.figure(figsize=(15,5))\n",
    "\n",
    "plt.hist(y_pred-y_teste, bins=15, rwidth=.8, density=False)\n",
    "\n",
    "plt.show()"
   ]
  },
  {
   "cell_type": "markdown",
   "metadata": {},
   "source": [
    "### O nosso modelo TENDE a erra pra MENOS, de subestimar\n",
    "\n",
    "#### Vamos ver em escala LOG:"
   ]
  },
  {
   "cell_type": "code",
   "execution_count": 76,
   "metadata": {},
   "outputs": [
    {
     "data": {
      "image/png": "[encoded data removed]",
      "text/plain": [
       "<Figure size 1080x360 with 1 Axes>"
      ]
     },
     "metadata": {
      "needs_background": "light"
     },
     "output_type": "display_data"
    }
   ],
   "source": [
    "plt.figure(figsize=(15,5))\n",
    "\n",
    "plt.hist(y_pred-y_teste, bins=15, rwidth=.8, density=False, log=True)\n",
    "\n",
    "plt.show()"
   ]
  },
  {
   "cell_type": "markdown",
   "metadata": {},
   "source": [
    "# Interpretação dos dados"
   ]
  },
  {
   "cell_type": "code",
   "execution_count": 78,
   "metadata": {},
   "outputs": [
    {
     "data": {
      "text/plain": [
       "12787.799519157743"
      ]
     },
     "execution_count": 78,
     "metadata": {},
     "output_type": "execute_result"
    }
   ],
   "source": [
    "## Preço do carro ideal, carro padrão:\n",
    "\n",
    "lr.intercept_"
   ]
  },
  {
   "cell_type": "code",
   "execution_count": 79,
   "metadata": {},
   "outputs": [
    {
     "data": {
      "text/plain": [
       "array([ 2879.4927325 , -1248.99540827,  2436.37404227,  -843.14949219,\n",
       "       -1882.46855829,  2351.52658558])"
      ]
     },
     "execution_count": 79,
     "metadata": {},
     "output_type": "execute_result"
    }
   ],
   "source": [
    "## O peso que estamos dando para cada variável:\n",
    "\n",
    "lr.coef_"
   ]
  },
  {
   "cell_type": "code",
   "execution_count": 81,
   "metadata": {},
   "outputs": [
    {
     "name": "stdout",
     "output_type": "stream",
     "text": [
      "year                                               : 2879.493\n",
      "mileage                                            : -1248.995\n",
      "engineSize                                         : 2436.374\n",
      "transmission_Manual                                : -843.149\n",
      "transmission_Semi-Auto                             : -1882.469\n",
      "fuelType_Petrol                                    : 2351.527\n"
     ]
    }
   ],
   "source": [
    "for col,coef in zip(X_treino.columns, lr.coef_):\n",
    "    print(f'{col:50s} : {coef:7.3f}')"
   ]
  },
  {
   "cell_type": "markdown",
   "metadata": {},
   "source": [
    "# A equação do preço é:\n",
    "\n",
    "$$\n",
    "y = \\beta_0 + \\beta_{ano} \\cdot ano + \\beta_{mileage} \\cdot mileage + \\beta_{engineSize} \\cdot engineSize + \\beta_{Trans.Manual} \\cdot Trans.Manual + \\beta_{Trans.Semi} \\cdot Trans.Semi + \\beta_{fuel.Petrol} \\cdot fuel.Petrol\n",
    "$$"
   ]
  },
  {
   "cell_type": "markdown",
   "metadata": {},
   "source": [
    "# Ok, mas o que significa esse $\\beta_0$?"
   ]
  },
  {
   "cell_type": "markdown",
   "metadata": {},
   "source": [
    "Carro com todas variáveis zeradas!\n",
    " - Lembre-se da normalização\n",
    " - E do one-hot!\n",
    "   - câmbio automático\n",
    "   - combustível diesel"
   ]
  },
  {
   "cell_type": "markdown",
   "metadata": {},
   "source": [
    "# Como é o \"carro padrão\"?"
   ]
  },
  {
   "cell_type": "code",
   "execution_count": 82,
   "metadata": {},
   "outputs": [
    {
     "name": "stdout",
     "output_type": "stream",
     "text": [
      "year [2017.08619335] [2.18436596]\n",
      "milage [23106.70605187] [20686.78450964]\n",
      "engineSize [1.36756615] [0.40133543]\n"
     ]
    }
   ],
   "source": [
    "print( 'year', scalers[\"year\"].mean_, scalers['year'].scale_)\n",
    "print( 'milage', scalers[\"mileage\"].mean_, scalers[\"mileage\"].scale_)\n",
    "print( 'engineSize', scalers[\"engineSize\"].mean_, scalers[\"engineSize\"].scale_)"
   ]
  },
  {
   "cell_type": "markdown",
   "metadata": {},
   "source": [
    "# O carro padrão é:\n",
    "\n",
    " - Um carro de **$2017$**\n",
    " \n",
    " - Com **$23106$ milhas rodadas**\n",
    " \n",
    " - Com tamanho de motor de **$1.367$**\n",
    " \n",
    " - Câmbio **automático**\n",
    " \n",
    " - Combustível a **diesel**\n",
    " \n",
    " \n",
    "E este carro, segundo o modelo, custa **$12788$**"
   ]
  },
  {
   "cell_type": "markdown",
   "metadata": {},
   "source": [
    "# Interpretação sobre o impacto da variável `mileage`:"
   ]
  },
  {
   "cell_type": "code",
   "execution_count": 83,
   "metadata": {},
   "outputs": [
    {
     "data": {
      "text/plain": [
       "(array([23106.70605187]), array([20686.78450964]))"
      ]
     },
     "execution_count": 83,
     "metadata": {},
     "output_type": "execute_result"
    }
   ],
   "source": [
    "scalers['mileage'].mean_, scalers['mileage'].scale_"
   ]
  },
  {
   "cell_type": "markdown",
   "metadata": {},
   "source": [
    " - Um carro com milhagem de <u>exatamente</u> $23106$ não sofre impacto dessa variável\n",
    " \n",
    " \n",
    " - Carros com milhagens **menores** que esse valor tem a predição do preço **aumentada**\n",
    "   - A cada 20_686 milhas, o carro encarece $1248$\n",
    "   \n",
    "   \n",
    " - Carros com milhagens **maiores** que esse valor tem a predição do preço **reduzida**\n",
    "   - A cada 20_686 milhas, o carro barateia $1248$"
   ]
  },
  {
   "cell_type": "markdown",
   "metadata": {},
   "source": [
    "# Interpretação sobre a variável `transmission`"
   ]
  },
  {
   "cell_type": "markdown",
   "metadata": {},
   "source": [
    "### Repetindo as variáveis, pra facilitar"
   ]
  },
  {
   "cell_type": "code",
   "execution_count": 84,
   "metadata": {},
   "outputs": [
    {
     "name": "stdout",
     "output_type": "stream",
     "text": [
      "year                                               : 2879.493\n",
      "mileage                                            : -1248.995\n",
      "engineSize                                         : 2436.374\n",
      "transmission_Manual                                : -843.149\n",
      "transmission_Semi-Auto                             : -1882.469\n",
      "fuelType_Petrol                                    : 2351.527\n"
     ]
    }
   ],
   "source": [
    "for col,coef in zip(X_treino.columns, lr.coef_):\n",
    "    print(f'{col:50s} : {coef:7.3f}')"
   ]
  },
  {
   "cell_type": "markdown",
   "metadata": {},
   "source": [
    " - Carros automáticos não sofrem alteração no preço (isso está embutido no interceto - \"Carro padrão\")\n",
    " \n",
    " - Carros semi-automáticos têm uma redução da predição de $1882$\n",
    " \n",
    " - Carros manuais têm uma redução da predição de $843$"
   ]
  },
  {
   "cell_type": "markdown",
   "metadata": {},
   "source": [
    "# Vamos ver com uma lupa aquele OutLier?"
   ]
  },
  {
   "cell_type": "code",
   "execution_count": 87,
   "metadata": {},
   "outputs": [
    {
     "data": {
      "image/png": "[encoded data removed]",
      "text/plain": [
       "<Figure size 1080x360 with 1 Axes>"
      ]
     },
     "metadata": {
      "needs_background": "light"
     },
     "output_type": "display_data"
    }
   ],
   "source": [
    "plt.figure(figsize=(15,5))\n",
    "\n",
    "M = y_teste.max()\n",
    "\n",
    "plt.hist(y_teste  , bins=np.linspace(0,M,20), rwidth=.8, alpha=.3, color='C0', density=True, log=True)\n",
    "plt.hist(y_pred, bins=np.linspace(0,M,20), rwidth=.8, alpha=.3, color='C3', density=True, log=True)\n",
    "\n",
    "plt.show()"
   ]
  },
  {
   "cell_type": "markdown",
   "metadata": {},
   "source": [
    "### Lembrando do carro padrão:\n",
    " \n",
    " - Um carro de **$2017$**\n",
    " \n",
    " - Com **$23106$ milhas rodadas**\n",
    " \n",
    " - Com tamanho de motor de **$1.367$**\n",
    " \n",
    " - Câmbio **automático**\n",
    " \n",
    " - Combustível a **diesel**\n",
    " \n",
    " \n",
    "E este carro, segundo o modelo, custa **$12788$**"
   ]
  },
  {
   "cell_type": "code",
   "execution_count": 88,
   "metadata": {},
   "outputs": [
    {
     "data": {
      "text/plain": [
       "3342    54995\n",
       "Name: price, dtype: int64"
      ]
     },
     "execution_count": 88,
     "metadata": {},
     "output_type": "execute_result"
    }
   ],
   "source": [
    "y_teste[ y_teste>50_000 ]"
   ]
  },
  {
   "cell_type": "code",
   "execution_count": 89,
   "metadata": {},
   "outputs": [
    {
     "data": {
      "text/html": [
       "<div>\n",
       "<style scoped>\n",
       "    .dataframe tbody tr th:only-of-type {\n",
       "        vertical-align: middle;\n",
       "    }\n",
       "\n",
       "    .dataframe tbody tr th {\n",
       "        vertical-align: top;\n",
       "    }\n",
       "\n",
       "    .dataframe thead th {\n",
       "        text-align: right;\n",
       "    }\n",
       "</style>\n",
       "<table border=\"1\" class=\"dataframe\">\n",
       "  <thead>\n",
       "    <tr style=\"text-align: right;\">\n",
       "      <th></th>\n",
       "      <th>year</th>\n",
       "      <th>mileage</th>\n",
       "      <th>engineSize</th>\n",
       "      <th>transmission_Manual</th>\n",
       "      <th>transmission_Semi-Auto</th>\n",
       "      <th>fuelType_Petrol</th>\n",
       "    </tr>\n",
       "  </thead>\n",
       "  <tbody>\n",
       "    <tr>\n",
       "      <th>3342</th>\n",
       "      <td>2018</td>\n",
       "      <td>11000</td>\n",
       "      <td>2.3</td>\n",
       "      <td>1</td>\n",
       "      <td>0</td>\n",
       "      <td>1</td>\n",
       "    </tr>\n",
       "  </tbody>\n",
       "</table>\n",
       "</div>"
      ],
      "text/plain": [
       "      year  mileage  engineSize  transmission_Manual  transmission_Semi-Auto  \\\n",
       "3342  2018    11000         2.3                    1                       0   \n",
       "\n",
       "      fuelType_Petrol  \n",
       "3342                1  "
      ]
     },
     "execution_count": 89,
     "metadata": {},
     "output_type": "execute_result"
    }
   ],
   "source": [
    "X_teste.loc[ y_teste>50_000 ]"
   ]
  },
  {
   "cell_type": "code",
   "execution_count": 90,
   "metadata": {},
   "outputs": [
    {
     "data": {
      "text/plain": [
       "array([21892.23869156])"
      ]
     },
     "execution_count": 90,
     "metadata": {},
     "output_type": "execute_result"
    }
   ],
   "source": [
    "y_pred[y_teste>50_000]"
   ]
  },
  {
   "cell_type": "markdown",
   "metadata": {},
   "source": [
    "#### É realmente um carro em bom estado. A base, aparentemente, não nos fornece mais informações pra justificar essa venda tão discrepante!"
   ]
  }
 ],
 "metadata": {
  "kernelspec": {
   "display_name": "Python 3",
   "language": "python",
   "name": "python3"
  },
  "language_info": {
   "codemirror_mode": {
    "name": "ipython",
    "version": 3
   },
   "file_extension": ".py",
   "mimetype": "text/x-python",
   "name": "python",
   "nbconvert_exporter": "python",
   "pygments_lexer": "ipython3",
   "version": "3.8.5"
  }
 },
 "nbformat": 4,
 "nbformat_minor": 4
}
